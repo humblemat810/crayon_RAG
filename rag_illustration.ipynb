{
 "cells": [
  {
   "cell_type": "markdown",
   "metadata": {},
   "source": [
    "## RAG exercise illustration\n",
    "\n",
    "In this lab, we will go through the data exploration stage to check what are the basic data type. And will come up a first prototype, everything in ram are passed to LLM in 1 go. Create some basic function, sanity tests, edge cases and will then propose 2 different approaches. Semantically splitted RAG and indexed semantically splitted RAG. splitting by character or delimiter patterns are omitted due to lots of problems already experienced by the author in past experiences.\n",
    "\n",
    "We will finally evaluate Retrieval and generation using the metrics we developed."
   ]
  },
  {
   "cell_type": "markdown",
   "metadata": {},
   "source": [
    "final package for reference in case to reproduce the environment"
   ]
  },
  {
   "cell_type": "code",
   "execution_count": 275,
   "metadata": {},
   "outputs": [
    {
     "name": "stdout",
     "output_type": "stream",
     "text": [
      "aiohappyeyeballs==2.4.3\n",
      "aiohttp==3.11.2\n",
      "aiosignal==1.3.1\n",
      "annotated-types==0.7.0\n",
      "anyio==4.6.2.post1\n",
      "asgiref==3.8.1\n",
      "asttokens==2.4.1\n",
      "async-timeout==4.0.3\n",
      "attrs==24.2.0\n",
      "backoff==2.2.1\n",
      "bcrypt==4.2.0\n",
      "build==1.2.2.post1\n",
      "cachetools==5.5.0\n",
      "certifi==2024.8.30\n",
      "charset-normalizer==3.4.0\n",
      "chroma-hnswlib==0.7.6\n",
      "chromadb==0.5.18\n",
      "click==8.1.7\n",
      "colorama==0.4.6\n",
      "coloredlogs==15.0.1\n",
      "comm==0.2.2\n",
      "dataclasses-json==0.6.7\n",
      "debugpy==1.8.8\n",
      "decorator==5.1.1\n",
      "Deprecated==1.2.15\n",
      "distro==1.9.0\n",
      "durationpy==0.9\n",
      "exceptiongroup==1.2.2\n",
      "executing==2.1.0\n",
      "fastapi==0.115.5\n",
      "filelock==3.16.1\n",
      "flatbuffers==24.3.25\n",
      "frozenlist==1.5.0\n",
      "fsspec==2024.10.0\n",
      "google-auth==2.36.0\n",
      "googleapis-common-protos==1.66.0\n",
      "greenlet==3.1.1\n",
      "grpcio==1.68.0\n",
      "h11==0.14.0\n",
      "httpcore==1.0.7\n",
      "httptools==0.6.4\n",
      "httpx==0.27.2\n",
      "httpx-sse==0.4.0\n",
      "huggingface-hub==0.26.2\n",
      "humanfriendly==10.0\n",
      "idna==3.10\n",
      "importlib_metadata==8.5.0\n",
      "importlib_resources==6.4.5\n",
      "ipykernel==6.29.5\n",
      "ipython==8.29.0\n",
      "jedi==0.19.2\n",
      "jiter==0.7.1\n",
      "joblib==1.4.2\n",
      "jsonpatch==1.33\n",
      "jsonpointer==3.0.0\n",
      "jupyter_client==8.6.3\n",
      "jupyter_core==5.7.2\n",
      "kubernetes==31.0.0\n",
      "langchain==0.3.7\n",
      "langchain-chroma==0.1.4\n",
      "langchain-community==0.3.7\n",
      "langchain-core==0.3.19\n",
      "langchain-openai==0.2.8\n",
      "langchain-text-splitters==0.3.2\n",
      "langsmith==0.1.143\n",
      "markdown-it-py==3.0.0\n",
      "marshmallow==3.23.1\n",
      "matplotlib-inline==0.1.7\n",
      "mdurl==0.1.2\n",
      "mmh3==5.0.1\n",
      "monotonic==1.6\n",
      "mpmath==1.3.0\n",
      "multidict==6.1.0\n",
      "mypy-extensions==1.0.0\n",
      "nest-asyncio==1.6.0\n",
      "numpy==1.26.4\n",
      "oauthlib==3.2.2\n",
      "onnxruntime==1.20.0\n",
      "openai==1.54.4\n",
      "opentelemetry-api==1.28.1\n",
      "opentelemetry-exporter-otlp-proto-common==1.28.1\n",
      "opentelemetry-exporter-otlp-proto-grpc==1.28.1\n",
      "opentelemetry-instrumentation==0.49b1\n",
      "opentelemetry-instrumentation-asgi==0.49b1\n",
      "opentelemetry-instrumentation-fastapi==0.49b1\n",
      "opentelemetry-proto==1.28.1\n",
      "opentelemetry-sdk==1.28.1\n",
      "opentelemetry-semantic-conventions==0.49b1\n",
      "opentelemetry-util-http==0.49b1\n",
      "orjson==3.10.11\n",
      "overrides==7.7.0\n",
      "packaging==24.2\n",
      "pandas==2.2.3\n",
      "parso==0.8.4\n",
      "platformdirs==4.3.6\n",
      "posthog==3.7.0\n",
      "prompt_toolkit==3.0.48\n",
      "propcache==0.2.0\n",
      "protobuf==5.28.3\n",
      "psutil==6.1.0\n",
      "pure_eval==0.2.3\n",
      "pyasn1==0.6.1\n",
      "pyasn1_modules==0.4.1\n",
      "pydantic==2.9.2\n",
      "pydantic-settings==2.6.1\n",
      "pydantic_core==2.23.4\n",
      "Pygments==2.18.0\n",
      "PyPika==0.48.9\n",
      "pyproject_hooks==1.2.0\n",
      "pyreadline3==3.5.4\n",
      "python-dateutil==2.9.0.post0\n",
      "python-dotenv==1.0.1\n",
      "pytz==2024.2\n",
      "pywin32==308\n",
      "PyYAML==6.0.2\n",
      "pyzmq==26.2.0\n",
      "regex==2024.11.6\n",
      "requests==2.32.3\n",
      "requests-oauthlib==2.0.0\n",
      "requests-toolbelt==1.0.0\n",
      "rich==13.9.4\n",
      "rsa==4.9\n",
      "scikit-learn==1.5.2\n",
      "scipy==1.14.1\n",
      "shellingham==1.5.4\n",
      "six==1.16.0\n",
      "sniffio==1.3.1\n",
      "SQLAlchemy==2.0.35\n",
      "stack-data==0.6.3\n",
      "starlette==0.41.2\n",
      "sympy==1.13.3\n",
      "tenacity==9.0.0\n",
      "threadpoolctl==3.5.0\n",
      "tiktoken==0.8.0\n",
      "tokenizers==0.20.3\n",
      "tomli==2.1.0\n",
      "tornado==6.4.1\n",
      "tqdm==4.67.0\n",
      "traitlets==5.14.3\n",
      "typer==0.13.0\n",
      "typing-inspect==0.9.0\n",
      "typing_extensions==4.12.2\n",
      "tzdata==2024.2\n",
      "urllib3==2.2.3\n",
      "uvicorn==0.32.0\n",
      "watchfiles==0.24.0\n",
      "wcwidth==0.2.13\n",
      "websocket-client==1.8.0\n",
      "websockets==14.1\n",
      "wrapt==1.16.0\n",
      "yarl==1.17.1\n",
      "zipp==3.21.0\n"
     ]
    }
   ],
   "source": [
    "!pip freeze"
   ]
  },
  {
   "cell_type": "markdown",
   "metadata": {},
   "source": [
    "install some packages"
   ]
  },
  {
   "cell_type": "code",
   "execution_count": null,
   "metadata": {},
   "outputs": [],
   "source": [
    "!pip install langchain langchain-openai langchain-community"
   ]
  },
  {
   "cell_type": "code",
   "execution_count": null,
   "metadata": {},
   "outputs": [],
   "source": [
    "!pip install chromadb"
   ]
  },
  {
   "cell_type": "markdown",
   "metadata": {},
   "source": [
    "# Data Exploration\n",
    "\n",
    "Lets take a look at the policy document to see what the policy description looks like"
   ]
  },
  {
   "cell_type": "code",
   "execution_count": 1,
   "metadata": {},
   "outputs": [
    {
     "name": "stdout",
     "output_type": "stream",
     "text": [
      "### Comprehensive Data Privacy Policy\n",
      "\n",
      "**1. Introduction**\n",
      "\n",
      "**Purpose of the Policy:**  \n",
      "At [Company Name], safeguarding the privacy and security of personal data is a foundational principle of our business operations. This Data Privacy Policy is designed to transparently communicate our unwavering commitment to the protection of personal information across all aspects of our operations, reflecting our dedication to ethical practices and legal compliance.\n",
      "\n",
      "**Scope of the Policy:**  \n",
      "This policy applies universally to all personal and sensitive information collected by [Company Name] from our customers, users, and employees. It encompasses all forms of data handling activities related to our services, products, and platforms, irrespective of the data collection medium or geographic location of the data subjects.\n",
      "\n",
      "**2. Data Collection Practices**\n",
      "\n",
      "**Types of Data Collected:**\n",
      "- **Personal Identification Information (PII):** Includes but is not limited to names, email addresses, physical addresses, telephone numbers, and payment details.\n",
      "- **Usage Data:** Comprises data on how individuals access and utilize our services, such as time stamps, clicked links, and viewed pages.\n",
      "- **Interaction Data:** Consists of data generated from user interactions with our services, including customer support interactions, user feedback, and activity logs.\n",
      "\n",
      "**Methods of Data Collection:**\n",
      "- **Direct Interactions:** Data collected via account registrations, service subscriptions, purchases, and direct communications.\n",
      "- **Automated Technologies:** Utilization of cookies, web beacons, and other similar technologies to gather data that helps us understand user preferences and site usage patterns.\n",
      "\n",
      "**Purpose of Data Collection:**  \n",
      "The data collected serves multiple purposes:\n",
      "- To enhance the functionality and security of our services.\n",
      "- To personalize user experiences.\n",
      "- To support internal operations such as auditing, data analysis, and research to improve our offerings.\n",
      "- To train and refine our AI models, ensuring they are effective and ethical in their applications.\n",
      "\n",
      "**3. Data Storage and Management**\n",
      "\n",
      "**Data Storage Locations:**  \n",
      "Data is securely stored in state-of-the-art data centers located in the United States, the European Union, and other jurisdictions, depending on the nature of the data and the services provided. Each location is chosen based on stringent security standards and data protection compliance.\n",
      "\n",
      "**Data Security Measures:**\n",
      "- **Encryption Techniques:** Utilizing advanced encryption standards to protect data at rest and in transit.\n",
      "- **Access Controls:** Implementation of role-based access controls (RBAC) to ensure that only authorized personnel have access to sensitive data, based on their job responsibilities.\n",
      "- **Regular Security Audits:** Conducting comprehensive security audits and vulnerability assessments to proactively manage and mitigate risks.\n",
      "\n",
      "**Data Retention Policy:**  \n",
      "We adhere to a strict data retention policy that specifies the duration for which different types of data are held. Data is only retained as long as necessary to fulfill the stated purposes, after which it is securely deleted or anonymized.\n",
      "\n",
      "**4. Data Usage**\n",
      "\n",
      "**Internal Use of Data:**\n",
      "- **Product and Service Enhancement:** Using collected data to improve existing services and develop new offerings.\n",
      "- **AI Model Training:** Employing data in the training and refinement of AI algorithms to ensure accuracy and fairness.\n",
      "\n",
      "**Decision-Making Processes:**  \n",
      "We utilize data-driven insights to facilitate automated and semi-automated decision-making processes. These are designed with a focus on fairness, accuracy, and accountability, incorporating mechanisms for human oversight and intervention when necessary.\n",
      "\n",
      "**User Benefits:**  \n",
      "The use of data significantly enhances our ability to offer personalized and efficient services, improving overall user satisfaction and engagement.\n",
      "\n",
      "**5. Data Sharing and Disclosure**\n",
      "\n",
      "**Circumstances Under Which Data is Shared:**\n",
      "- **Service Providers:** Sharing with trusted partners who provide data processing services on our behalf, under strict confidentiality agreements.\n",
      "- **Legal and Compliance Requirements:** Disclosing data when required by law, such as in response to legal processes or for compliance with regulatory obligations.\n",
      "\n",
      "**Safeguards for Data Sharing:**  \n",
      "We implement robust contractual protections to ensure that any data shared is treated in accordance with our privacy standards and applicable laws.\n",
      "\n",
      "**User Control and Consent:**  \n",
      "Providing users with comprehensive control over their personal information, including mechanisms to grant or withdraw consent, access data, and request data deletion.\n",
      "\n",
      "**6. Rights of Data Subjects**\n",
      "\n",
      "**Access to Data:**  \n",
      "Users have the right to access their data and receive information about its processing, ensuring they can verify legality and accuracy.\n",
      "\n",
      "**Data Correction and Deletion:**  \n",
      "We provide options for users to correct inaccuracies in their data or to have it erased from our systems, subject to certain conditions.\n",
      "\n",
      "**Data Portability:**  \n",
      "Facilitating the right of data portability, allowing users to obtain and reuse their personal data across different services.\n",
      "\n",
      "**7. Policy Enforcement and Compliance**\n",
      "\n",
      "**Compliance with Laws and Regulations:**  \n",
      "Our policy adheres to international, federal, and state regulations, ensuring compliance with laws such as GDPR, CCPA, and others.\n",
      "\n",
      "**Reporting and Addressing Violations:**  \n",
      "We have established a formal procedure for addressing data privacy concerns and policy violations, ensuring prompt and effective resolution.\n",
      "\n",
      "**Updates to the Policy:**\n",
      "\n",
      "  \n",
      "This policy may be updated periodically to reflect changes in our practices or legal requirements, with substantial changes communicated directly to users.\n",
      "\n",
      "**8. Contact Information**\n",
      "\n",
      "**Contact Details for Privacy Concerns:**  \n",
      "For further inquiries or concerns regarding our Data Privacy Policy, users can contact our Data Protection Officer at [privacy@email.com].\n",
      "\n",
      "**9. Conclusion**\n",
      "\n",
      "At [Company Name], we are dedicated to maintaining the trust of our users by adhering to the highest standards of data privacy and security. We encourage all users to review this policy regularly to stay informed of how we protect their personal information.\n",
      "\n"
     ]
    }
   ],
   "source": [
    "import os\n",
    "with open(os.path.join(\"Policy_exm\", \"Policy_1.txt\"), \"r\") as f:\n",
    "    print(f.read())"
   ]
  },
  {
   "cell_type": "markdown",
   "metadata": {},
   "source": [
    "So it is in markdown format, as rendered below"
   ]
  },
  {
   "cell_type": "markdown",
   "metadata": {},
   "source": [
    "### Comprehensive Data Privacy Policy\n",
    "\n",
    "**1. Introduction**\n",
    "\n",
    "**Purpose of the Policy:**  \n",
    "At [Company Name], safeguarding the privacy and security of personal data is a foundational principle of our business operations. This Data Privacy Policy is designed to transparently communicate our unwavering commitment to the protection of personal information across all aspects of our operations, reflecting our dedication to ethical practices and legal compliance.\n",
    "\n",
    "**Scope of the Policy:**  \n",
    "This policy applies universally to all personal and sensitive information collected by [Company Name] from our customers, users, and employees. It encompasses all forms of data handling activities related to our services, products, and platforms, irrespective of the data collection medium or geographic location of the data subjects.\n",
    "\n",
    "**2. Data Collection Practices**\n",
    "\n",
    "**Types of Data Collected:**\n",
    "- **Personal Identification Information (PII):** Includes but is not limited to names, email addresses, physical addresses, telephone numbers, and payment details.\n",
    "- **Usage Data:** Comprises data on how individuals access and utilize our services, such as time stamps, clicked links, and viewed pages.\n",
    "- **Interaction Data:** Consists of data generated from user interactions with our services, including customer support interactions, user feedback, and activity logs.\n",
    "\n",
    "**Methods of Data Collection:**\n",
    "- **Direct Interactions:** Data collected via account registrations, service subscriptions, purchases, and direct communications.\n",
    "- **Automated Technologies:** Utilization of cookies, web beacons, and other similar technologies to gather data that helps us understand user preferences and site usage patterns.\n",
    "\n",
    "**Purpose of Data Collection:**  \n",
    "The data collected serves multiple purposes:\n",
    "- To enhance the functionality and security of our services.\n",
    "- To personalize user experiences.\n",
    "- To support internal operations such as auditing, data analysis, and research to improve our offerings.\n",
    "- To train and refine our AI models, ensuring they are effective and ethical in their applications.\n",
    "\n",
    "**3. Data Storage and Management**\n",
    "\n",
    "**Data Storage Locations:**  \n",
    "Data is securely stored in state-of-the-art data centers located in the United States, the European Union, and other jurisdictions, depending on the nature of the data and the services provided. Each location is chosen based on stringent security standards and data protection compliance.\n",
    "\n",
    "**Data Security Measures:**\n",
    "- **Encryption Techniques:** Utilizing advanced encryption standards to protect data at rest and in transit.\n",
    "- **Access Controls:** Implementation of role-based access controls (RBAC) to ensure that only authorized personnel have access to sensitive data, based on their job responsibilities.\n",
    "- **Regular Security Audits:** Conducting comprehensive security audits and vulnerability assessments to proactively manage and mitigate risks.\n",
    "\n",
    "**Data Retention Policy:**  \n",
    "We adhere to a strict data retention policy that specifies the duration for which different types of data are held. Data is only retained as long as necessary to fulfill the stated purposes, after which it is securely deleted or anonymized.\n",
    "\n",
    "**4. Data Usage**\n",
    "\n",
    "**Internal Use of Data:**\n",
    "- **Product and Service Enhancement:** Using collected data to improve existing services and develop new offerings.\n",
    "- **AI Model Training:** Employing data in the training and refinement of AI algorithms to ensure accuracy and fairness.\n",
    "\n",
    "**Decision-Making Processes:**  \n",
    "We utilize data-driven insights to facilitate automated and semi-automated decision-making processes. These are designed with a focus on fairness, accuracy, and accountability, incorporating mechanisms for human oversight and intervention when necessary.\n",
    "\n",
    "**User Benefits:**  \n",
    "The use of data significantly enhances our ability to offer personalized and efficient services, improving overall user satisfaction and engagement.\n",
    "\n",
    "**5. Data Sharing and Disclosure**\n",
    "\n",
    "**Circumstances Under Which Data is Shared:**\n",
    "- **Service Providers:** Sharing with trusted partners who provide data processing services on our behalf, under strict confidentiality agreements.\n",
    "- **Legal and Compliance Requirements:** Disclosing data when required by law, such as in response to legal processes or for compliance with regulatory obligations.\n",
    "\n",
    "**Safeguards for Data Sharing:**  \n",
    "We implement robust contractual protections to ensure that any data shared is treated in accordance with our privacy standards and applicable laws.\n",
    "\n",
    "**User Control and Consent:**  \n",
    "Providing users with comprehensive control over their personal information, including mechanisms to grant or withdraw consent, access data, and request data deletion.\n",
    "\n",
    "**6. Rights of Data Subjects**\n",
    "\n",
    "**Access to Data:**  \n",
    "Users have the right to access their data and receive information about its processing, ensuring they can verify legality and accuracy.\n",
    "\n",
    "**Data Correction and Deletion:**  \n",
    "We provide options for users to correct inaccuracies in their data or to have it erased from our systems, subject to certain conditions.\n",
    "\n",
    "**Data Portability:**  \n",
    "Facilitating the right of data portability, allowing users to obtain and reuse their personal data across different services.\n",
    "\n",
    "**7. Policy Enforcement and Compliance**\n",
    "\n",
    "**Compliance with Laws and Regulations:**  \n",
    "Our policy adheres to international, federal, and state regulations, ensuring compliance with laws such as GDPR, CCPA, and others.\n",
    "\n",
    "**Reporting and Addressing Violations:**  \n",
    "We have established a formal procedure for addressing data privacy concerns and policy violations, ensuring prompt and effective resolution.\n",
    "\n",
    "**Updates to the Policy:**\n",
    "\n",
    "  \n",
    "This policy may be updated periodically to reflect changes in our practices or legal requirements, with substantial changes communicated directly to users.\n",
    "\n",
    "**8. Contact Information**\n",
    "\n",
    "**Contact Details for Privacy Concerns:**  \n",
    "For further inquiries or concerns regarding our Data Privacy Policy, users can contact our Data Protection Officer at [privacy@email.com].\n",
    "\n",
    "**9. Conclusion**\n",
    "\n",
    "At [Company Name], we are dedicated to maintaining the trust of our users by adhering to the highest standards of data privacy and security. We encourage all users to review this policy regularly to stay informed of how we protect their personal information.\n"
   ]
  },
  {
   "cell_type": "markdown",
   "metadata": {},
   "source": [
    "## we can peek the other 2 documents similarly"
   ]
  },
  {
   "cell_type": "code",
   "execution_count": 2,
   "metadata": {},
   "outputs": [
    {
     "name": "stdout",
     "output_type": "stream",
     "text": [
      "### Comprehensive AI Ethics Policy Document\n",
      "\n",
      "#### 1. Introduction\n",
      "This document articulates [Company Name]'s unwavering commitment to the ethical development, deployment, and management of artificial intelligence (AI). As a leader in AI innovation, we recognize our responsibility to ensure that our technologies enhance societal well-being and are utilized in a manner that respects human dignity and rights. This policy provides the ethical guidelines our employees and partners must follow to uphold integrity and promote the beneficial use of AI.\n",
      "\n",
      "#### 2. Scope\n",
      "This policy encompasses all AI-related activities at [Company Name], including the design, development, procurement, deployment, maintenance, and decommissioning of AI systems. It applies universally across our global operations, affecting all employees, contractors, consultants, and business partners involved with AI technologies.\n",
      "\n",
      "#### 3. Definitions\n",
      "- **Artificial Intelligence (AI):** Systems or machines that simulate human intelligence processes, capable of learning from data and experience, making autonomous decisions, and performing tasks traditionally requiring human intelligence.\n",
      "- **Fairness:** The attribute of an AI system that impartially, justly, and equitably handles decisions without embedding or perpetuating biases.\n",
      "- **Transparency:** The quality of being open in communication and documentation regarding the methodologies, data, and algorithms used in AI systems.\n",
      "- **Non-Discrimination:** The assurance that AI systems do not engage in or propagate biases based on race, gender, ethnicity, religion, or other prohibited factors.\n",
      "- **Accountability:** The principle that individuals and organizations are responsible for the outcomes of AI systems, including the obligation to rectify any harm caused.\n",
      "\n",
      "#### 4. Principles\n",
      "##### 4.1 Fairness\n",
      "- Develop and implement an ongoing bias monitoring framework that includes periodic reviews of AI systems to identify and mitigate biases.\n",
      "- Collaborate with interdisciplinary teams, including ethicists and sociologists, to understand and address the nuances of fairness in diverse cultural and social contexts.\n",
      "\n",
      "##### 4.2 Transparency\n",
      "- Enhance transparency by developing interfaces that allow users to query AI decisions and receive explanations in understandable terms.\n",
      "- Document all AI systems' decision-making processes and methodologies, ensuring that this documentation is accessible to all relevant stakeholders and regularly updated.\n",
      "\n",
      "##### 4.3 Non-Discrimination\n",
      "- Establish a rigorous protocol for the continuous auditing of AI algorithms and training data sets to detect and correct biases that could lead to discriminatory outcomes.\n",
      "- Create an independent review committee to evaluate and approve all new AI projects for compliance with non-discrimination standards before they are deployed.\n",
      "\n",
      "##### 4.4 Accountability\n",
      "- Implement a standardized AI incident reporting system, which ensures all potential issues are logged, investigated, and addressed promptly.\n",
      "- Define clear escalation paths for ethical concerns related to AI, including a direct line to the AI Ethics Board.\n",
      "\n",
      "#### 5. Implementation\n",
      "##### 5.1 Governance\n",
      "- Enhance the role of the AI Ethics Board to include periodic ethical reviews of existing AI systems, not just new projects, with the authority to recommend modifications or discontinuations based on ethical evaluations.\n",
      "- Introduce a third-party ethics audit performed annually to provide an unbiased assessment of our AI practices.\n",
      "\n",
      "##### 5.2 Risk Assessment\n",
      "- Develop a comprehensive ethical risk assessment toolkit that includes templates, best practices, and guidelines to standardize the assessment process across the company.\n",
      "- Employ predictive modeling to forecast potential ethical issues under various operational scenarios and use these insights to guide AI system development.\n",
      "\n",
      "##### 5.3 Training and Awareness\n",
      "- Establish a continuous learning program on AI ethics, mandating regular updates to training content as ethical standards and technologies evolve.\n",
      "- Promote an ethical AI culture by integrating ethics discussions into regular team meetings and decision-making processes.\n",
      "\n",
      "##### 5.4 Reporting and Auditing\n",
      "- Set up an anonymous ethics violation reporting system, encouraging stakeholders to report any unethical AI practices without fear of retribution.\n",
      "- Publicly release a detailed annual report on ethical practices, challenges, and advancements in AI to maintain transparency and encourage industry-wide ethical standards.\n",
      "\n",
      "#### 6. Enforcement\n",
      "- Specify the procedures for handling violations of this ethics policy, including detailed descriptions of disciplinary actions ranging from warnings to termination, depending on the severity of the breach.\n",
      "\n",
      "#### 7. Review and Updates\n",
      "- Commit to a biannual review cycle for this policy to stay aligned with technological advancements, legal changes, and evolving societal norms regarding AI ethics.\n",
      "\n",
      "### Conclusion\n",
      "By adhering to the expanded guidelines outlined in this AI Ethics Policy, [Company Name] commits to being at the forefront of ethical AI development. This policy ensures that our technologies are used in a way that is beneficial and just, fostering trust and collaboration with all stakeholders involved.\n"
     ]
    }
   ],
   "source": [
    "with open(os.path.join(\"Policy_exm\", \"Policy_2.txt\"), \"r\") as f:\n",
    "    print(f.read())"
   ]
  },
  {
   "cell_type": "code",
   "execution_count": 3,
   "metadata": {},
   "outputs": [
    {
     "name": "stdout",
     "output_type": "stream",
     "text": [
      "## Model Governance Policy\n",
      "\n",
      "### 1. Introduction\n",
      "#### 1.1 Purpose\n",
      "This document delineates the guiding principles and procedures for the governance of artificial intelligence (AI) model development, deployment, and monitoring within our organization. It aims to establish a robust framework that ensures our AI models operate effectively, ethically, and in compliance with all applicable regulations. The policy serves to safeguard our technological innovations, uphold our ethical commitments, and maintain stakeholder trust.\n",
      "\n",
      "#### 1.2 Scope\n",
      "The Model Governance Policy applies to all AI models developed, deployed, or managed by our company, across all departments and subsidiaries. It includes models at various stages of the lifecycle, from initial conception and development through to deployment and continuous monitoring.\n",
      "\n",
      "#### 1.3 Audience\n",
      "This policy is intended for a broad range of stakeholders including AI developers, project managers, compliance officers, and executive leadership. Each role has a responsibility to understand and implement the guidelines set forth in this policy to ensure effective and ethical model governance.\n",
      "\n",
      "### 2. Policy Statement\n",
      "#### 2.1 Commitment to Ethical AI\n",
      "Our company is committed to the highest standards of ethical conduct in all our AI endeavors. We pledge to develop and deploy AI technologies that are fair, transparent, accountable, and secure, respecting privacy and ensuring non-discrimination.\n",
      "\n",
      "### 3. Definitions and Key Terms\n",
      "#### 3.1 Glossary\n",
      "**AI Model**: A software algorithm designed to perform tasks that typically require human intelligence, such as decision-making, prediction, or pattern recognition.\n",
      "**Deployment**: The process of integrating an AI model into operational environments where it can start performing its intended tasks.\n",
      "**Monitoring**: Continuous oversight of AI models to ensure they operate as expected and do not deviate from predefined norms and ethics.\n",
      "\n",
      "### 4. Governance Structure\n",
      "#### 4.1 Governance Roles and Responsibilities\n",
      "- **AI Governance Board**: Oversees all AI initiatives and ensures adherence to this policy.\n",
      "- **Model Owners**: Responsible for the performance and compliance of specific AI models.\n",
      "- **Data Scientists**: Tasked with the development and fine-tuning of AI models according to ethical guidelines.\n",
      "\n",
      "#### 4.2 Decision-Making Authorities\n",
      "Decision-making within the realm of AI model governance is distributed according to the criticality and impact of the decisions. Routine decisions are managed at the departmental level, while strategic and high-impact decisions are escalated to the AI Governance Board.\n",
      "\n",
      "### 5. Development and Testing\n",
      "#### 5.1 Model Design and Development Process\n",
      "AI model development must follow a structured process that includes requirement gathering, design, development, and initial testing phases. Each phase should be documented thoroughly to ensure transparency and accountability. The design phase should consider ethical implications, potential biases, and intended and unintended uses of the model.\n",
      "\n",
      "#### 5.2 Testing and Validation\n",
      "Models must undergo rigorous testing to validate their accuracy, performance, and fairness. Validation tests should be designed to cover various operational scenarios and should include stress and failure mode analysis. Documentation of all test results is mandatory for auditability and further review.\n",
      "\n",
      "### 6. Deployment\n",
      "#### 6.1 Deployment Procedures\n",
      "Before deployment, AI models must be reviewed by the AI Governance Board to ensure compliance with all internal and external standards. This review includes a final round of testing focused on security and performance under expected operational conditions.\n",
      "\n",
      "#### 6.2 Deployment Monitoring\n",
      "Post-deployment, AI models require continuous monitoring to detect and correct any deviation from their expected operational performance or ethical standards. Monitoring strategies include the implementation of automated performance tracking tools and periodic model audits.\n",
      "\n",
      "### 7. Monitoring and Maintenance\n",
      "#### 7.1 Performance Monitoring\n",
      "Continuous performance evaluation is essential to ensure that AI models function as intended over time. This involves regular checks against performance metrics and real-world outcomes to identify any degradation or deviation from expected results.\n",
      "\n",
      "#### 7.2 Model Updating and Maintenance\n",
      "Models must be maintained and updated regularly to adapt to new data, changing environments, or updated regulatory requirements. The maintenance schedule and procedures should be clearly defined and followed meticulously to ensure ongoing relevance and compliance of the AI models.\n",
      "\n",
      "### 8. Compliance and Reporting\n",
      "#### 8.1 Regulatory Compliance\n",
      "All model governance activities must adhere to relevant local, national, and international AI regulations. This compliance is critical not only for legal reasons but also to maintain public trust and uphold ethical standards.\n",
      "\n",
      "#### 8.2 Reporting Mechanisms\n",
      "The company maintains a detailed reporting system for all AI governance activities. These reports are made available to regulatory bodies as required and are an essential tool for internal audits and transparency.\n",
      "\n",
      "### 9. Risk Management\n",
      "#### 9.1 Risk Identification and Assessment\n",
      "Identifying potential risks associated with AI models, including ethical risks, technical failures, and data privacy concerns, is crucial. Each identified risk must be assessed for its impact and likelihood.\n",
      "\n",
      "#### 9.2 Risk Response and Mitigation\n",
      "For each identified risk, a specific mitigation strategy must be developed and implemented. These strategies may include additional training, enhanced security measures, or changes to model development practices.\n",
      "\n",
      "### 10.\n",
      "\n",
      " Training and Awareness\n",
      "#### 10.1 Employee Training Programs\n",
      "We provide comprehensive training to all employees involved in AI development and management. This training covers technical aspects of AI, ethical considerations, and policy guidelines.\n",
      "\n",
      "#### 10.2 Awareness Campaigns\n",
      "Regular awareness campaigns are conducted to keep all staff informed about the latest developments in AI governance, emerging ethical considerations, and new regulatory requirements.\n",
      "\n",
      "### 11. Policy Review and Update\n",
      "#### 11.1 Review Schedule\n",
      "This policy is reviewed bi-annually to ensure its relevance and effectiveness. Reviews are conducted by the AI Governance Board in consultation with key stakeholders.\n",
      "\n",
      "#### 11.2 Updating Procedures\n",
      "Any updates to the policy must be thoroughly documented, approved by the AI Governance Board, and communicated to all affected parties before implementation.\n",
      "\n",
      "### 12. Appendices and Supporting Documents\n",
      "#### 12.1 Related Documents\n",
      "Related policies, guidelines, and documents are listed in the Appendix. These documents provide additional information and operational details supporting this policy.\n",
      "\n",
      "#### 12.2 Contact Information\n",
      "For questions or clarifications regarding any aspect of this policy, please refer to the contact list provided in the Appendix.\n",
      "\n",
      "This document aims to ensure that all AI-related activities are conducted responsibly, ethically, and in compliance with all necessary guidelines and regulations, maintaining the integrity and trustworthiness of our AI applications.\n"
     ]
    }
   ],
   "source": [
    "with open(os.path.join(\"Policy_exm\", \"Policy_3.txt\"), \"r\") as f:\n",
    "    print(f.read())"
   ]
  },
  {
   "cell_type": "markdown",
   "metadata": {},
   "source": [
    "### Patterns found\n",
    "\n",
    "In this document each title and are numbered in markdown format and contain some template pattern to replace with such as `[Company Name]`."
   ]
  },
  {
   "cell_type": "code",
   "execution_count": 4,
   "metadata": {},
   "outputs": [],
   "source": [
    "policies_texts = []\n",
    "policy_dir = \"Policy_exm\"\n",
    "flist = os.listdir(policy_dir)"
   ]
  },
  {
   "cell_type": "code",
   "execution_count": 5,
   "metadata": {},
   "outputs": [],
   "source": [
    "\n",
    "policies_texts = []\n",
    "policy_dir = \"Policy_exm\"\n",
    "flist = os.listdir(policy_dir)\n",
    "for fname in flist:\n",
    "    with open(os.path.join(policy_dir, fname), \"r\") as f:\n",
    "        policies_texts.append(f.read())\n"
   ]
  },
  {
   "cell_type": "markdown",
   "metadata": {},
   "source": [
    "#### sanity test to see if data is read properly"
   ]
  },
  {
   "cell_type": "code",
   "execution_count": 6,
   "metadata": {},
   "outputs": [
    {
     "data": {
      "text/plain": [
       "'## Model Governance Policy\\n\\n### 1. Introduction\\n#### 1.1 Purpose\\nThis document delineates the guiding principles and procedures for the governance of artificial intelligence (AI) model development, deployment, and monitoring within our organization. It aims to establish a robust framework that ensures our AI models operate effectively, ethically, and in compliance with all applicable regulations. The policy serves to safeguard our technological innovations, uphold our ethical commitments, and maintain stakeholder trust.\\n\\n#### 1.2 Scope\\nThe Model Governance Policy applies to all AI models developed, deployed, or managed by our company, across all departments and subsidiaries. It includes models at various stages of the lifecycle, from initial conception and development through to deployment and continuous monitoring.\\n\\n#### 1.3 Audience\\nThis policy is intended for a broad range of stakeholders including AI developers, project managers, compliance officers, and executive leadership. Each '"
      ]
     },
     "execution_count": 6,
     "metadata": {},
     "output_type": "execute_result"
    }
   ],
   "source": [
    "policies_texts[2][:1000]"
   ]
  },
  {
   "cell_type": "markdown",
   "metadata": {},
   "source": [
    "setting up the prompts, a factory function for prompt messages for each policy document"
   ]
  },
  {
   "cell_type": "code",
   "execution_count": 7,
   "metadata": {},
   "outputs": [],
   "source": [
    "company_name = \"Crayon\"\n",
    "def replace_company_name(policy_doc_content: str, company_name: str, replace_target: str = \"[Company Name]\"):\n",
    "    return policy_doc_content.replace( replace_target, company_name)\n",
    "    \n",
    "for i, text in enumerate(policies_texts):\n",
    "    policies_texts[i] = replace_company_name(policy_doc_content = text, company_name = company_name, replace_target = \"[Company Name]\")\n"
   ]
  },
  {
   "cell_type": "code",
   "execution_count": 8,
   "metadata": {},
   "outputs": [
    {
     "name": "stdout",
     "output_type": "stream",
     "text": [
      "### Comprehensive Data Privacy Policy\n",
      "\n",
      "**1. Introduction**\n",
      "\n",
      "**Purpose of the Policy:**  \n",
      "At Crayon, safeguarding the privacy and security of personal data is a foundational principle of our business operations. This Data Privacy Policy is designed to transparently communicate our unwavering commitment to the protection of personal information across all aspects of our operations, reflecting our dedication to ethical practices and legal compliance.\n",
      "\n",
      "**Scope of the Policy:**  \n",
      "This policy applies universally to all personal and sensitive information collected by Crayon from our customers, users, and employees. It encompasses all forms of data handling activities related to our services, products, and platforms, irrespective of the data collection medium or geographic location of the data subjects.\n",
      "\n",
      "**2. Data Collection Practices**\n",
      "\n",
      "**Types of Data Collected:**\n",
      "- **Personal Identification Information (PII):** Includes but is not limited to names, email addresses, physical addresses, telephone numbers, and payment details.\n",
      "- **Usage Data:** Comprises data on how individuals access and utilize our services, such as time stamps, clicked links, and viewed pages.\n",
      "- **Interaction Data:** Consists of data generated from user interactions with our services, including customer support interactions, user feedback, and activity logs.\n",
      "\n",
      "**Methods of Data Collection:**\n",
      "- **Direct Interactions:** Data collected via account registrations, service subscriptions, purchases, and direct communications.\n",
      "- **Automated Technologies:** Utilization of cookies, web beacons, and other similar technologies to gather data that helps us understand user preferences and site usage patterns.\n",
      "\n",
      "**Purpose of Data Collection:**  \n",
      "The data collected serves multiple purposes:\n",
      "- To enhance the functionality and security of our services.\n",
      "- To personalize user experiences.\n",
      "- To support internal operations such as auditing, data analysis, and research to improve our offerings.\n",
      "- To train and refine our AI model\n"
     ]
    }
   ],
   "source": [
    "print(policies_texts[0][:2000])"
   ]
  },
  {
   "cell_type": "code",
   "execution_count": null,
   "metadata": {},
   "outputs": [],
   "source": [
    "!pip install tiktoken"
   ]
  },
  {
   "cell_type": "code",
   "execution_count": 15,
   "metadata": {},
   "outputs": [
    {
     "name": "stdout",
     "output_type": "stream",
     "text": [
      "token count each doc = [1123, 921, 1292]\n"
     ]
    }
   ],
   "source": [
    "import tiktoken\n",
    "encoder = tiktoken.encoding_for_model(\"gpt-4o\")\n",
    "print (f\"token count each doc = {[len(encoder.encode(i)) for i in policies_texts]}\")"
   ]
  },
  {
   "cell_type": "markdown",
   "metadata": {},
   "source": [
    "#### When designing the prompt, exercise prudence and care\n",
    "instruct the LLM not to create answer. No answer is better than wrong answer"
   ]
  },
  {
   "cell_type": "code",
   "execution_count": 7,
   "metadata": {},
   "outputs": [],
   "source": [
    "from langchain_core.messages import SystemMessage, HumanMessage\n",
    "\n",
    "def get_policy_doc_prompt(policy_doc_content, user_query, article_delim = \"\\n\\n\"):\n",
    "    return [\n",
    "        SystemMessage(content = \"You are an expert policy query answering agent. You are given policy documents and you need to answer questions. \"\n",
    "                                \"You cannot do any work for users. For example, you cannot send email, convert data or extract database files.\"\n",
    "                                \"If you are unsure about the content, just tell you are not sure. The documents are below: \\n\"\n",
    "                                f\"{article_delim.join(policy_doc_content)}\"\n",
    "                      ),\n",
    "        HumanMessage(content = f\"User question : {user_query}\")\n",
    "        ]\n",
    "    "
   ]
  },
  {
   "cell_type": "markdown",
   "metadata": {},
   "source": [
    "setup LLM"
   ]
  },
  {
   "cell_type": "code",
   "execution_count": 4,
   "metadata": {},
   "outputs": [],
   "source": [
    "from langchain_openai.chat_models import AzureChatOpenAI"
   ]
  },
  {
   "cell_type": "markdown",
   "metadata": {},
   "source": [
    "##### To put your key in system environment variable or dotenv files"
   ]
  },
  {
   "cell_type": "code",
   "execution_count": 5,
   "metadata": {},
   "outputs": [
    {
     "data": {
      "text/plain": [
       "True"
      ]
     },
     "execution_count": 5,
     "metadata": {},
     "output_type": "execute_result"
    }
   ],
   "source": [
    "import dotenv\n",
    "dotenv.load_dotenv()"
   ]
  },
  {
   "cell_type": "code",
   "execution_count": 6,
   "metadata": {},
   "outputs": [],
   "source": [
    "\n",
    "chat_model = AzureChatOpenAI(deployment_name=os.getenv(\"OPENAI_DEPLOYMENT_NAME_GPT4\"),\n",
    "                            model_name=os.getenv(\"OPENAI_MODEL_NAME_GPT4\"),\n",
    "                            azure_endpoint=os.getenv(\"OPENAI_DEPLOYMENT_ENDPOINT_GPT4\"),\n",
    "                            openai_api_version=os.getenv(\"OPENAI_DEPLOYMENT_VERSION_GPT4\"),\n",
    "                            openai_api_key=os.getenv(\"OPENAI_API_KEY\"),\n",
    "                            temperature=0.3,\n",
    "                            max_tokens = 4096,\n",
    "                            openai_api_type=\"azure\")"
   ]
  },
  {
   "cell_type": "code",
   "execution_count": 8,
   "metadata": {},
   "outputs": [
    {
     "data": {
      "text/plain": [
       "AIMessage(content=\"I'm sorry, but I cannot perform tasks such as converting data into JSON format or sending emails. If you have any questions about the policy documents provided, feel free to ask!\", additional_kwargs={'refusal': None}, response_metadata={'token_usage': {'completion_tokens': 35, 'prompt_tokens': 3429, 'total_tokens': 3464, 'completion_tokens_details': None, 'prompt_tokens_details': None}, 'model_name': 'gpt-4o-2024-08-06', 'system_fingerprint': 'fp_04751d0b65', 'prompt_filter_results': [{'prompt_index': 0, 'content_filter_results': {}}], 'finish_reason': 'stop', 'logprobs': None, 'content_filter_results': {'hate': {'filtered': False, 'severity': 'safe'}, 'self_harm': {'filtered': False, 'severity': 'safe'}, 'sexual': {'filtered': False, 'severity': 'safe'}, 'violence': {'filtered': False, 'severity': 'safe'}}}, id='run-fc118169-172f-44a9-a386-baddc8f8b7a9-0', usage_metadata={'input_tokens': 3429, 'output_tokens': 35, 'total_tokens': 3464, 'input_token_details': {}, 'output_token_details': {}})"
      ]
     },
     "execution_count": 8,
     "metadata": {},
     "output_type": "execute_result"
    }
   ],
   "source": [
    "user_query = \"Can you please convert my data into json format and sent to my email?\"\n",
    "await chat_model.ainvoke(get_policy_doc_prompt(policies_texts, user_query))\n"
   ]
  },
  {
   "cell_type": "code",
   "execution_count": 262,
   "metadata": {},
   "outputs": [
    {
     "data": {
      "text/plain": [
       "AIMessage(content=\"I'm sorry, but I cannot assist with converting data or sending emails.\", additional_kwargs={'refusal': None}, response_metadata={'token_usage': {'completion_tokens': 14, 'prompt_tokens': 3429, 'total_tokens': 3443, 'completion_tokens_details': None, 'prompt_tokens_details': None}, 'model_name': 'gpt-4o-2024-08-06', 'system_fingerprint': 'fp_d54531d9eb', 'prompt_filter_results': [{'prompt_index': 0, 'content_filter_results': {}}], 'finish_reason': 'stop', 'logprobs': None, 'content_filter_results': {'hate': {'filtered': False, 'severity': 'safe'}, 'self_harm': {'filtered': False, 'severity': 'safe'}, 'sexual': {'filtered': False, 'severity': 'safe'}, 'violence': {'filtered': False, 'severity': 'safe'}}}, id='run-75e9ba7e-3bcc-449c-9924-b810ffae0995-0', usage_metadata={'input_tokens': 3429, 'output_tokens': 14, 'total_tokens': 3443, 'input_token_details': {}, 'output_token_details': {}})"
      ]
     },
     "execution_count": 262,
     "metadata": {},
     "output_type": "execute_result"
    }
   ],
   "source": [
    "user_query = \"Can you please convert my data into json format and sent to my email?\"\n",
    "await chat_model.ainvoke(get_policy_doc_prompt(policies_texts, user_query))"
   ]
  },
  {
   "cell_type": "code",
   "execution_count": 263,
   "metadata": {},
   "outputs": [
    {
     "data": {
      "text/plain": [
       "AIMessage(content=\"User data will be deleted once it is no longer necessary to fulfill the stated purposes for which it was collected. After this period, the data is securely deleted or anonymized, in accordance with Canyon's strict data retention policy.\", additional_kwargs={'refusal': None}, response_metadata={'token_usage': {'completion_tokens': 45, 'prompt_tokens': 3421, 'total_tokens': 3466, 'completion_tokens_details': None, 'prompt_tokens_details': None}, 'model_name': 'gpt-4o-2024-08-06', 'system_fingerprint': 'fp_04751d0b65', 'prompt_filter_results': [{'prompt_index': 0, 'content_filter_results': {}}], 'finish_reason': 'stop', 'logprobs': None, 'content_filter_results': {'hate': {'filtered': False, 'severity': 'safe'}, 'self_harm': {'filtered': False, 'severity': 'safe'}, 'sexual': {'filtered': False, 'severity': 'safe'}, 'violence': {'filtered': False, 'severity': 'safe'}}}, id='run-5fa31db5-59a6-42b5-9102-9c410de738bb-0', usage_metadata={'input_tokens': 3421, 'output_tokens': 45, 'total_tokens': 3466, 'input_token_details': {}, 'output_token_details': {}})"
      ]
     },
     "execution_count": 263,
     "metadata": {},
     "output_type": "execute_result"
    }
   ],
   "source": [
    "\n",
    "user_query = \"When will user data be deleted?\"\n",
    "await chat_model.ainvoke(get_policy_doc_prompt(policies_texts, user_query))"
   ]
  },
  {
   "cell_type": "markdown",
   "metadata": {},
   "source": [
    "This way is too much of free style for LLM, we would like the llm to think in a way we instruct it, for example\n",
    "we want it to think with solid evidence / reference to the document before answering. It is well known that if we tell it to think step by step or even\n",
    "provide what steps to take before arriving at the conclusion, the llm will be more reliable.\n",
    "\n",
    "We can use structured output api to achieve this task, here we will create a sturctured output to let the llm to find and cite the evidence."
   ]
  },
  {
   "cell_type": "code",
   "execution_count": 230,
   "metadata": {},
   "outputs": [],
   "source": [
    "from pydantic import BaseModel, Field\n",
    "\n",
    "class policy_query_response(BaseModel):\n",
    "    \"answer to query with reference to policy content\"\n",
    "    #citation: str = Field(description = \"full citation of the relevant text in the original document that can answer the user query.\")\n",
    "    analysis: str = Field(descriotion = \"internal analysis of the problem and situation\")\n",
    "    excerpts: list[str] = Field(description = \"The direct copy of the text of relevant the relevant document. Including all original whitespaces\")\n",
    "    reference: str = Field(description= \"reference found in policy document that is related to the query\")\n",
    "    answer: str  = Field(description= \"Answer that is based on the cited part of the document\")\n",
    "    answer_is_based_on_citation: bool  = Field(description= \"Check answer is based on the citation of the original document\")\n",
    "    is_query_only: bool= Field(description= \"indicate the user input is a question(True) or action(False) or statement(False)\")"
   ]
  },
  {
   "cell_type": "markdown",
   "metadata": {},
   "source": [
    "### Test cases:"
   ]
  },
  {
   "cell_type": "code",
   "execution_count": 10,
   "metadata": {},
   "outputs": [],
   "source": [
    "import time"
   ]
  },
  {
   "cell_type": "code",
   "execution_count": 35,
   "metadata": {},
   "outputs": [
    {
     "name": "stdout",
     "output_type": "stream",
     "text": [
      "call take  3.8743650913238525 seconds\n"
     ]
    }
   ],
   "source": [
    "t0 = time.time()\n",
    "user_query = \"When will user data be deleted?\"\n",
    "response = await chat_model.with_structured_output(policy_query_response).ainvoke(get_policy_doc_prompt(policies_texts, user_query))\n",
    "t1 = time.time()\n",
    "print(\"call take \", t1 - t0, \"seconds\")\n",
    "print(response.answer)"
   ]
  },
  {
   "cell_type": "markdown",
   "metadata": {},
   "source": [
    "Check if citation found is really in original document or created by hallucination"
   ]
  },
  {
   "cell_type": "code",
   "execution_count": 108,
   "metadata": {},
   "outputs": [],
   "source": [
    "for i in response.excerpts:\n",
    "    assert any([i in text for text in policies_texts])"
   ]
  },
  {
   "cell_type": "markdown",
   "metadata": {},
   "source": [
    "Test 2: Request for action instead of information"
   ]
  },
  {
   "cell_type": "code",
   "execution_count": 72,
   "metadata": {},
   "outputs": [],
   "source": [
    "user_query = \"Can you please convert my data into json format and sent to my email?\"\n",
    "data_conversion_response = await chat_model.with_structured_output(policy_query_response).ainvoke(get_policy_doc_prompt(policies_texts, user_query))"
   ]
  },
  {
   "cell_type": "code",
   "execution_count": 75,
   "metadata": {},
   "outputs": [
    {
     "data": {
      "text/plain": [
       "True"
      ]
     },
     "execution_count": 75,
     "metadata": {},
     "output_type": "execute_result"
    }
   ],
   "source": [
    "data_conversion_response.answer_is_based_on_citation"
   ]
  },
  {
   "cell_type": "code",
   "execution_count": 76,
   "metadata": {},
   "outputs": [],
   "source": [
    "assert not data_conversion_response.is_query_only"
   ]
  },
  {
   "cell_type": "markdown",
   "metadata": {},
   "source": [
    "Test 3: Irrelavant statement"
   ]
  },
  {
   "cell_type": "code",
   "execution_count": 264,
   "metadata": {},
   "outputs": [
    {
     "name": "stdout",
     "output_type": "stream",
     "text": [
      "analysis=\"The user's input is a statement about the weather and does not pertain to any policy-related query. Therefore, it does not require an analysis based on the provided policy documents.\" excerpts=[] reference='' answer='The statement about the weather does not relate to any policy content.' answer_is_based_on_citation=False is_query_only=False\n"
     ]
    }
   ],
   "source": [
    "user_query = \"Today weather is great\"\n",
    "weather_statement_response = await chat_model.with_structured_output(policy_query_response).ainvoke(get_policy_doc_prompt(policies_texts, user_query))\n",
    "print(weather_statement_response)"
   ]
  },
  {
   "cell_type": "code",
   "execution_count": 77,
   "metadata": {},
   "outputs": [],
   "source": [
    "assert not weather_statement_response.is_query_only"
   ]
  },
  {
   "cell_type": "markdown",
   "metadata": {},
   "source": [
    "Then we can override the results if we detected the answer does not fall into our designated service"
   ]
  },
  {
   "cell_type": "code",
   "execution_count": 69,
   "metadata": {},
   "outputs": [
    {
     "data": {
      "text/plain": [
       "policy_query_response(citation='', reference='', answer=\"The statement about today's weather being great is not related to any policy document content.\", answer_is_based_on_citation=False, is_query_only=False)"
      ]
     },
     "execution_count": 69,
     "metadata": {},
     "output_type": "execute_result"
    }
   ],
   "source": [
    "weather_statement_response"
   ]
  },
  {
   "cell_type": "code",
   "execution_count": 71,
   "metadata": {},
   "outputs": [
    {
     "name": "stdout",
     "output_type": "stream",
     "text": [
      "[Default Fallback message]\n"
     ]
    }
   ],
   "source": [
    "if weather_statement_response.is_query_only and weather_statement_response.answer_is_based_on_citation:\n",
    "    print(weather_statement_response.answer)\n",
    "else:\n",
    "    print(\"[Default Fallback message]\")\n",
    "    "
   ]
  },
  {
   "cell_type": "markdown",
   "metadata": {},
   "source": [
    "Now we have completed the base case, next we will work on more. Assume we have more policy documents such that it is no longer feasible to go through all the documents and we need to parse and insert the documents inside a vector database to query"
   ]
  },
  {
   "cell_type": "code",
   "execution_count": null,
   "metadata": {},
   "outputs": [],
   "source": [
    "# install package\n",
    "!pip install chromadb"
   ]
  },
  {
   "cell_type": "code",
   "execution_count": null,
   "metadata": {},
   "outputs": [],
   "source": [
    "!pip install langchain-chroma"
   ]
  },
  {
   "cell_type": "code",
   "execution_count": 265,
   "metadata": {},
   "outputs": [],
   "source": [
    "# disable log feature\n",
    "import os\n",
    "os.environ[\"ANONYMIZED_TELEMETRY\"]=\"False\""
   ]
  },
  {
   "cell_type": "markdown",
   "metadata": {},
   "source": [
    "start the chroma server"
   ]
  },
  {
   "cell_type": "code",
   "execution_count": 12,
   "metadata": {},
   "outputs": [],
   "source": [
    "chroma_port = \"38032\""
   ]
  },
  {
   "cell_type": "code",
   "execution_count": 13,
   "metadata": {},
   "outputs": [
    {
     "name": "stdout",
     "output_type": "stream",
     "text": [
      "Chroma is running in the background...\n"
     ]
    }
   ],
   "source": [
    "\n",
    "chroma_port = \"38032\"\n",
    "import subprocess\n",
    "\n",
    "# Define the command to run Chroma in the background\n",
    "command = [\n",
    "    \"chroma\",\n",
    "    \"run\",\n",
    "    \"--path\", \"./chroma_vectorstore\",\n",
    "    \"--host\", \"localhost\",\n",
    "    \"--port\", chroma_port\n",
    "]\n",
    "\n",
    "# Start the command in a subprocess\n",
    "process = subprocess.Popen(command)\n",
    "\n",
    "# The command is now running in the background\n",
    "print(\"Chroma is running in the background...\")"
   ]
  },
  {
   "cell_type": "markdown",
   "metadata": {},
   "source": [
    "In the following, we are going to use LLM to semantically split the documents into sections, and have metadata storing what filename and section it is under."
   ]
  },
  {
   "cell_type": "markdown",
   "metadata": {},
   "source": [
    "#### setup the Chroma client"
   ]
  },
  {
   "cell_type": "code",
   "execution_count": 21,
   "metadata": {},
   "outputs": [
    {
     "data": {
      "text/plain": [
       "'38032'"
      ]
     },
     "execution_count": 21,
     "metadata": {},
     "output_type": "execute_result"
    }
   ],
   "source": [
    "chroma_port"
   ]
  },
  {
   "cell_type": "markdown",
   "metadata": {},
   "source": []
  },
  {
   "cell_type": "code",
   "execution_count": 14,
   "metadata": {},
   "outputs": [],
   "source": [
    "import chromadb\n",
    "client = chromadb.HttpClient(host='localhost', port=int(chroma_port))"
   ]
  },
  {
   "cell_type": "code",
   "execution_count": 15,
   "metadata": {},
   "outputs": [],
   "source": [
    "from langchain_chroma import Chroma\n",
    "from langchain_openai.embeddings import AzureOpenAIEmbeddings\n",
    "aoi_embeddings = AzureOpenAIEmbeddings(deployment=os.getenv(\"OPENAI_ADA_EMBEDDING_DEPLOYMENT_NAME\"),\n",
    "                                      model=os.getenv(\"OPENAI_ADA_EMBEDDING_MODEL_NAME\"),\n",
    "                                      azure_endpoint=os.getenv(\"OPENAI_DEPLOYMENT_ENDPOINT\"),\n",
    "                                      openai_api_key=os.getenv(\"OPENAI_API_KEY\"),\n",
    "                                      openai_api_type=\"azure\",\n",
    "                                      chunk_size=1)"
   ]
  },
  {
   "cell_type": "code",
   "execution_count": 17,
   "metadata": {},
   "outputs": [],
   "source": [
    "emb = aoi_embeddings.embed_query('This is a test doc for embedding')"
   ]
  },
  {
   "cell_type": "code",
   "execution_count": 142,
   "metadata": {},
   "outputs": [],
   "source": [
    "vectorstore = Chroma(collection_name = \"subdocuments\", client = client, embedding_function=aoi_embeddings)"
   ]
  },
  {
   "cell_type": "markdown",
   "metadata": {},
   "source": [
    "Now assume we scales and have many many documents or each is too long that it takes too much time to read throught or even they do not fit into the context window of an LLM.\n",
    "Now we are going to break down each policy document into segments semantically. The semantic split is done by LLM, and since LLM can sometimes have hallucination when semantic splitting, a checking function will apply at the end to make sure they will join up to become the original document. Fristly we will create prompt and schema for output."
   ]
  },
  {
   "cell_type": "code",
   "execution_count": 25,
   "metadata": {},
   "outputs": [],
   "source": [
    "def get_plain_text_document_semantic_parsing_messages(doc: str):\n",
    "    return [SystemMessage(f\"\"\"You are a plain text semantic parsing expert. Your task is to parse a document into semantically coherant chunks. \"\"\"\n",
    "                         \"\"\"Keep all text, signs, symbols, newline and other whitespace characters. \"\"\"\n",
    "                         \"\"\"Do not add any characters or symbols. Keep all whitespace characters and newline characters. \"\"\"\n",
    "                         \"\"\"Make sure you are just splitting. Do not attempt to fix any grammatical or spelling errors. \"\"\"\n",
    "                         \"\"\"Keep all titles, subtitles such that each chunk can join up to the original document without missing any characters. \"\"\"\n",
    "                         \"\"\"Shared title and shared information should be put in separate chunks\"\"\"\n",
    "                         ),\n",
    "            HumanMessage(f\"{doc}\")]"
   ]
  },
  {
   "cell_type": "code",
   "execution_count": 156,
   "metadata": {},
   "outputs": [],
   "source": [
    "from langchain_core.prompts import ChatPromptTemplate\n",
    "from langchain_core.prompts import HumanMessagePromptTemplate, ChatMessagePromptTemplate"
   ]
  },
  {
   "cell_type": "markdown",
   "metadata": {},
   "source": [
    "convert the query prompt string using langchain template that has better support for async streaming"
   ]
  },
  {
   "cell_type": "code",
   "execution_count": 157,
   "metadata": {},
   "outputs": [],
   "source": [
    "qa_chat_template = ChatPromptTemplate.from_messages(\n",
    "    [(\"system\", \"You are an expert policy query answering agent. You are given policy documents and you need to answer questions. \"\n",
    "                                \"You cannot do any work for users. For example, you cannot send email, convert data or extract database files.\"\n",
    "                                \"If you are unsure about the content, just tell you are not sure. The documents are below: \\n\"\n",
    "                                \"{context}\"\n",
    "                         ),\n",
    "    (\"human\", \"User input : {user_query}\")]\n",
    ")\n",
    "\n"
   ]
  },
  {
   "cell_type": "code",
   "execution_count": 22,
   "metadata": {},
   "outputs": [],
   "source": [
    "from typing import Optional\n",
    "class splitted_chunk(BaseModel):\n",
    "    number: int = Field (description=\"chunk number\")\n",
    "    text: str = Field(description=\"splitted chunk including all whitespaces and newline\")\n",
    "    summary: str = Field(description=\"summary of the coherant chunk\")  # help with internal thinking\n",
    "    index_text: list[str] = Field(description=\"a list of index words for this chunk\") # allow search by index\n",
    "    parent_chunk_number: Optional[int] = Field(description = \"chunks that is a heading or summary that the current chunk is elaborating. \")"
   ]
  },
  {
   "cell_type": "code",
   "execution_count": 23,
   "metadata": {},
   "outputs": [],
   "source": [
    "class splitting_response(BaseModel):\n",
    "    analysis_of_document_structure: str = Field(description=\"An overview of the document structure, order and features and the way to best parse the document\")\n",
    "    splitted_text: list[splitted_chunk] = Field(description=\"a list of splitted text including all whitespaces and newline.\")"
   ]
  },
  {
   "cell_type": "code",
   "execution_count": 266,
   "metadata": {},
   "outputs": [
    {
     "name": "stdout",
     "output_type": "stream",
     "text": [
      "time taken:  38.437309980392456\n"
     ]
    }
   ],
   "source": [
    "t0 = time.time()\n",
    "split_results : splitting_response = await (chat_model.with_structured_output(splitting_response)\n",
    "                                            .ainvoke(get_plain_text_document_semantic_parsing_messages(policies_texts[0])))\n",
    "\n",
    "t1=time.time()\n",
    "print(\"time taken: \", t1-t0)"
   ]
  },
  {
   "cell_type": "markdown",
   "metadata": {},
   "source": [
    "a testing snippet that is forgiving on missing out whitespaces on the boundary of splitting"
   ]
  },
  {
   "cell_type": "code",
   "execution_count": 28,
   "metadata": {},
   "outputs": [
    {
     "data": {
      "text/plain": [
       "splitting_response(analysis_of_document_structure='The document is a comprehensive data privacy policy, structured with numbered sections and subsections. Each section addresses a specific aspect of the policy, such as introduction, data collection practices, data storage and management, data usage, data sharing and disclosure, rights of data subjects, policy enforcement and compliance, contact information, and conclusion. The document is best parsed by separating each numbered section into individual chunks, as each section contains distinct information relevant to the policy.', splitted_text=[splitted_chunk(number=1, text='### Comprehensive Data Privacy Policy\\n\\n**1. Introduction**\\n\\n**Purpose of the Policy:**  \\nAt Canyon, safeguarding the privacy and security of personal data is a foundational principle of our business operations. This Data Privacy Policy is designed to transparently communicate our unwavering commitment to the protection of personal information across all aspects of our operations, reflecting our dedication to ethical practices and legal compliance.\\n\\n**Scope of the Policy:**  \\nThis policy applies universally to all personal and sensitive information collected by Canyon from our customers, users, and employees. It encompasses all forms of data handling activities related to our services, products, and platforms, irrespective of the data collection medium or geographic location of the data subjects.', summary='Introduction to the data privacy policy, outlining its purpose and scope.', index_text=['Introduction', 'Purpose of the Policy', 'Scope of the Policy', 'Canyon', 'privacy', 'security'], parent_chunk_number=None), splitted_chunk(number=2, text='**2. Data Collection Practices**\\n\\n**Types of Data Collected:**\\n- **Personal Identification Information (PII):** Includes but is not limited to names, email addresses, physical addresses, telephone numbers, and payment details.\\n- **Usage Data:** Comprises data on how individuals access and utilize our services, such as time stamps, clicked links, and viewed pages.\\n- **Interaction Data:** Consists of data generated from user interactions with our services, including customer support interactions, user feedback, and activity logs.\\n\\n**Methods of Data Collection:**\\n- **Direct Interactions:** Data collected via account registrations, service subscriptions, purchases, and direct communications.\\n- **Automated Technologies:** Utilization of cookies, web beacons, and other similar technologies to gather data that helps us understand user preferences and site usage patterns.\\n\\n**Purpose of Data Collection:**  \\nThe data collected serves multiple purposes:\\n- To enhance the functionality and security of our services.\\n- To personalize user experiences.\\n- To support internal operations such as auditing, data analysis, and research to improve our offerings.\\n- To train and refine our AI models, ensuring they are effective and ethical in their applications.', summary='Details on the types, methods, and purposes of data collection.', index_text=['Data Collection Practices', 'Personal Identification Information', 'Usage Data', 'Interaction Data', 'Direct Interactions', 'Automated Technologies'], parent_chunk_number=None), splitted_chunk(number=3, text='**3. Data Storage and Management**\\n\\n**Data Storage Locations:**  \\nData is securely stored in state-of-the-art data centers located in the United States, the European Union, and other jurisdictions, depending on the nature of the data and the services provided. Each location is chosen based on stringent security standards and data protection compliance.\\n\\n**Data Security Measures:**\\n- **Encryption Techniques:** Utilizing advanced encryption standards to protect data at rest and in transit.\\n- **Access Controls:** Implementation of role-based access controls (RBAC) to ensure that only authorized personnel have access to sensitive data, based on their job responsibilities.\\n- **Regular Security Audits:** Conducting comprehensive security audits and vulnerability assessments to proactively manage and mitigate risks.\\n\\n**Data Retention Policy:**  \\nWe adhere to a strict data retention policy that specifies the duration for which different types of data are held. Data is only retained as long as necessary to fulfill the stated purposes, after which it is securely deleted or anonymized.', summary='Information on data storage locations, security measures, and retention policy.', index_text=['Data Storage and Management', 'Data Storage Locations', 'Data Security Measures', 'Encryption Techniques', 'Access Controls', 'Data Retention Policy'], parent_chunk_number=None), splitted_chunk(number=4, text='**4. Data Usage**\\n\\n**Internal Use of Data:**\\n- **Product and Service Enhancement:** Using collected data to improve existing services and develop new offerings.\\n- **AI Model Training:** Employing data in the training and refinement of AI algorithms to ensure accuracy and fairness.\\n\\n**Decision-Making Processes:**  \\nWe utilize data-driven insights to facilitate automated and semi-automated decision-making processes. These are designed with a focus on fairness, accuracy, and accountability, incorporating mechanisms for human oversight and intervention when necessary.\\n\\n**User Benefits:**  \\nThe use of data significantly enhances our ability to offer personalized and efficient services, improving overall user satisfaction and engagement.', summary='Explanation of how data is used internally, including for product enhancement and decision-making.', index_text=['Data Usage', 'Internal Use of Data', 'Product and Service Enhancement', 'AI Model Training', 'Decision-Making Processes', 'User Benefits'], parent_chunk_number=None), splitted_chunk(number=5, text='**5. Data Sharing and Disclosure**\\n\\n**Circumstances Under Which Data is Shared:**\\n- **Service Providers:** Sharing with trusted partners who provide data processing services on our behalf, under strict confidentiality agreements.\\n- **Legal and Compliance Requirements:** Disclosing data when required by law, such as in response to legal processes or for compliance with regulatory obligations.\\n\\n**Safeguards for Data Sharing:**  \\nWe implement robust contractual protections to ensure that any data shared is treated in accordance with our privacy standards and applicable laws.\\n\\n**User Control and Consent:**  \\nProviding users with comprehensive control over their personal information, including mechanisms to grant or withdraw consent, access data, and request data deletion.', summary='Conditions and safeguards for data sharing and user control over data.', index_text=['Data Sharing and Disclosure', 'Service Providers', 'Legal and Compliance Requirements', 'Safeguards for Data Sharing', 'User Control and Consent'], parent_chunk_number=None), splitted_chunk(number=6, text='**6. Rights of Data Subjects**\\n\\n**Access to Data:**  \\nUsers have the right to access their data and receive information about its processing, ensuring they can verify legality and accuracy.\\n\\n**Data Correction and Deletion:**  \\nWe provide options for users to correct inaccuracies in their data or to have it erased from our systems, subject to certain conditions.\\n\\n**Data Portability:**  \\nFacilitating the right of data portability, allowing users to obtain and reuse their personal data across different services.', summary=\"Explanation of data subjects' rights, including access, correction, deletion, and portability.\", index_text=['Rights of Data Subjects', 'Access to Data', 'Data Correction and Deletion', 'Data Portability'], parent_chunk_number=None), splitted_chunk(number=7, text='**7. Policy Enforcement and Compliance**\\n\\n**Compliance with Laws and Regulations:**  \\nOur policy adheres to international, federal, and state regulations, ensuring compliance with laws such as GDPR, CCPA, and others.\\n\\n**Reporting and Addressing Violations:**  \\nWe have established a formal procedure for addressing data privacy concerns and policy violations, ensuring prompt and effective resolution.\\n\\n**Updates to the Policy:**\\n  \\nThis policy may be updated periodically to reflect changes in our practices or legal requirements, with substantial changes communicated directly to users.', summary='Details on policy enforcement, compliance, and updates.', index_text=['Policy Enforcement and Compliance', 'Compliance with Laws and Regulations', 'Reporting and Addressing Violations', 'Updates to the Policy'], parent_chunk_number=None), splitted_chunk(number=8, text='**8. Contact Information**\\n\\n**Contact Details for Privacy Concerns:**  \\nFor further inquiries or concerns regarding our Data Privacy Policy, users can contact our Data Protection Officer at [privacy@email.com].', summary='Contact information for privacy concerns.', index_text=['Contact Information', 'Contact Details for Privacy Concerns', 'Data Protection Officer'], parent_chunk_number=None), splitted_chunk(number=9, text='**9. Conclusion**\\n\\nAt Canyon, we are dedicated to maintaining the trust of our users by adhering to the highest standards of data privacy and security. We encourage all users to review this policy regularly to stay informed of how we protect their personal information.', summary='Conclusion emphasizing commitment to data privacy and security.', index_text=['Conclusion', 'Canyon', 'data privacy', 'security'], parent_chunk_number=None)])"
      ]
     },
     "execution_count": 28,
     "metadata": {},
     "output_type": "execute_result"
    }
   ],
   "source": []
  },
  {
   "cell_type": "code",
   "execution_count": 181,
   "metadata": {},
   "outputs": [
    {
     "name": "stdout",
     "output_type": "stream",
     "text": [
      "checked ### Comprehensive Data Privacy Policy\n",
      "\n",
      "**1. Introduction**\n",
      "\n",
      "**Purpose of the Policy:**  \n",
      "At Canyon, safeguarding the privacy and security of personal data is a foundational principle of our business operations. This Data Privacy Policy is designed to transparently communicate our unwavering commitment to the protection of personal information across all aspects of our operations, reflecting our dedication to ethical practices and legal compliance.\n",
      "\n",
      "**Scope of the Policy:**  \n",
      "This policy applies universally to all personal and sensitive information collected by Canyon from our customers, users, and employees. It encompasses all forms of data handling activities related to our services, products, and platforms, irrespective of the data collection medium or geographic location of the data subjects.\n",
      "checked **2. Data Collection Practices**\n",
      "\n",
      "**Types of Data Collected:**\n",
      "- **Personal Identification Information (PII):** Includes but is not limited to names, email addresses, physical addresses, telephone numbers, and payment details.\n",
      "- **Usage Data:** Comprises data on how individuals access and utilize our services, such as time stamps, clicked links, and viewed pages.\n",
      "- **Interaction Data:** Consists of data generated from user interactions with our services, including customer support interactions, user feedback, and activity logs.\n",
      "\n",
      "**Methods of Data Collection:**\n",
      "- **Direct Interactions:** Data collected via account registrations, service subscriptions, purchases, and direct communications.\n",
      "- **Automated Technologies:** Utilization of cookies, web beacons, and other similar technologies to gather data that helps us understand user preferences and site usage patterns.\n",
      "\n",
      "**Purpose of Data Collection:**  \n",
      "The data collected serves multiple purposes:\n",
      "- To enhance the functionality and security of our services.\n",
      "- To personalize user experiences.\n",
      "- To support internal operations such as auditing, data analysis, and research to improve our offerings.\n",
      "- To train and refine our AI models, ensuring they are effective and ethical in their applications.\n",
      "checked **3. Data Storage and Management**\n",
      "\n",
      "**Data Storage Locations:**  \n",
      "Data is securely stored in state-of-the-art data centers located in the United States, the European Union, and other jurisdictions, depending on the nature of the data and the services provided. Each location is chosen based on stringent security standards and data protection compliance.\n",
      "\n",
      "**Data Security Measures:**\n",
      "- **Encryption Techniques:** Utilizing advanced encryption standards to protect data at rest and in transit.\n",
      "- **Access Controls:** Implementation of role-based access controls (RBAC) to ensure that only authorized personnel have access to sensitive data, based on their job responsibilities.\n",
      "- **Regular Security Audits:** Conducting comprehensive security audits and vulnerability assessments to proactively manage and mitigate risks.\n",
      "\n",
      "**Data Retention Policy:**  \n",
      "We adhere to a strict data retention policy that specifies the duration for which different types of data are held. Data is only retained as long as necessary to fulfill the stated purposes, after which it is securely deleted or anonymized.\n",
      "checked **4. Data Usage**\n",
      "\n",
      "**Internal Use of Data:**\n",
      "- **Product and Service Enhancement:** Using collected data to improve existing services and develop new offerings.\n",
      "- **AI Model Training:** Employing data in the training and refinement of AI algorithms to ensure accuracy and fairness.\n",
      "\n",
      "**Decision-Making Processes:**  \n",
      "We utilize data-driven insights to facilitate automated and semi-automated decision-making processes. These are designed with a focus on fairness, accuracy, and accountability, incorporating mechanisms for human oversight and intervention when necessary.\n",
      "\n",
      "**User Benefits:**  \n",
      "The use of data significantly enhances our ability to offer personalized and efficient services, improving overall user satisfaction and engagement.\n",
      "checked **5. Data Sharing and Disclosure**\n",
      "\n",
      "**Circumstances Under Which Data is Shared:**\n",
      "- **Service Providers:** Sharing with trusted partners who provide data processing services on our behalf, under strict confidentiality agreements.\n",
      "- **Legal and Compliance Requirements:** Disclosing data when required by law, such as in response to legal processes or for compliance with regulatory obligations.\n",
      "\n",
      "**Safeguards for Data Sharing:**  \n",
      "We implement robust contractual protections to ensure that any data shared is treated in accordance with our privacy standards and applicable laws.\n",
      "\n",
      "**User Control and Consent:**  \n",
      "Providing users with comprehensive control over their personal information, including mechanisms to grant or withdraw consent, access data, and request data deletion.\n",
      "checked **6. Rights of Data Subjects**\n",
      "\n",
      "**Access to Data:**  \n",
      "Users have the right to access their data and receive information about its processing, ensuring they can verify legality and accuracy.\n",
      "\n",
      "**Data Correction and Deletion:**  \n",
      "We provide options for users to correct inaccuracies in their data or to have it erased from our systems, subject to certain conditions.\n",
      "\n",
      "**Data Portability:**  \n",
      "Facilitating the right of data portability, allowing users to obtain and reuse their personal data across different services.\n",
      "checked **7. Policy Enforcement and Compliance**\n",
      "\n",
      "**Compliance with Laws and Regulations:**  \n",
      "Our policy adheres to international, federal, and state regulations, ensuring compliance with laws such as GDPR, CCPA, and others.\n",
      "\n",
      "**Reporting and Addressing Violations:**  \n",
      "We have established a formal procedure for addressing data privacy concerns and policy violations, ensuring prompt and effective resolution.\n",
      "\n",
      "**Updates to the Policy:**\n",
      "\n",
      "  \n",
      "This policy may be updated periodically to reflect changes in our practices or legal requirements, with substantial changes communicated directly to users.\n",
      "checked **8. Contact Information**\n",
      "\n",
      "**Contact Details for Privacy Concerns:**  \n",
      "For further inquiries or concerns regarding our Data Privacy Policy, users can contact our Data Protection Officer at [privacy@email.com].\n",
      "checked **9. Conclusion**\n",
      "\n",
      "At Canyon, we are dedicated to maintaining the trust of our users by adhering to the highest standards of data privacy and security. We encourage all users to review this policy regularly to stay informed of how we protect their personal information.\n"
     ]
    }
   ],
   "source": [
    "cloned_text :str = policies_texts[0]\n",
    "cloned_text.lstrip()\n",
    "\n",
    "for i in split_results.splitted_text:\n",
    "    cloned_text = cloned_text.lstrip()\n",
    "    assert cloned_text.startswith(i.text.lstrip())\n",
    "\n",
    "    \n",
    "        "
   ]
  },
  {
   "cell_type": "markdown",
   "metadata": {},
   "source": [
    "before we put the parsed document into the vector db, we will add some metadata into it"
   ]
  },
  {
   "cell_type": "code",
   "execution_count": 192,
   "metadata": {},
   "outputs": [
    {
     "data": {
      "text/plain": [
       "['a0806499-ad9d-4a0a-864a-fbd98eaaf6f6',\n",
       " 'f8314687-e03e-43da-8385-3a73bbdffcff',\n",
       " '95b58aa7-c020-4acf-9ffe-fa99629fd082',\n",
       " '99a25261-b67d-4351-85c8-ed234ee5c5e7',\n",
       " '19680638-dcdb-4fd8-ab19-7db691847961',\n",
       " 'aa0b2368-c8dd-42b2-a0f5-22c748824265',\n",
       " '35d8743f-b4c5-4ada-8653-767ac1510f55',\n",
       " '7f34de93-3db6-4651-a1c4-905da50b3f90',\n",
       " '42953905-02ba-456a-ac50-a766b4f37927']"
      ]
     },
     "execution_count": 192,
     "metadata": {},
     "output_type": "execute_result"
    }
   ],
   "source": [
    "import time\n",
    "\n",
    "fname = 'Policy_1.txt'\n",
    "metadata = {\"inserted_timestamp\": time.time(), \"filename\": fname}\n",
    "    \n",
    "await vectorstore.aadd_texts(texts=[i.text for i in split_results.splitted_text],\n",
    "                             embeddings=aoi_embeddings,\n",
    "                             metadatas=[metadata] * len( split_results.splitted_text))"
   ]
  },
  {
   "cell_type": "markdown",
   "metadata": {},
   "source": [
    "##### similarly we perform the same for the other 2 documents"
   ]
  },
  {
   "cell_type": "code",
   "execution_count": 193,
   "metadata": {},
   "outputs": [],
   "source": [
    "for doc in policies_texts[1:]:\n",
    "    split_results : splitting_response = await (chat_model.with_structured_output(splitting_response)\n",
    "                                            .ainvoke(get_plain_text_document_semantic_parsing_messages(doc)))\n",
    "    splitted_text = [i.text for i in split_results.splitted_text]\n",
    "    await vectorstore.aadd_texts(texts=splitted_text,\n",
    "                             embeddings=aoi_embeddings,\n",
    "                             metadatas=[metadata] * len( split_results.splitted_text))"
   ]
  },
  {
   "cell_type": "markdown",
   "metadata": {},
   "source": [
    "Here we need to redefine the process, we now need to extract the relevant documents from vectorstore before answering the question. \n",
    "here we will extract the top most relevant 5 segments. Here we are using syntatic sugar from Langchain"
   ]
  },
  {
   "cell_type": "code",
   "execution_count": 143,
   "metadata": {},
   "outputs": [],
   "source": [
    "retriever = vectorstore.as_retriever(search_kwargs={'k': 5})"
   ]
  },
  {
   "cell_type": "code",
   "execution_count": 19,
   "metadata": {},
   "outputs": [],
   "source": [
    "query = \"can I buy data of another person?\"\n"
   ]
  },
  {
   "cell_type": "code",
   "execution_count": 153,
   "metadata": {},
   "outputs": [],
   "source": [
    "from langchain_core.runnables import RunnablePassthrough, RunnableLambda"
   ]
  },
  {
   "cell_type": "code",
   "execution_count": 140,
   "metadata": {},
   "outputs": [],
   "source": [
    "def format_docs(docs):\n",
    "    return \"\\n\\n\".join([d.page_content for d in docs])"
   ]
  },
  {
   "cell_type": "code",
   "execution_count": 158,
   "metadata": {},
   "outputs": [],
   "source": [
    "chain = (\n",
    "    {\"context\": retriever | format_docs, \"user_query\": RunnablePassthrough()}\n",
    "    | qa_chat_template\n",
    "    | (chat_model.with_structured_output(policy_query_response))\n",
    ")"
   ]
  },
  {
   "cell_type": "code",
   "execution_count": 41,
   "metadata": {},
   "outputs": [
    {
     "name": "stdout",
     "output_type": "stream",
     "text": [
      "call takes 4.240687608718872 seconds\n"
     ]
    }
   ],
   "source": [
    "t0 = time.time()\n",
    "answer:policy_query_response = chain.invoke(query)\n",
    "t1 = time.time()\n",
    "print(\"call takes\", t1 - t0, \"seconds\")"
   ]
  },
  {
   "cell_type": "code",
   "execution_count": 42,
   "metadata": {},
   "outputs": [
    {
     "data": {
      "text/plain": [
       "\"The policy document does not explicitly address the sale or purchase of personal data. However, it outlines the rights of data subjects, including access, correction, deletion, and portability of their own data. It does not mention the ability to buy or sell another person's data, which is typically restricted by privacy laws and regulations.\""
      ]
     },
     "execution_count": 42,
     "metadata": {},
     "output_type": "execute_result"
    }
   ],
   "source": [
    "answer.analysis"
   ]
  },
  {
   "cell_type": "code",
   "execution_count": 43,
   "metadata": {},
   "outputs": [
    {
     "name": "stdout",
     "output_type": "stream",
     "text": [
      "The policy does not mention the ability to buy data of another person. It focuses on the rights of data subjects to access, correct, delete, and port their own data. Purchasing another person's data is not addressed and is generally restricted by privacy laws.\n"
     ]
    }
   ],
   "source": [
    "print(answer.answer)"
   ]
  },
  {
   "cell_type": "markdown",
   "metadata": {},
   "source": [
    "So, even at small scale, the time required to go embedding and retrieving from vectorstore is taking longer then the time to scan through the few 3 documents.\n",
    "\n",
    "On cost basis, the LLM are charging based on token used and everytime passing a whole document, is charging few times more than passing only the relevant documents. Also, when the number of documents grows, the RAG will have time and cost advantage."
   ]
  },
  {
   "cell_type": "markdown",
   "metadata": {},
   "source": [
    "### Evaluation\n",
    "\n",
    "A jupyter notebook environment is not appropriate for general python testing framework such as testing the API server hosting it or the interfaces to other systems. A more proper testing framework will by pytest. However, when we focus on the RAG part. We can still create some meaning tests."
   ]
  },
  {
   "cell_type": "code",
   "execution_count": null,
   "metadata": {},
   "outputs": [],
   "source": [
    "!pip install pandas"
   ]
  },
  {
   "cell_type": "markdown",
   "metadata": {},
   "source": [
    "### Create a dataset showing various cases\n",
    "20 cases can find the answer\n",
    "20 cases cannot find answer"
   ]
  },
  {
   "cell_type": "code",
   "execution_count": 139,
   "metadata": {},
   "outputs": [],
   "source": [
    "import pandas as pd\n",
    "\n",
    "data_with_retrieval_substring = {\n",
    "    \"Category\": [\"Answerable_Question\"] * 20,\n",
    "    \"Content\": [\n",
    "        \"What are the principles of fairness outlined in the AI Ethics Policy?\",\n",
    "        \"How does the company ensure data security during AI model deployment?\",\n",
    "        \"What methods are used to collect personal identification information?\",\n",
    "        \"Who oversees AI initiatives according to the Model Governance Policy?\",\n",
    "        \"What are the purposes of data collection as stated in the Data Privacy Policy?\",\n",
    "        \"How does the AI Ethics Board address ethical concerns?\",\n",
    "        \"What does non-discrimination mean in the context of AI systems?\",\n",
    "        \"How is transparency ensured in AI decision-making processes?\",   # policy 2 and 3\n",
    "        \"What are the consequences of violating the AI Ethics Policy?\", #\n",
    "        \"What data storage locations are mentioned in the Data Privacy Policy?\",\n",
    "        \"What is the role of the AI Governance Board in decision-making?\", #\n",
    "        \"What procedures are followed for ethical risk assessment in AI projects?\",#\n",
    "        \"What are the rights of data subjects in relation to data access?\",\n",
    "        \"How often is the AI Ethics Policy reviewed and updated?\",\n",
    "        \"What measures are taken for regular security audits of data?\",#\n",
    "        \"What training programs are provided for AI ethics awareness?\",\n",
    "        \"How does the company handle anonymous ethics violation reports?\",\n",
    "        \"What is the purpose of AI model testing and validation?\",\n",
    "        \"What are the guidelines for data retention in the Data Privacy Policy?\",\n",
    "        \"What is the process for auditing AI algorithms for bias?\"\n",
    "    ],\n",
    "    \"Key_Substrings\": [\n",
    "        ['impartially, justly, and equitably', \"implement an ongoing bias monitoring framework\", \"technologies that are fair\"],\n",
    "        [\"**Deployment**: The process of integrating an AI model into operational\", \"eployment, AI models\", \"on Techniques:** Utilizing advanced\"],\n",
    "        [\"Methods of Data Collectio\", \"**Personal Identification Information (PII):** Inc\", \"**Automated Technologies:** Uti\"],\n",
    "        [\"oard**: Oversees all AI initiatives and\"],\n",
    "        [\"**Purpose of Data \", \"enhance the functionality and security\", \"- To train and refine ou\"],\n",
    "        [\"including a direct line to the AI Ethics Board\", \" the role of the AI Ethics Board to include peri\"],\n",
    "        [\"**Non-Discrimination:** The assurance that \", \"sh a rigorous protocol for the\", \"mpany is committed to the highest standard\"],\n",
    "        [\"- **Transparency:** The quality of b\", \"t all AI systems' decision-making proce\", \n",
    "         \"ase a detailed annual report on ethical practices, challenges, an\"\n",
    "         \" includes requirement gathering, design, development, and initial testing pha\",\n",
    "         \"e reports are made available to regulatory bodie\"],\n",
    "        [\"actions ranging from warnings to termination, depending on the seve\"],\n",
    "        [\"-art data centers located in the United States, the European Union, and other jur\", ],\n",
    "        [\"AI Governance Board**: Oversees all AI initi\", \"egic and high-impact decisions are escalated to the \", \n",
    "         \" AI models must be reviewed by the AI Governance Board to ensure compl\",\n",
    "         \"e and effectiveness. Reviews are conducted by the AI Governance Board in consulta\",\n",
    "         \"thoroughly documented, approved by the AI Governance Board, and communicated\"],\n",
    "        [\"nsive ethical risk assessment tool\", \"arious operational scenarios and use these insights to gu\"],\n",
    "        [\"access their data and receive information\", \"correct inaccuracies in their data or to have it erased\"],\n",
    "        [\"Commit to a biannual review cycle for this policy to\"],\n",
    "        [\"udits:** Conducting comprehensive security audits and \"],\n",
    "        [\" training covers technical aspects of AI, et\", \"continuous learning program on AI ethics\"],\n",
    "        [\"an anonymous ethics violation reporting\"],\n",
    "        [\" undergo rigorous testing to validate their\"],\n",
    "        [\" retained as long as necessary to fulfill the stated purposes, after which it is securely deleted or anonymized\"],\n",
    "        [\"- Introduce a third-party ethics audit performed\", \"\"]\n",
    "    ]\n",
    "}\n",
    "\n",
    "# Create and display the DataFrame with key substrings\n",
    "df_with_substrings = pd.DataFrame(data_with_retrieval_substring)"
   ]
  },
  {
   "cell_type": "code",
   "execution_count": 138,
   "metadata": {},
   "outputs": [
    {
     "data": {
      "text/html": [
       "<div>\n",
       "<style scoped>\n",
       "    .dataframe tbody tr th:only-of-type {\n",
       "        vertical-align: middle;\n",
       "    }\n",
       "\n",
       "    .dataframe tbody tr th {\n",
       "        vertical-align: top;\n",
       "    }\n",
       "\n",
       "    .dataframe thead th {\n",
       "        text-align: right;\n",
       "    }\n",
       "</style>\n",
       "<table border=\"1\" class=\"dataframe\">\n",
       "  <thead>\n",
       "    <tr style=\"text-align: right;\">\n",
       "      <th></th>\n",
       "      <th>Category</th>\n",
       "      <th>Content</th>\n",
       "      <th>Key_Substrings</th>\n",
       "    </tr>\n",
       "  </thead>\n",
       "  <tbody>\n",
       "    <tr>\n",
       "      <th>0</th>\n",
       "      <td>Answerable_Question</td>\n",
       "      <td>What are the principles of fairness outlined i...</td>\n",
       "      <td>[impartially, justly, and equitably, implement...</td>\n",
       "    </tr>\n",
       "    <tr>\n",
       "      <th>1</th>\n",
       "      <td>Answerable_Question</td>\n",
       "      <td>How does the company ensure data security duri...</td>\n",
       "      <td>[**Deployment**: The process of integrating an...</td>\n",
       "    </tr>\n",
       "    <tr>\n",
       "      <th>2</th>\n",
       "      <td>Answerable_Question</td>\n",
       "      <td>What methods are used to collect personal iden...</td>\n",
       "      <td>[Methods of Data Collectio, **Personal Identif...</td>\n",
       "    </tr>\n",
       "    <tr>\n",
       "      <th>3</th>\n",
       "      <td>Answerable_Question</td>\n",
       "      <td>Who oversees AI initiatives according to the M...</td>\n",
       "      <td>[oard**: Oversees all AI initiatives and]</td>\n",
       "    </tr>\n",
       "    <tr>\n",
       "      <th>4</th>\n",
       "      <td>Answerable_Question</td>\n",
       "      <td>What are the purposes of data collection as st...</td>\n",
       "      <td>[**Purpose of Data , enhance the functionality...</td>\n",
       "    </tr>\n",
       "    <tr>\n",
       "      <th>5</th>\n",
       "      <td>Answerable_Question</td>\n",
       "      <td>How does the AI Ethics Board address ethical c...</td>\n",
       "      <td>[including a direct line to the AI Ethics Boar...</td>\n",
       "    </tr>\n",
       "    <tr>\n",
       "      <th>6</th>\n",
       "      <td>Answerable_Question</td>\n",
       "      <td>What does non-discrimination mean in the conte...</td>\n",
       "      <td>[**Non-Discrimination:** The assurance that , ...</td>\n",
       "    </tr>\n",
       "    <tr>\n",
       "      <th>7</th>\n",
       "      <td>Answerable_Question</td>\n",
       "      <td>How is transparency ensured in AI decision-mak...</td>\n",
       "      <td>[- **Transparency:** The quality of b, t all A...</td>\n",
       "    </tr>\n",
       "    <tr>\n",
       "      <th>8</th>\n",
       "      <td>Answerable_Question</td>\n",
       "      <td>What are the consequences of violating the AI ...</td>\n",
       "      <td>[actions ranging from warnings to termination,...</td>\n",
       "    </tr>\n",
       "    <tr>\n",
       "      <th>9</th>\n",
       "      <td>Answerable_Question</td>\n",
       "      <td>What data storage locations are mentioned in t...</td>\n",
       "      <td>[-art data centers located in the United State...</td>\n",
       "    </tr>\n",
       "    <tr>\n",
       "      <th>10</th>\n",
       "      <td>Answerable_Question</td>\n",
       "      <td>What is the role of the AI Governance Board in...</td>\n",
       "      <td>[AI Governance Board**: Oversees all AI initi,...</td>\n",
       "    </tr>\n",
       "    <tr>\n",
       "      <th>11</th>\n",
       "      <td>Answerable_Question</td>\n",
       "      <td>What procedures are followed for ethical risk ...</td>\n",
       "      <td>[nsive ethical risk assessment tool, arious op...</td>\n",
       "    </tr>\n",
       "    <tr>\n",
       "      <th>12</th>\n",
       "      <td>Answerable_Question</td>\n",
       "      <td>What are the rights of data subjects in relati...</td>\n",
       "      <td>[access their data and receive information, co...</td>\n",
       "    </tr>\n",
       "    <tr>\n",
       "      <th>13</th>\n",
       "      <td>Answerable_Question</td>\n",
       "      <td>How often is the AI Ethics Policy reviewed and...</td>\n",
       "      <td>[Commit to a biannual review cycle for this po...</td>\n",
       "    </tr>\n",
       "    <tr>\n",
       "      <th>14</th>\n",
       "      <td>Answerable_Question</td>\n",
       "      <td>What measures are taken for regular security a...</td>\n",
       "      <td>[udits:** Conducting comprehensive security au...</td>\n",
       "    </tr>\n",
       "    <tr>\n",
       "      <th>15</th>\n",
       "      <td>Answerable_Question</td>\n",
       "      <td>What training programs are provided for AI eth...</td>\n",
       "      <td>[ training covers technical aspects of AI, et,...</td>\n",
       "    </tr>\n",
       "    <tr>\n",
       "      <th>16</th>\n",
       "      <td>Answerable_Question</td>\n",
       "      <td>How does the company handle anonymous ethics v...</td>\n",
       "      <td>[an anonymous ethics violation reporting]</td>\n",
       "    </tr>\n",
       "    <tr>\n",
       "      <th>17</th>\n",
       "      <td>Answerable_Question</td>\n",
       "      <td>What is the purpose of AI model testing and va...</td>\n",
       "      <td>[ undergo rigorous testing to validate their]</td>\n",
       "    </tr>\n",
       "    <tr>\n",
       "      <th>18</th>\n",
       "      <td>Answerable_Question</td>\n",
       "      <td>What are the guidelines for data retention in ...</td>\n",
       "      <td>[ retained as long as necessary to fulfill the...</td>\n",
       "    </tr>\n",
       "    <tr>\n",
       "      <th>19</th>\n",
       "      <td>Answerable_Question</td>\n",
       "      <td>What is the process for auditing AI algorithms...</td>\n",
       "      <td>[- Introduce a third-party ethics audit perfor...</td>\n",
       "    </tr>\n",
       "  </tbody>\n",
       "</table>\n",
       "</div>"
      ],
      "text/plain": [
       "               Category                                            Content  \\\n",
       "0   Answerable_Question  What are the principles of fairness outlined i...   \n",
       "1   Answerable_Question  How does the company ensure data security duri...   \n",
       "2   Answerable_Question  What methods are used to collect personal iden...   \n",
       "3   Answerable_Question  Who oversees AI initiatives according to the M...   \n",
       "4   Answerable_Question  What are the purposes of data collection as st...   \n",
       "5   Answerable_Question  How does the AI Ethics Board address ethical c...   \n",
       "6   Answerable_Question  What does non-discrimination mean in the conte...   \n",
       "7   Answerable_Question  How is transparency ensured in AI decision-mak...   \n",
       "8   Answerable_Question  What are the consequences of violating the AI ...   \n",
       "9   Answerable_Question  What data storage locations are mentioned in t...   \n",
       "10  Answerable_Question  What is the role of the AI Governance Board in...   \n",
       "11  Answerable_Question  What procedures are followed for ethical risk ...   \n",
       "12  Answerable_Question  What are the rights of data subjects in relati...   \n",
       "13  Answerable_Question  How often is the AI Ethics Policy reviewed and...   \n",
       "14  Answerable_Question  What measures are taken for regular security a...   \n",
       "15  Answerable_Question  What training programs are provided for AI eth...   \n",
       "16  Answerable_Question  How does the company handle anonymous ethics v...   \n",
       "17  Answerable_Question  What is the purpose of AI model testing and va...   \n",
       "18  Answerable_Question  What are the guidelines for data retention in ...   \n",
       "19  Answerable_Question  What is the process for auditing AI algorithms...   \n",
       "\n",
       "                                       Key_Substrings  \n",
       "0   [impartially, justly, and equitably, implement...  \n",
       "1   [**Deployment**: The process of integrating an...  \n",
       "2   [Methods of Data Collectio, **Personal Identif...  \n",
       "3           [oard**: Oversees all AI initiatives and]  \n",
       "4   [**Purpose of Data , enhance the functionality...  \n",
       "5   [including a direct line to the AI Ethics Boar...  \n",
       "6   [**Non-Discrimination:** The assurance that , ...  \n",
       "7   [- **Transparency:** The quality of b, t all A...  \n",
       "8   [actions ranging from warnings to termination,...  \n",
       "9   [-art data centers located in the United State...  \n",
       "10  [AI Governance Board**: Oversees all AI initi,...  \n",
       "11  [nsive ethical risk assessment tool, arious op...  \n",
       "12  [access their data and receive information, co...  \n",
       "13  [Commit to a biannual review cycle for this po...  \n",
       "14  [udits:** Conducting comprehensive security au...  \n",
       "15  [ training covers technical aspects of AI, et,...  \n",
       "16          [an anonymous ethics violation reporting]  \n",
       "17      [ undergo rigorous testing to validate their]  \n",
       "18  [ retained as long as necessary to fulfill the...  \n",
       "19  [- Introduce a third-party ethics audit perfor...  "
      ]
     },
     "execution_count": 138,
     "metadata": {},
     "output_type": "execute_result"
    }
   ],
   "source": [
    "df_with_substrings"
   ]
  },
  {
   "cell_type": "markdown",
   "metadata": {},
   "source": [
    "Now check if the retrieval will contain all the required substrings"
   ]
  },
  {
   "cell_type": "code",
   "execution_count": 144,
   "metadata": {},
   "outputs": [],
   "source": [
    "retrieval_chain = retriever | format_docs"
   ]
  },
  {
   "cell_type": "markdown",
   "metadata": {},
   "source": [
    "#### uncomment the cache to save token cost\n",
    "\n",
    "#### comment to see actual time taken"
   ]
  },
  {
   "cell_type": "code",
   "execution_count": null,
   "metadata": {},
   "outputs": [],
   "source": []
  },
  {
   "cell_type": "code",
   "execution_count": 145,
   "metadata": {},
   "outputs": [],
   "source": [
    "from functools import lru_cache\n",
    "#@lru_cache(maxsize=30) for dev save cost\n",
    "def test_retrieval(content):\n",
    "    return retrieval_chain.invoke(content)"
   ]
  },
  {
   "cell_type": "code",
   "execution_count": null,
   "metadata": {},
   "outputs": [],
   "source": []
  },
  {
   "cell_type": "code",
   "execution_count": 146,
   "metadata": {},
   "outputs": [
    {
     "name": "stdout",
     "output_type": "stream",
     "text": [
      "0\n",
      "all accurate:  [True, True, True]\n",
      "accurate_cnt=3, total_cnt=3\n",
      "1\n",
      "all accurate:  [True, True, False]\n",
      "accurate_cnt=5, total_cnt=6\n",
      "2\n",
      "all accurate:  [True, True, True]\n",
      "accurate_cnt=8, total_cnt=9\n",
      "3\n",
      "all accurate:  [True]\n",
      "accurate_cnt=9, total_cnt=10\n",
      "4\n",
      "all accurate:  [True, True, True]\n",
      "accurate_cnt=12, total_cnt=13\n",
      "5\n",
      "all accurate:  [True, True]\n",
      "accurate_cnt=14, total_cnt=15\n",
      "6\n",
      "all accurate:  [True, True, True]\n",
      "accurate_cnt=17, total_cnt=18\n",
      "7\n",
      "all accurate:  [False, True, False, False]\n",
      "accurate_cnt=18, total_cnt=22\n",
      "8\n",
      "all accurate:  [True]\n",
      "accurate_cnt=19, total_cnt=23\n",
      "9\n",
      "all accurate:  [True]\n",
      "accurate_cnt=20, total_cnt=24\n",
      "10\n",
      "all accurate:  [True, True, False, True, False]\n",
      "accurate_cnt=23, total_cnt=29\n",
      "11\n",
      "all accurate:  [True, True]\n",
      "accurate_cnt=25, total_cnt=31\n",
      "12\n",
      "all accurate:  [True, True]\n",
      "accurate_cnt=27, total_cnt=33\n",
      "13\n",
      "all accurate:  [True]\n",
      "accurate_cnt=28, total_cnt=34\n",
      "14\n",
      "all accurate:  [True]\n",
      "accurate_cnt=29, total_cnt=35\n",
      "15\n",
      "all accurate:  [True, True]\n",
      "accurate_cnt=31, total_cnt=37\n",
      "16\n",
      "all accurate:  [True]\n",
      "accurate_cnt=32, total_cnt=38\n",
      "17\n",
      "all accurate:  [True]\n",
      "accurate_cnt=33, total_cnt=39\n",
      "18\n",
      "all accurate:  [True]\n",
      "accurate_cnt=34, total_cnt=40\n",
      "19\n",
      "all accurate:  [True, True]\n",
      "accurate_cnt=36, total_cnt=42\n"
     ]
    }
   ],
   "source": [
    "t0 = time.time()\n",
    "accurate_cnt = 0\n",
    "total_cnt = 0\n",
    "t_n = [None] * len(df_with_substrings)\n",
    "for i, row in df_with_substrings.iterrows():\n",
    "    print(i)\n",
    "    ans = test_retrieval(row['Content'])\n",
    "    \n",
    "    print(\"all accurate: \",[kw in ans for kw in row[\"Key_Substrings\"]])\n",
    "    accurate_cnt+=sum([kw in ans for kw in row[\"Key_Substrings\"]])\n",
    "    total_cnt += len(row[\"Key_Substrings\"])\n",
    "    print(f\"{accurate_cnt=}, {total_cnt=}\")\n",
    "    t_n = time.time()\n",
    "t1 = time.time()"
   ]
  },
  {
   "cell_type": "code",
   "execution_count": 147,
   "metadata": {},
   "outputs": [
    {
     "name": "stdout",
     "output_type": "stream",
     "text": [
      "time taken 5.88195538520813\n"
     ]
    }
   ],
   "source": [
    "print (\"time taken\", t1 - t0)"
   ]
  },
  {
   "cell_type": "markdown",
   "metadata": {},
   "source": [
    "question 7 is doing badly, lets dive into why"
   ]
  },
  {
   "cell_type": "code",
   "execution_count": 267,
   "metadata": {},
   "outputs": [
    {
     "data": {
      "text/plain": [
       "\"##### 4.2 Transparency\\n- Enhance transparency by developing interfaces that allow users to query AI decisions and receive explanations in understandable terms.\\n- Document all AI systems' decision-making processes and methodologies, ensuring that this documentation is accessible to all relevant stakeholders and regularly updated.\\n\\n##### 5.3 Training and Awareness\\n- Establish a continuous learning program on AI ethics, mandating regular updates to training content as ethical standards and technologies evolve.\\n- Promote an ethical AI culture by integrating ethics discussions into regular team meetings and decision-making processes.\\n\\n##### 4.4 Accountability\\n- Implement a standardized AI incident reporting system, which ensures all potential issues are logged, investigated, and addressed promptly.\\n- Define clear escalation paths for ethical concerns related to AI, including a direct line to the AI Ethics Board.\\n\\n##### 4.3 Non-Discrimination\\n- Establish a rigorous protocol for the continuous auditing of AI algorithms and training data sets to detect and correct biases that could lead to discriminatory outcomes.\\n- Create an independent review committee to evaluate and approve all new AI projects for compliance with non-discrimination standards before they are deployed.\\n\\n#### 4.2 Decision-Making Authorities\\nDecision-making within the realm of AI model governance is distributed according to the criticality and impact of the decisions. Routine decisions are managed at the departmental level, while strategic and high-impact decisions are escalated to the AI Governance Board.\""
      ]
     },
     "execution_count": 267,
     "metadata": {},
     "output_type": "execute_result"
    }
   ],
   "source": [
    "test_retrieval(\"How is transparency ensured in AI decision-making processes?\")"
   ]
  },
  {
   "cell_type": "code",
   "execution_count": 268,
   "metadata": {},
   "outputs": [
    {
     "name": "stdout",
     "output_type": "stream",
     "text": [
      "##### 4.2 Transparency\n",
      "- Enhance transparency by developing interfaces that allow users to query AI decisions and receive explanations in understandable terms.\n",
      "- Document all AI systems' decision-making processes and methodologies, ensuring that this documentation is accessible to all relevant stakeholders and regularly updated.\n",
      "\n",
      "##### 5.3 Training and Awareness\n",
      "- Establish a continuous learning program on AI ethics, mandating regular updates to training content as ethical standards and technologies evolve.\n",
      "- Promote an ethical AI culture by integrating ethics discussions into regular team meetings and decision-making processes.\n",
      "\n",
      "##### 4.4 Accountability\n",
      "- Implement a standardized AI incident reporting system, which ensures all potential issues are logged, investigated, and addressed promptly.\n",
      "- Define clear escalation paths for ethical concerns related to AI, including a direct line to the AI Ethics Board.\n",
      "\n",
      "##### 4.3 Non-Discrimination\n",
      "- Establish a rigorous protocol for the continuous auditing of AI algorithms and training data sets to detect and correct biases that could lead to discriminatory outcomes.\n",
      "- Create an independent review committee to evaluate and approve all new AI projects for compliance with non-discrimination standards before they are deployed.\n",
      "\n",
      "#### 4.2 Decision-Making Authorities\n",
      "Decision-making within the realm of AI model governance is distributed according to the criticality and impact of the decisions. Routine decisions are managed at the departmental level, while strategic and high-impact decisions are escalated to the AI Governance Board.\n"
     ]
    }
   ],
   "source": [
    "print(\"##### 4.2 Transparency\\n- Enhance transparency by developing interfaces that allow users to query AI decisions and receive explanations in understandable terms.\\n- Document all AI systems' decision-making processes and methodologies, ensuring that this documentation is accessible to all relevant stakeholders and regularly updated.\\n\\n##### 5.3 Training and Awareness\\n- Establish a continuous learning program on AI ethics, mandating regular updates to training content as ethical standards and technologies evolve.\\n- Promote an ethical AI culture by integrating ethics discussions into regular team meetings and decision-making processes.\\n\\n##### 4.4 Accountability\\n- Implement a standardized AI incident reporting system, which ensures all potential issues are logged, investigated, and addressed promptly.\\n- Define clear escalation paths for ethical concerns related to AI, including a direct line to the AI Ethics Board.\\n\\n##### 4.3 Non-Discrimination\\n- Establish a rigorous protocol for the continuous auditing of AI algorithms and training data sets to detect and correct biases that could lead to discriminatory outcomes.\\n- Create an independent review committee to evaluate and approve all new AI projects for compliance with non-discrimination standards before they are deployed.\\n\\n#### 4.2 Decision-Making Authorities\\nDecision-making within the realm of AI model governance is distributed according to the criticality and impact of the decisions. Routine decisions are managed at the departmental level, while strategic and high-impact decisions are escalated to the AI Governance Board.\")"
   ]
  },
  {
   "cell_type": "markdown",
   "metadata": {},
   "source": []
  },
  {
   "cell_type": "code",
   "execution_count": 270,
   "metadata": {},
   "outputs": [
    {
     "name": "stdout",
     "output_type": "stream",
     "text": [
      "##### 4.2 Transparency\n",
      "- Enhance transparency by developing interfaces that allow users to query AI decisions and receive explanations in understandable terms.\n",
      "- Document all AI systems' decision-making processes and methodologies, ensuring that this documentation is accessible to all relevant stakeholders and regularly updated.\n",
      "This document aims to ensure that all AI-related activities are conducted responsibly, ethically, and in compliance with all necessary guidelines and regulations, maintaining the integrity and trustworthiness of our AI applications.\n",
      "##### 5.3 Training and Awareness\n",
      "- Establish a continuous learning program on AI ethics, mandating regular updates to training content as ethical standards and technologies evolve.\n",
      "- Promote an ethical AI culture by integrating ethics discussions into regular team meetings and decision-making processes.\n",
      "##### 4.4 Accountability\n",
      "- Implement a standardized AI incident reporting system, which ensures all potential issues are logged, investigated, and addressed promptly.\n",
      "- Define clear escalation paths for ethical concerns related to AI, including a direct line to the AI Ethics Board.\n",
      "##### 4.3 Non-Discrimination\n",
      "- Establish a rigorous protocol for the continuous auditing of AI algorithms and training data sets to detect and correct biases that could lead to discriminatory outcomes.\n",
      "- Create an independent review committee to evaluate and approve all new AI projects for compliance with non-discrimination standards before they are deployed.\n",
      "#### 5. Implementation\n",
      "##### 5.1 Governance\n",
      "- Enhance the role of the AI Ethics Board to include periodic ethical reviews of existing AI systems, not just new projects, with the authority to recommend modifications or discontinuations based on ethical evaluations.\n",
      "- Introduce a third-party ethics audit performed annually to provide an unbiased assessment of our AI practices.\n",
      "#### 8.2 Reporting Mechanisms\n",
      "The company maintains a detailed reporting system for all AI governance activities. These reports are made available to regulatory bodies as required and are an essential tool for internal audits and transparency.\n",
      "#### 3. Definitions\n",
      "- **Artificial Intelligence (AI):** Systems or machines that simulate human intelligence processes, capable of learning from data and experience, making autonomous decisions, and performing tasks traditionally requiring human intelligence.\n",
      "- **Fairness:** The attribute of an AI system that impartially, justly, and equitably handles decisions without embedding or perpetuating biases.\n",
      "- **Transparency:** The quality of being open in communication and documentation regarding the methodologies, data, and algorithms used in AI systems.\n",
      "- **Non-Discrimination:** The assurance that AI systems do not engage in or propagate biases based on race, gender, ethnicity, religion, or other prohibited factors.\n",
      "- **Accountability:** The principle that individuals and organizations are responsible for the outcomes of AI systems, including the obligation to rectify any harm caused.\n"
     ]
    }
   ],
   "source": [
    "print(\"##### 4.2 Transparency\\n- Enhance transparency by developing interfaces that allow users to query AI decisions and receive explanations in understandable terms.\\n- Document all AI systems' decision-making processes and methodologies, ensuring that this documentation is accessible to all relevant stakeholders and regularly updated.\\nThis document aims to ensure that all AI-related activities are conducted responsibly, ethically, and in compliance with all necessary guidelines and regulations, maintaining the integrity and trustworthiness of our AI applications.\\n##### 5.3 Training and Awareness\\n- Establish a continuous learning program on AI ethics, mandating regular updates to training content as ethical standards and technologies evolve.\\n- Promote an ethical AI culture by integrating ethics discussions into regular team meetings and decision-making processes.\\n##### 4.4 Accountability\\n- Implement a standardized AI incident reporting system, which ensures all potential issues are logged, investigated, and addressed promptly.\\n- Define clear escalation paths for ethical concerns related to AI, including a direct line to the AI Ethics Board.\\n##### 4.3 Non-Discrimination\\n- Establish a rigorous protocol for the continuous auditing of AI algorithms and training data sets to detect and correct biases that could lead to discriminatory outcomes.\\n- Create an independent review committee to evaluate and approve all new AI projects for compliance with non-discrimination standards before they are deployed.\\n#### 5. Implementation\\n##### 5.1 Governance\\n- Enhance the role of the AI Ethics Board to include periodic ethical reviews of existing AI systems, not just new projects, with the authority to recommend modifications or discontinuations based on ethical evaluations.\\n- Introduce a third-party ethics audit performed annually to provide an unbiased assessment of our AI practices.\\n#### 8.2 Reporting Mechanisms\\nThe company maintains a detailed reporting system for all AI governance activities. These reports are made available to regulatory bodies as required and are an essential tool for internal audits and transparency.\\n#### 3. Definitions\\n- **Artificial Intelligence (AI):** Systems or machines that simulate human intelligence processes, capable of learning from data and experience, making autonomous decisions, and performing tasks traditionally requiring human intelligence.\\n- **Fairness:** The attribute of an AI system that impartially, justly, and equitably handles decisions without embedding or perpetuating biases.\\n- **Transparency:** The quality of being open in communication and documentation regarding the methodologies, data, and algorithms used in AI systems.\\n- **Non-Discrimination:** The assurance that AI systems do not engage in or propagate biases based on race, gender, ethnicity, religion, or other prohibited factors.\\n- **Accountability:** The principle that individuals and organizations are responsible for the outcomes of AI systems, including the obligation to rectify any harm caused.\")"
   ]
  },
  {
   "cell_type": "markdown",
   "metadata": {},
   "source": [
    "Here the retrieval retrieve 5 at a time no matter how many subsections are required to cover the answer. \n",
    "\n",
    "Here will show the precision and recall for retrieval. \n",
    "\n",
    "###### (In most of my past llm, experience, retrieving more than needed often do not have negative impact to the LLM response. So precision is often more important than recall. However, when I worked on a security model to unlock device using biometrics, False positive is way more important to minimize. It really depends on the project)"
   ]
  },
  {
   "cell_type": "code",
   "execution_count": 232,
   "metadata": {},
   "outputs": [
    {
     "name": "stdout",
     "output_type": "stream",
     "text": [
      "0.8571428571428571\n"
     ]
    }
   ],
   "source": [
    "n_target = sum(df_with_substrings['Key_Substrings'].apply(len))\n",
    "precision = accurate_cnt/n_target\n",
    "print(precision)"
   ]
  },
  {
   "cell_type": "code",
   "execution_count": 234,
   "metadata": {},
   "outputs": [
    {
     "name": "stdout",
     "output_type": "stream",
     "text": [
      "0.36\n"
     ]
    }
   ],
   "source": [
    "recall = accurate_cnt/ (5*len(df_with_substrings) )\n",
    "print(recall)"
   ]
  },
  {
   "cell_type": "markdown",
   "metadata": {},
   "source": [
    "A manual inspection of the case data shows that most of the cases when retrieval fails is that certain keywords do not have enough influence to the embeddings.\n",
    "Sevaral ways can solve this, \n",
    "\n",
    "1. when parsing the input to retrieval, tell the llm to generate a few more keyword for indexing.\n",
    "2. The indexing keywords are also embedded such that a single subdocument(Exceprt) will have multiple embeddings that resolve to it and when the vector search found the index, it automatically resolve to the document.\n",
    "3. Embed the summary of the subdocument in vectorstore as an indexing sentence."
   ]
  },
  {
   "cell_type": "code",
   "execution_count": 18,
   "metadata": {},
   "outputs": [],
   "source": [
    "indexed_vectorstore = Chroma(collection_name = \"subdocuments_with_index\", client = client, embedding_function=aoi_embeddings)"
   ]
  },
  {
   "cell_type": "code",
   "execution_count": 61,
   "metadata": {},
   "outputs": [],
   "source": [
    "col = client.get_collection(\"subdocuments_with_index\")"
   ]
  },
  {
   "cell_type": "code",
   "execution_count": 64,
   "metadata": {},
   "outputs": [],
   "source": [
    "t = col.get(limit = 10)"
   ]
  },
  {
   "cell_type": "code",
   "execution_count": 65,
   "metadata": {},
   "outputs": [
    {
     "data": {
      "text/plain": [
       "{'ids': ['8fdd6fc5-52a9-49e6-a1eb-bec5d80572d0',\n",
       "  '2d4a62a4-e065-4fb7-965c-3f5848c73518',\n",
       "  '32157be2-ff9a-47e3-82d5-ce44016bf844',\n",
       "  '10ea63b9-8049-4f8e-bda3-9447c5f687dd',\n",
       "  'b56f4e2f-d1ab-4c13-bd74-18d42ac76a00',\n",
       "  '9bbf24c6-d5d4-4ddf-a63a-c57bf0298181',\n",
       "  '94715dad-d20c-45f9-a2af-69a7da30b974',\n",
       "  'fdafd628-944d-42a8-a6a1-a63f28588322',\n",
       "  '40eb72d9-0c85-433c-9597-5a0e9fae214a',\n",
       "  'a593fef8-1741-439f-9784-13e1b44a7114'],\n",
       " 'embeddings': None,\n",
       " 'metadatas': [{'filename': 'Policy_1.txt',\n",
       "   'inserted_timestamp': 1731990773.1140661},\n",
       "  {'filename': 'Policy_1.txt',\n",
       "   'inserted_timestamp': 1731990774.090053,\n",
       "   'parent_id': '8fdd6fc5-52a9-49e6-a1eb-bec5d80572d0',\n",
       "   'type': 'index'},\n",
       "  {'filename': 'Policy_1.txt',\n",
       "   'inserted_timestamp': 1731990774.343678,\n",
       "   'parent_id': '8fdd6fc5-52a9-49e6-a1eb-bec5d80572d0',\n",
       "   'type': 'index'},\n",
       "  {'filename': 'Policy_1.txt',\n",
       "   'inserted_timestamp': 1731990774.605574,\n",
       "   'parent_id': '8fdd6fc5-52a9-49e6-a1eb-bec5d80572d0',\n",
       "   'type': 'index'},\n",
       "  {'filename': 'Policy_1.txt',\n",
       "   'inserted_timestamp': 1731990774.8649879,\n",
       "   'parent_id': '8fdd6fc5-52a9-49e6-a1eb-bec5d80572d0',\n",
       "   'type': 'index'},\n",
       "  {'filename': 'Policy_1.txt', 'inserted_timestamp': 1731990775.1270592},\n",
       "  {'filename': 'Policy_1.txt',\n",
       "   'inserted_timestamp': 1731990775.400625,\n",
       "   'parent_id': '9bbf24c6-d5d4-4ddf-a63a-c57bf0298181',\n",
       "   'type': 'index'},\n",
       "  {'filename': 'Policy_1.txt',\n",
       "   'inserted_timestamp': 1731990775.6601467,\n",
       "   'parent_id': '9bbf24c6-d5d4-4ddf-a63a-c57bf0298181',\n",
       "   'type': 'index'},\n",
       "  {'filename': 'Policy_1.txt',\n",
       "   'inserted_timestamp': 1731990775.9215856,\n",
       "   'parent_id': '9bbf24c6-d5d4-4ddf-a63a-c57bf0298181',\n",
       "   'type': 'index'},\n",
       "  {'filename': 'Policy_1.txt',\n",
       "   'inserted_timestamp': 1731990776.1830113,\n",
       "   'parent_id': '9bbf24c6-d5d4-4ddf-a63a-c57bf0298181',\n",
       "   'type': 'index'}],\n",
       " 'documents': ['### Comprehensive Data Privacy Policy\\n\\n**1. Introduction**\\n\\n**Purpose of the Policy:**  \\nAt Canyon, safeguarding the privacy and security of personal data is a foundational principle of our business operations. This Data Privacy Policy is designed to transparently communicate our unwavering commitment to the protection of personal information across all aspects of our operations, reflecting our dedication to ethical practices and legal compliance.\\n\\n**Scope of the Policy:**  \\nThis policy applies universally to all personal and sensitive information collected by Canyon from our customers, users, and employees. It encompasses all forms of data handling activities related to our services, products, and platforms, irrespective of the data collection medium or geographic location of the data subjects.',\n",
       "  'Introduction',\n",
       "  'Purpose of the Policy',\n",
       "  'Scope of the Policy',\n",
       "  'Introduction to the data privacy policy, outlining its purpose and scope.',\n",
       "  '**2. Data Collection Practices**\\n\\n**Types of Data Collected:**\\n- **Personal Identification Information (PII):** Includes but is not limited to names, email addresses, physical addresses, telephone numbers, and payment details.\\n- **Usage Data:** Comprises data on how individuals access and utilize our services, such as time stamps, clicked links, and viewed pages.\\n- **Interaction Data:** Consists of data generated from user interactions with our services, including customer support interactions, user feedback, and activity logs.\\n\\n**Methods of Data Collection:**\\n- **Direct Interactions:** Data collected via account registrations, service subscriptions, purchases, and direct communications.\\n- **Automated Technologies:** Utilization of cookies, web beacons, and other similar technologies to gather data that helps us understand user preferences and site usage patterns.\\n\\n**Purpose of Data Collection:**  \\nThe data collected serves multiple purposes:\\n- To enhance the functionality and security of our services.\\n- To personalize user experiences.\\n- To support internal operations such as auditing, data analysis, and research to improve our offerings.\\n- To train and refine our AI models, ensuring they are effective and ethical in their applications.',\n",
       "  'Data Collection Practices',\n",
       "  'Types of Data Collected',\n",
       "  'Methods of Data Collection',\n",
       "  'Purpose of Data Collection'],\n",
       " 'data': None,\n",
       " 'uris': None,\n",
       " 'included': ['documents', 'metadatas']}"
      ]
     },
     "execution_count": 65,
     "metadata": {},
     "output_type": "execute_result"
    }
   ],
   "source": [
    "t"
   ]
  },
  {
   "cell_type": "code",
   "execution_count": 50,
   "metadata": {},
   "outputs": [],
   "source": [
    "indexed_vectorstore.reset_collection()"
   ]
  },
  {
   "cell_type": "code",
   "execution_count": 51,
   "metadata": {},
   "outputs": [
    {
     "data": {
      "text/plain": [
       "['### Comprehensive Data Privacy Policy\\n\\n**1. Introduction**\\n\\n**Purpose of the Policy:**  \\nAt Canyon, safeguarding the privacy and security of personal data is a foundational principle of our business operations. This Data Privacy Policy is designed to transparently communicate our unwavering commitment to the protection of personal information across all aspects of our operations, reflecting our dedication to ethical practices and legal compliance.\\n\\n**Scope of the Policy:**  \\nThis policy applies universally to all personal and sensitive information collected by Canyon from our customers, users, and employees. It encompasses all forms of data handling activities related to our services, products, and platforms, irrespective of the data collection medium or geographic location of the data subjects.\\n\\n**2. Data Collection Practices**\\n\\n**Types of Data Collected:**\\n- **Personal Identification Information (PII):** Includes but is not limited to names, email addresses, physical addresses, telephone numbers, and payment details.\\n- **Usage Data:** Comprises data on how individuals access and utilize our services, such as time stamps, clicked links, and viewed pages.\\n- **Interaction Data:** Consists of data generated from user interactions with our services, including customer support interactions, user feedback, and activity logs.\\n\\n**Methods of Data Collection:**\\n- **Direct Interactions:** Data collected via account registrations, service subscriptions, purchases, and direct communications.\\n- **Automated Technologies:** Utilization of cookies, web beacons, and other similar technologies to gather data that helps us understand user preferences and site usage patterns.\\n\\n**Purpose of Data Collection:**  \\nThe data collected serves multiple purposes:\\n- To enhance the functionality and security of our services.\\n- To personalize user experiences.\\n- To support internal operations such as auditing, data analysis, and research to improve our offerings.\\n- To train and refine our AI models, ensuring they are effective and ethical in their applications.\\n\\n**3. Data Storage and Management**\\n\\n**Data Storage Locations:**  \\nData is securely stored in state-of-the-art data centers located in the United States, the European Union, and other jurisdictions, depending on the nature of the data and the services provided. Each location is chosen based on stringent security standards and data protection compliance.\\n\\n**Data Security Measures:**\\n- **Encryption Techniques:** Utilizing advanced encryption standards to protect data at rest and in transit.\\n- **Access Controls:** Implementation of role-based access controls (RBAC) to ensure that only authorized personnel have access to sensitive data, based on their job responsibilities.\\n- **Regular Security Audits:** Conducting comprehensive security audits and vulnerability assessments to proactively manage and mitigate risks.\\n\\n**Data Retention Policy:**  \\nWe adhere to a strict data retention policy that specifies the duration for which different types of data are held. Data is only retained as long as necessary to fulfill the stated purposes, after which it is securely deleted or anonymized.\\n\\n**4. Data Usage**\\n\\n**Internal Use of Data:**\\n- **Product and Service Enhancement:** Using collected data to improve existing services and develop new offerings.\\n- **AI Model Training:** Employing data in the training and refinement of AI algorithms to ensure accuracy and fairness.\\n\\n**Decision-Making Processes:**  \\nWe utilize data-driven insights to facilitate automated and semi-automated decision-making processes. These are designed with a focus on fairness, accuracy, and accountability, incorporating mechanisms for human oversight and intervention when necessary.\\n\\n**User Benefits:**  \\nThe use of data significantly enhances our ability to offer personalized and efficient services, improving overall user satisfaction and engagement.\\n\\n**5. Data Sharing and Disclosure**\\n\\n**Circumstances Under Which Data is Shared:**\\n- **Service Providers:** Sharing with trusted partners who provide data processing services on our behalf, under strict confidentiality agreements.\\n- **Legal and Compliance Requirements:** Disclosing data when required by law, such as in response to legal processes or for compliance with regulatory obligations.\\n\\n**Safeguards for Data Sharing:**  \\nWe implement robust contractual protections to ensure that any data shared is treated in accordance with our privacy standards and applicable laws.\\n\\n**User Control and Consent:**  \\nProviding users with comprehensive control over their personal information, including mechanisms to grant or withdraw consent, access data, and request data deletion.\\n\\n**6. Rights of Data Subjects**\\n\\n**Access to Data:**  \\nUsers have the right to access their data and receive information about its processing, ensuring they can verify legality and accuracy.\\n\\n**Data Correction and Deletion:**  \\nWe provide options for users to correct inaccuracies in their data or to have it erased from our systems, subject to certain conditions.\\n\\n**Data Portability:**  \\nFacilitating the right of data portability, allowing users to obtain and reuse their personal data across different services.\\n\\n**7. Policy Enforcement and Compliance**\\n\\n**Compliance with Laws and Regulations:**  \\nOur policy adheres to international, federal, and state regulations, ensuring compliance with laws such as GDPR, CCPA, and others.\\n\\n**Reporting and Addressing Violations:**  \\nWe have established a formal procedure for addressing data privacy concerns and policy violations, ensuring prompt and effective resolution.\\n\\n**Updates to the Policy:**\\n\\n  \\nThis policy may be updated periodically to reflect changes in our practices or legal requirements, with substantial changes communicated directly to users.\\n\\n**8. Contact Information**\\n\\n**Contact Details for Privacy Concerns:**  \\nFor further inquiries or concerns regarding our Data Privacy Policy, users can contact our Data Protection Officer at [privacy@email.com].\\n\\n**9. Conclusion**\\n\\nAt Canyon, we are dedicated to maintaining the trust of our users by adhering to the highest standards of data privacy and security. We encourage all users to review this policy regularly to stay informed of how we protect their personal information.\\n',\n",
       " \"### Comprehensive AI Ethics Policy Document\\n\\n#### 1. Introduction\\nThis document articulates Canyon's unwavering commitment to the ethical development, deployment, and management of artificial intelligence (AI). As a leader in AI innovation, we recognize our responsibility to ensure that our technologies enhance societal well-being and are utilized in a manner that respects human dignity and rights. This policy provides the ethical guidelines our employees and partners must follow to uphold integrity and promote the beneficial use of AI.\\n\\n#### 2. Scope\\nThis policy encompasses all AI-related activities at Canyon, including the design, development, procurement, deployment, maintenance, and decommissioning of AI systems. It applies universally across our global operations, affecting all employees, contractors, consultants, and business partners involved with AI technologies.\\n\\n#### 3. Definitions\\n- **Artificial Intelligence (AI):** Systems or machines that simulate human intelligence processes, capable of learning from data and experience, making autonomous decisions, and performing tasks traditionally requiring human intelligence.\\n- **Fairness:** The attribute of an AI system that impartially, justly, and equitably handles decisions without embedding or perpetuating biases.\\n- **Transparency:** The quality of being open in communication and documentation regarding the methodologies, data, and algorithms used in AI systems.\\n- **Non-Discrimination:** The assurance that AI systems do not engage in or propagate biases based on race, gender, ethnicity, religion, or other prohibited factors.\\n- **Accountability:** The principle that individuals and organizations are responsible for the outcomes of AI systems, including the obligation to rectify any harm caused.\\n\\n#### 4. Principles\\n##### 4.1 Fairness\\n- Develop and implement an ongoing bias monitoring framework that includes periodic reviews of AI systems to identify and mitigate biases.\\n- Collaborate with interdisciplinary teams, including ethicists and sociologists, to understand and address the nuances of fairness in diverse cultural and social contexts.\\n\\n##### 4.2 Transparency\\n- Enhance transparency by developing interfaces that allow users to query AI decisions and receive explanations in understandable terms.\\n- Document all AI systems' decision-making processes and methodologies, ensuring that this documentation is accessible to all relevant stakeholders and regularly updated.\\n\\n##### 4.3 Non-Discrimination\\n- Establish a rigorous protocol for the continuous auditing of AI algorithms and training data sets to detect and correct biases that could lead to discriminatory outcomes.\\n- Create an independent review committee to evaluate and approve all new AI projects for compliance with non-discrimination standards before they are deployed.\\n\\n##### 4.4 Accountability\\n- Implement a standardized AI incident reporting system, which ensures all potential issues are logged, investigated, and addressed promptly.\\n- Define clear escalation paths for ethical concerns related to AI, including a direct line to the AI Ethics Board.\\n\\n#### 5. Implementation\\n##### 5.1 Governance\\n- Enhance the role of the AI Ethics Board to include periodic ethical reviews of existing AI systems, not just new projects, with the authority to recommend modifications or discontinuations based on ethical evaluations.\\n- Introduce a third-party ethics audit performed annually to provide an unbiased assessment of our AI practices.\\n\\n##### 5.2 Risk Assessment\\n- Develop a comprehensive ethical risk assessment toolkit that includes templates, best practices, and guidelines to standardize the assessment process across the company.\\n- Employ predictive modeling to forecast potential ethical issues under various operational scenarios and use these insights to guide AI system development.\\n\\n##### 5.3 Training and Awareness\\n- Establish a continuous learning program on AI ethics, mandating regular updates to training content as ethical standards and technologies evolve.\\n- Promote an ethical AI culture by integrating ethics discussions into regular team meetings and decision-making processes.\\n\\n##### 5.4 Reporting and Auditing\\n- Set up an anonymous ethics violation reporting system, encouraging stakeholders to report any unethical AI practices without fear of retribution.\\n- Publicly release a detailed annual report on ethical practices, challenges, and advancements in AI to maintain transparency and encourage industry-wide ethical standards.\\n\\n#### 6. Enforcement\\n- Specify the procedures for handling violations of this ethics policy, including detailed descriptions of disciplinary actions ranging from warnings to termination, depending on the severity of the breach.\\n\\n#### 7. Review and Updates\\n- Commit to a biannual review cycle for this policy to stay aligned with technological advancements, legal changes, and evolving societal norms regarding AI ethics.\\n\\n### Conclusion\\nBy adhering to the expanded guidelines outlined in this AI Ethics Policy, Canyon commits to being at the forefront of ethical AI development. This policy ensures that our technologies are used in a way that is beneficial and just, fostering trust and collaboration with all stakeholders involved.\",\n",
       " '## Model Governance Policy\\n\\n### 1. Introduction\\n#### 1.1 Purpose\\nThis document delineates the guiding principles and procedures for the governance of artificial intelligence (AI) model development, deployment, and monitoring within our organization. It aims to establish a robust framework that ensures our AI models operate effectively, ethically, and in compliance with all applicable regulations. The policy serves to safeguard our technological innovations, uphold our ethical commitments, and maintain stakeholder trust.\\n\\n#### 1.2 Scope\\nThe Model Governance Policy applies to all AI models developed, deployed, or managed by our company, across all departments and subsidiaries. It includes models at various stages of the lifecycle, from initial conception and development through to deployment and continuous monitoring.\\n\\n#### 1.3 Audience\\nThis policy is intended for a broad range of stakeholders including AI developers, project managers, compliance officers, and executive leadership. Each role has a responsibility to understand and implement the guidelines set forth in this policy to ensure effective and ethical model governance.\\n\\n### 2. Policy Statement\\n#### 2.1 Commitment to Ethical AI\\nOur company is committed to the highest standards of ethical conduct in all our AI endeavors. We pledge to develop and deploy AI technologies that are fair, transparent, accountable, and secure, respecting privacy and ensuring non-discrimination.\\n\\n### 3. Definitions and Key Terms\\n#### 3.1 Glossary\\n**AI Model**: A software algorithm designed to perform tasks that typically require human intelligence, such as decision-making, prediction, or pattern recognition.\\n**Deployment**: The process of integrating an AI model into operational environments where it can start performing its intended tasks.\\n**Monitoring**: Continuous oversight of AI models to ensure they operate as expected and do not deviate from predefined norms and ethics.\\n\\n### 4. Governance Structure\\n#### 4.1 Governance Roles and Responsibilities\\n- **AI Governance Board**: Oversees all AI initiatives and ensures adherence to this policy.\\n- **Model Owners**: Responsible for the performance and compliance of specific AI models.\\n- **Data Scientists**: Tasked with the development and fine-tuning of AI models according to ethical guidelines.\\n\\n#### 4.2 Decision-Making Authorities\\nDecision-making within the realm of AI model governance is distributed according to the criticality and impact of the decisions. Routine decisions are managed at the departmental level, while strategic and high-impact decisions are escalated to the AI Governance Board.\\n\\n### 5. Development and Testing\\n#### 5.1 Model Design and Development Process\\nAI model development must follow a structured process that includes requirement gathering, design, development, and initial testing phases. Each phase should be documented thoroughly to ensure transparency and accountability. The design phase should consider ethical implications, potential biases, and intended and unintended uses of the model.\\n\\n#### 5.2 Testing and Validation\\nModels must undergo rigorous testing to validate their accuracy, performance, and fairness. Validation tests should be designed to cover various operational scenarios and should include stress and failure mode analysis. Documentation of all test results is mandatory for auditability and further review.\\n\\n### 6. Deployment\\n#### 6.1 Deployment Procedures\\nBefore deployment, AI models must be reviewed by the AI Governance Board to ensure compliance with all internal and external standards. This review includes a final round of testing focused on security and performance under expected operational conditions.\\n\\n#### 6.2 Deployment Monitoring\\nPost-deployment, AI models require continuous monitoring to detect and correct any deviation from their expected operational performance or ethical standards. Monitoring strategies include the implementation of automated performance tracking tools and periodic model audits.\\n\\n### 7. Monitoring and Maintenance\\n#### 7.1 Performance Monitoring\\nContinuous performance evaluation is essential to ensure that AI models function as intended over time. This involves regular checks against performance metrics and real-world outcomes to identify any degradation or deviation from expected results.\\n\\n#### 7.2 Model Updating and Maintenance\\nModels must be maintained and updated regularly to adapt to new data, changing environments, or updated regulatory requirements. The maintenance schedule and procedures should be clearly defined and followed meticulously to ensure ongoing relevance and compliance of the AI models.\\n\\n### 8. Compliance and Reporting\\n#### 8.1 Regulatory Compliance\\nAll model governance activities must adhere to relevant local, national, and international AI regulations. This compliance is critical not only for legal reasons but also to maintain public trust and uphold ethical standards.\\n\\n#### 8.2 Reporting Mechanisms\\nThe company maintains a detailed reporting system for all AI governance activities. These reports are made available to regulatory bodies as required and are an essential tool for internal audits and transparency.\\n\\n### 9. Risk Management\\n#### 9.1 Risk Identification and Assessment\\nIdentifying potential risks associated with AI models, including ethical risks, technical failures, and data privacy concerns, is crucial. Each identified risk must be assessed for its impact and likelihood.\\n\\n#### 9.2 Risk Response and Mitigation\\nFor each identified risk, a specific mitigation strategy must be developed and implemented. These strategies may include additional training, enhanced security measures, or changes to model development practices.\\n\\n### 10.\\n\\n Training and Awareness\\n#### 10.1 Employee Training Programs\\nWe provide comprehensive training to all employees involved in AI development and management. This training covers technical aspects of AI, ethical considerations, and policy guidelines.\\n\\n#### 10.2 Awareness Campaigns\\nRegular awareness campaigns are conducted to keep all staff informed about the latest developments in AI governance, emerging ethical considerations, and new regulatory requirements.\\n\\n### 11. Policy Review and Update\\n#### 11.1 Review Schedule\\nThis policy is reviewed bi-annually to ensure its relevance and effectiveness. Reviews are conducted by the AI Governance Board in consultation with key stakeholders.\\n\\n#### 11.2 Updating Procedures\\nAny updates to the policy must be thoroughly documented, approved by the AI Governance Board, and communicated to all affected parties before implementation.\\n\\n### 12. Appendices and Supporting Documents\\n#### 12.1 Related Documents\\nRelated policies, guidelines, and documents are listed in the Appendix. These documents provide additional information and operational details supporting this policy.\\n\\n#### 12.2 Contact Information\\nFor questions or clarifications regarding any aspect of this policy, please refer to the contact list provided in the Appendix.\\n\\nThis document aims to ensure that all AI-related activities are conducted responsibly, ethically, and in compliance with all necessary guidelines and regulations, maintaining the integrity and trustworthiness of our AI applications.']"
      ]
     },
     "execution_count": 51,
     "metadata": {},
     "output_type": "execute_result"
    }
   ],
   "source": [
    "policies_texts"
   ]
  },
  {
   "cell_type": "markdown",
   "metadata": {},
   "source": [
    "Now update the embedding pipeline"
   ]
  },
  {
   "cell_type": "code",
   "execution_count": 52,
   "metadata": {},
   "outputs": [
    {
     "name": "stdout",
     "output_type": "stream",
     "text": [
      "document added ['8fdd6fc5-52a9-49e6-a1eb-bec5d80572d0'] ### Comprehensive Data Privacy Policy\n",
      "\n",
      "**1. Introduction**\n",
      "\n",
      "**Purpose of the Policy:**  \n",
      "At Canyon, \n",
      "document added ['2d4a62a4-e065-4fb7-965c-3f5848c73518'] Introduction\n",
      "document added ['32157be2-ff9a-47e3-82d5-ce44016bf844'] Purpose of the Policy\n",
      "document added ['10ea63b9-8049-4f8e-bda3-9447c5f687dd'] Scope of the Policy\n",
      "document added ['b56f4e2f-d1ab-4c13-bd74-18d42ac76a00'] Introduction to the data privacy policy, outlining its purpose and scope.\n",
      "document added ['9bbf24c6-d5d4-4ddf-a63a-c57bf0298181'] **2. Data Collection Practices**\n",
      "\n",
      "**Types of Data Collected:**\n",
      "- **Personal Identification Informati\n",
      "document added ['94715dad-d20c-45f9-a2af-69a7da30b974'] Data Collection Practices\n",
      "document added ['fdafd628-944d-42a8-a6a1-a63f28588322'] Types of Data Collected\n",
      "document added ['40eb72d9-0c85-433c-9597-5a0e9fae214a'] Methods of Data Collection\n",
      "document added ['a593fef8-1741-439f-9784-13e1b44a7114'] Purpose of Data Collection\n",
      "document added ['c4646a0e-78a4-4870-ba13-03f834c55f44'] Details on data collection practices, including types, methods, and purposes of data collection.\n",
      "document added ['c9b939e6-5c2a-4fd8-b4d5-44cf1d2c26db'] **3. Data Storage and Management**\n",
      "\n",
      "**Data Storage Locations:**  \n",
      "Data is securely stored in state-o\n",
      "document added ['6b38089f-721f-40a0-a2b1-6943c2f383e6'] Data Storage and Management\n",
      "document added ['9dd3a0c5-6b7f-4c51-b44e-f108951f4d75'] Data Storage Locations\n",
      "document added ['c1056dd9-d1ce-4b58-9397-35984682d534'] Data Security Measures\n",
      "document added ['f3d8a327-3703-4801-a4b9-af6a369de0e5'] Data Retention Policy\n",
      "document added ['78d10119-e11d-4e72-8e11-5b40aecd5fe1'] Information on data storage locations, security measures, and data retention policy.\n",
      "document added ['a7d8cd46-2317-4c95-8dc2-335872a41aa6'] **4. Data Usage**\n",
      "\n",
      "**Internal Use of Data:**\n",
      "- **Product and Service Enhancement:** Using collected \n",
      "document added ['46a89032-7e7f-4cc4-812e-195c0fb9d2c3'] Data Usage\n",
      "document added ['94bdd39d-5627-414a-9f04-6fde918eac3f'] Internal Use of Data\n",
      "document added ['be304e0a-715e-4adf-94bd-8bffbfc315f6'] Decision-Making Processes\n",
      "document added ['e63185b0-6d0a-4c4b-8af6-7c70fd097d7e'] User Benefits\n",
      "document added ['17bae627-e2d9-4623-a72e-090a7582174e'] Explanation of how data is used internally, decision-making processes, and user benefits.\n",
      "document added ['7fa790b5-c4c9-4f67-a097-93856f5f90eb'] **5. Data Sharing and Disclosure**\n",
      "\n",
      "**Circumstances Under Which Data is Shared:**\n",
      "- **Service Provid\n",
      "document added ['fbc97894-9667-493f-b276-92d171d6fd8e'] Data Sharing and Disclosure\n",
      "document added ['0bf3dc83-d093-4d10-9615-d12292069142'] Circumstances Under Which Data is Shared\n",
      "document added ['1ffab03b-837e-4f49-ace9-65fff21a0461'] Safeguards for Data Sharing\n",
      "document added ['36ef399d-cec0-461a-8bb1-f22a637f74ec'] User Control and Consent\n",
      "document added ['34855187-b0de-4103-8343-a3b13563f326'] Details on data sharing, disclosure circumstances, safeguards, and user control.\n",
      "document added ['103b05c9-9063-48e1-82b2-30b69cfacfaf'] **6. Rights of Data Subjects**\n",
      "\n",
      "**Access to Data:**  \n",
      "Users have the right to access their data and \n",
      "document added ['d4ceb0c5-f1f3-4d54-97a1-d713a53a4de8'] Rights of Data Subjects\n",
      "document added ['f31e6095-8aa9-4528-a4eb-9202c02afe73'] Access to Data\n",
      "document added ['361cb488-1c09-41f9-9482-a2fe77dddef4'] Data Correction and Deletion\n",
      "document added ['ebb2015a-4b2c-4ca9-88ac-a35e04a6920e'] Data Portability\n",
      "document added ['8b1bc5df-ffca-48e9-918f-47ada7777e01'] Explanation of data subjects' rights, including access, correction, deletion, and portability.\n",
      "document added ['cfa693a7-3666-4b6a-a7bd-023e2a5ef460'] **7. Policy Enforcement and Compliance**\n",
      "\n",
      "**Compliance with Laws and Regulations:**  \n",
      "Our policy adh\n",
      "document added ['375b58f0-0e7e-4cf4-9479-99f5ae23bcb3'] Policy Enforcement and Compliance\n",
      "document added ['a3d861c3-2176-432b-9818-07959deabec9'] Compliance with Laws and Regulations\n",
      "document added ['d6132996-30af-42c3-875b-6273b63524b4'] Reporting and Addressing Violations\n",
      "document added ['a2934aa7-cc56-417a-a729-e822329b9388'] Updates to the Policy\n",
      "document added ['76346550-d6a5-4910-b98a-230ac1a7b1bf'] Information on policy enforcement, compliance, and updates.\n",
      "document added ['9fe64d92-5edf-43d2-bffb-331e083a91eb'] **8. Contact Information**\n",
      "\n",
      "**Contact Details for Privacy Concerns:**  \n",
      "For further inquiries or con\n",
      "document added ['f931b4ae-94bf-40b5-9d04-4b372f512ced'] Contact Information\n",
      "document added ['cd5a9267-89ee-464e-87b2-32a616df6022'] Contact Details for Privacy Concerns\n",
      "document added ['d5b44ce9-85bb-4123-99db-4dc841f09872'] Contact information for privacy concerns.\n",
      "document added ['267e06bb-2b2f-49d6-ac0b-121e58ba8caf'] **9. Conclusion**\n",
      "\n",
      "At Canyon, we are dedicated to maintaining the trust of our users by adhering to \n",
      "document added ['8572ae73-8b6f-478c-92d0-214379e2a9a1'] Conclusion\n",
      "document added ['cf52a840-9f7e-4270-a02e-451283569f17'] Commitment to Data Privacy and Security\n",
      "document added ['f8975cc7-d689-4a37-830a-4c1a3346bc08'] Conclusion emphasizing Canyon's commitment to data privacy and security.\n",
      "document added ['9cabd471-e404-4e62-a4d9-cb4ca953cab5'] ### Comprehensive AI Ethics Policy Document\n",
      "\n",
      "#### 1. Introduction\n",
      "This document articulates Canyon's\n",
      "document added ['6a3f423f-ccc4-4cd8-97bb-3ad6b5550ad2'] AI Ethics\n",
      "document added ['0e74695f-5934-48ef-9897-53ebeb55629d'] Introduction\n",
      "document added ['b3b98b6b-c2c7-450b-97ff-dd26f8d014b2'] Canyon\n",
      "document added ['0a0f5238-85c8-4962-b8bf-3dfa6655b661'] ethical guidelines\n",
      "document added ['52b35151-a291-4651-8674-af03ff47cdd5'] Introduction to Canyon's commitment to ethical AI development and the purpose of the policy.\n",
      "document added ['51a2098c-ff6e-4d29-820c-750ef0a35e83'] #### 2. Scope\n",
      "This policy encompasses all AI-related activities at Canyon, including the design, dev\n",
      "document added ['18a66be0-faed-4b9a-8ce3-681c2a2383c1'] Scope\n",
      "document added ['54125440-01d4-407f-b4a5-e8d662a0a971'] AI-related activities\n",
      "document added ['13d48608-746d-44c7-bf37-35256ac56279'] Canyon\n",
      "document added ['71d9e365-de26-404c-acd6-573ae872faf9'] global operations\n",
      "document added ['89f6b054-5069-42ce-884d-e75ebcd2fac6'] Scope of the policy covering all AI-related activities at Canyon.\n",
      "document added ['6f9e614c-2c70-42d4-9019-1dab9e4403e6'] #### 3. Definitions\n",
      "- **Artificial Intelligence (AI):** Systems or machines that simulate human inte\n",
      "document added ['2e3b2b34-ba4e-4ae6-8b79-9c931e7d0d9c'] Definitions\n",
      "document added ['31e42623-1cb8-44b6-ae7a-bae644bbbcca'] Artificial Intelligence\n",
      "document added ['25192f55-f19c-438e-b67d-db04d7ba379d'] Fairness\n",
      "document added ['1920a8ee-67b0-42fb-854a-c54c99218ea7'] Transparency\n",
      "document added ['d3d2d7e3-873c-4dd9-936a-41dc5fc45ed7'] Non-Discrimination\n",
      "document added ['6f9eedc1-b62c-4448-a665-e008b049fa40'] Accountability\n",
      "document added ['dc2ea262-5ad2-4a72-b96d-ce1582d65c2b'] Definitions of key terms related to AI ethics used in the policy.\n",
      "document added ['96fdb25c-dcd5-4425-9135-fd189df86042'] #### 4. Principles\n",
      "##### 4.1 Fairness\n",
      "- Develop and implement an ongoing bias monitoring framework t\n",
      "document added ['76e685c2-89aa-405d-bb7f-d0d3a7d5f6c6'] Principles\n",
      "document added ['5da7d491-1df4-4245-b4d8-85d4463cb4d2'] Fairness\n",
      "document added ['59d473cc-7ab5-40be-a610-815073520c2b'] bias monitoring\n",
      "document added ['00e07e4e-04af-4a41-8aa0-fbbd8cda4f2c'] interdisciplinary collaboration\n",
      "document added ['177fd286-dc45-40ee-956f-efeb4a174a7c'] Principles of fairness in AI, including bias monitoring and interdisciplinary collaboration.\n",
      "document added ['a01362ac-845e-4d6d-ae02-2f368a2f413e'] ##### 4.2 Transparency\n",
      "- Enhance transparency by developing interfaces that allow users to query AI \n",
      "document added ['2fbdd853-d873-4aa6-a9a0-9c254a5751d2'] Principles\n",
      "document added ['89892f17-a3ab-40b5-928d-8daa8c73f368'] Transparency\n",
      "document added ['c8cd384e-f488-4fae-9610-0c4aa72683d2'] user interfaces\n",
      "document added ['3e5ebf16-fd9c-4e6d-aa08-26cf858e7743'] documentation\n",
      "document added ['5b82a2d8-9057-407b-bcd1-5f73f19e89f8'] Principles of transparency in AI, focusing on user interfaces and documentation.\n",
      "document added ['d4c4f265-8136-4eb5-858f-00901306e1ab'] ##### 4.3 Non-Discrimination\n",
      "- Establish a rigorous protocol for the continuous auditing of AI algor\n",
      "document added ['0411b31f-1387-446c-9fcb-0ce796c89662'] Principles\n",
      "document added ['3244d57c-fd86-46f1-9990-1a038fac6f19'] Non-Discrimination\n",
      "document added ['f2a0820d-8680-449e-b6c8-fae06cc35391'] auditing\n",
      "document added ['daf7f6bd-a826-492d-be65-f7f8392b1b4c'] review committees\n",
      "document added ['534470d1-0bb1-4314-891d-fdb67b646fc8'] Principles of non-discrimination in AI, including auditing and review committees.\n",
      "document added ['e9530b87-9fa2-42b5-b1af-0f8f03415969'] ##### 4.4 Accountability\n",
      "- Implement a standardized AI incident reporting system, which ensures all \n",
      "document added ['b5935a3b-3164-4621-8126-06542e0e7571'] Principles\n",
      "document added ['0e66c34b-d237-45f6-8c3d-34f40f96e41f'] Accountability\n",
      "document added ['d28d4248-6dab-4c78-a0c7-df7adcea2111'] incident reporting\n",
      "document added ['cacf6e38-11e3-486c-9ddc-7f88cb8b06c7'] escalation paths\n",
      "document added ['d9744f87-77cf-46a0-a276-1e9e4f46de74'] Principles of accountability in AI, focusing on incident reporting and escalation paths.\n",
      "document added ['00c43379-c920-47c4-8efe-6409588a95bf'] #### 5. Implementation\n",
      "##### 5.1 Governance\n",
      "- Enhance the role of the AI Ethics Board to include per\n",
      "document added ['ce955a8d-59a6-4ea3-bc6a-8f44e037f468'] Implementation\n",
      "document added ['47e8c6f9-3f0d-45eb-9616-f3c4c5ff3e5e'] Governance\n",
      "document added ['d513b263-aac8-4906-aa24-78a87d2248a4'] AI Ethics Board\n",
      "document added ['28585e7a-6e0b-4caf-b5d4-2b76b237a55a'] third-party audits\n",
      "document added ['158f94a3-34de-4168-b10e-0dbe3e7e6743'] Governance in AI implementation, including the role of the AI Ethics Board and third-party audits.\n",
      "document added ['a3e08eb4-16e1-494e-ae78-89a7a45249ad'] ##### 5.2 Risk Assessment\n",
      "- Develop a comprehensive ethical risk assessment toolkit that includes te\n",
      "document added ['90b4c8e8-1767-4814-8c46-af095dd23d50'] Implementation\n",
      "document added ['794656c2-b94c-4454-9777-584ebfdc71f8'] Risk Assessment\n",
      "document added ['a7a1a167-191e-4691-976f-c579662c8084'] toolkits\n",
      "document added ['0575b2da-247d-4f82-9c17-0b70e84871c4'] predictive modeling\n",
      "document added ['70d630da-fec1-4c72-ad90-989a44d63f7c'] Risk assessment in AI implementation, focusing on toolkits and predictive modeling.\n",
      "document added ['f2d45e56-3e89-475c-81a6-43b486ecd844'] ##### 5.3 Training and Awareness\n",
      "- Establish a continuous learning program on AI ethics, mandating r\n",
      "document added ['47e2f02e-a055-4307-b331-afc181ebdd6e'] Implementation\n",
      "document added ['6ae4eefe-09fb-42c7-94bb-28892aff0301'] Training\n",
      "document added ['3bf5c1eb-cd0d-4b0f-ab3e-5d982635dde9'] Awareness\n",
      "document added ['c8cecda2-d40c-41f2-b551-4898dbe98027'] continuous learning\n",
      "document added ['8c78b593-0fc5-44dc-98f9-c69d5374b84a'] ethical culture\n",
      "document added ['b75d0798-f4c9-4f38-92ba-709b7ace7a66'] Training and awareness in AI implementation, focusing on continuous learning and ethical culture.\n",
      "document added ['b90be2c1-ed07-4c59-82c5-e41f05070b6b'] ##### 5.4 Reporting and Auditing\n",
      "- Set up an anonymous ethics violation reporting system, encouragin\n",
      "document added ['91589ab6-c2f6-4fbf-9a9f-e36af596da51'] Implementation\n",
      "document added ['af1976dc-f4d5-4f31-9f0e-d90146f4083c'] Reporting\n",
      "document added ['4e8e9ec0-42f5-4dcc-8416-762bff49489f'] Auditing\n",
      "document added ['91b96105-0034-4c1f-868a-33732cbd5f01'] ethics violation reporting\n",
      "document added ['462f52d7-d554-4b41-bb8c-69d83d33fea6'] annual reports\n",
      "document added ['74514f1a-ecce-4a28-b39a-e264189b576b'] Reporting and auditing in AI implementation, focusing on ethics violation reporting and annual repor\n",
      "document added ['1ba1419e-78ce-4394-bc52-801084b9ab45'] #### 6. Enforcement\n",
      "- Specify the procedures for handling violations of this ethics policy, includin\n",
      "document added ['c2a3cafe-c461-41aa-ad1d-69f325432b88'] Enforcement\n",
      "document added ['bd76f270-b30c-4309-aa24-6145505d97d8'] violations\n",
      "document added ['d7824d95-1706-4ed4-928e-39d45dc4aa78'] disciplinary actions\n",
      "document added ['c67106b5-f82c-4366-aca5-989d127aa7c8'] Enforcement procedures for handling violations of the AI ethics policy.\n",
      "document added ['f741c05a-4ece-47c0-a7fa-791bc94c5562'] #### 7. Review and Updates\n",
      "- Commit to a biannual review cycle for this policy to stay aligned with \n",
      "document added ['898694c7-e11a-4484-b0ac-26c1ccb7e697'] Review\n",
      "document added ['ab01c1a5-140d-42a8-9aa3-68c70c38d7f0'] Updates\n",
      "document added ['5e668334-4316-4fb4-85dd-dac8ff88160e'] biannual review\n",
      "document added ['fceaece9-e683-4069-9291-6e9f4ca74dbe'] technological advancements\n",
      "document added ['f5cb2d1f-dea3-40ef-be83-3a8966caf1bd'] Review and update cycle for the AI ethics policy.\n",
      "document added ['3f18c147-585a-49d5-9039-7b3ccee56ff7'] ### Conclusion\n",
      "By adhering to the expanded guidelines outlined in this AI Ethics Policy, Canyon comm\n",
      "document added ['61484643-82ea-4613-a2b2-56c7e9ac2813'] Conclusion\n",
      "document added ['795ccf82-e998-49ce-be03-d66f66d18653'] ethical AI development\n",
      "document added ['6fe26b1b-2393-4469-bf26-735b2653c4c0'] Canyon\n",
      "document added ['e3ec8d49-572d-4e11-a4b3-5333b203c0e3'] commitment\n",
      "document added ['67977605-9347-4eec-badb-903bf278ce0c'] Conclusion summarizing Canyon's commitment to ethical AI development.\n",
      "document added ['1f084f29-866e-47e5-a2e6-ed077aa4343d'] ## Model Governance Policy\n",
      "document added ['89b64a84-9b1d-4468-a7ae-8512ed55048f'] Model Governance Policy\n",
      "document added ['26d4dd45-0742-41fa-ab5d-bb0eb9aaec00'] title\n",
      "document added ['7cf140a5-083b-4328-a153-c5bbe147c01f'] Main title of the policy document.\n",
      "document added ['8e96f2c0-850d-4eb5-a232-8ef090e9586a'] ### 1. Introduction\n",
      "#### 1.1 Purpose\n",
      "This document delineates the guiding principles and procedures \n",
      "document added ['43886830-d79e-489b-812d-d78bde853724'] Introduction\n",
      "document added ['5bd2ed79-44ce-415b-a560-9ba317d1201c'] Purpose\n",
      "document added ['75b9b4da-c2e8-49c7-a63b-bcea27d6912a'] AI model governance\n",
      "document added ['d24bda6d-fe7f-4339-b0d9-dfb77ae21567'] ethical compliance\n",
      "document added ['e0c1182f-1c79-4a91-a1fe-5fad63dce2be'] Introduction to the policy, outlining its purpose and objectives.\n",
      "document added ['11860cfb-d660-4cc6-8ea0-364b2858ecd7'] #### 1.2 Scope\n",
      "The Model Governance Policy applies to all AI models developed, deployed, or managed \n",
      "document added ['82de5fcd-ef6a-4dcb-a53d-b4c6467afc38'] Scope\n",
      "document added ['1d924758-01bc-4d27-9021-456cebc11c28'] AI models\n",
      "document added ['402002ca-cb36-4a81-8972-bde9d7903dec'] lifecycle\n",
      "document added ['665ef7e0-3436-44fb-b2f7-b6c84b3a7509'] departments\n",
      "document added ['f5946f99-fee8-4799-a6a5-d4464a76c972'] Scope of the policy, detailing its applicability to AI models across the organization.\n",
      "document added ['5ebf8db1-8708-493b-8bf0-fb5ff44ea414'] #### 1.3 Audience\n",
      "This policy is intended for a broad range of stakeholders including AI developers,\n",
      "document added ['1d990fa8-8d29-4ce6-9335-2599e5a3c73b'] Audience\n",
      "document added ['96f8b34d-65b2-4fcf-be1c-0d0991835115'] stakeholders\n",
      "document added ['67b33afb-4539-41c5-8f74-1f1627599904'] AI developers\n",
      "document added ['1b70127d-f8c6-4422-a887-fe1ba42da5f5'] compliance\n",
      "document added ['4d51ae35-5e7a-4953-9b08-637b1253c087'] Audience for the policy, identifying key stakeholders responsible for implementation.\n",
      "document added ['82ee7ac6-38ae-4e33-9dac-61ae1de4e47d'] ### 2. Policy Statement\n",
      "#### 2.1 Commitment to Ethical AI\n",
      "Our company is committed to the highest st\n",
      "document added ['401fca78-04fa-4b21-9cb6-cb5660537983'] Policy Statement\n",
      "document added ['609cba59-1725-4e78-8a79-9bcbebf80573'] Ethical AI\n",
      "document added ['d7c62ffc-e188-44d2-adf5-3c2c88057b8c'] commitment\n",
      "document added ['393bf92a-9c99-4fa1-9c75-629bdabf39e9'] non-discrimination\n",
      "document added ['df329687-ef12-4e3b-bfd1-e92b91727a3c'] Policy statement emphasizing commitment to ethical AI practices.\n",
      "document added ['7ffe1272-dacb-4dde-812d-c346ebc491ca'] ### 3. Definitions and Key Terms\n",
      "#### 3.1 Glossary\n",
      "**AI Model**: A software algorithm designed to pe\n",
      "document added ['5112718c-90a0-41ed-b342-322480c9cbcd'] Definitions\n",
      "document added ['818a287b-ec88-4912-b80c-592ab79a152b'] Glossary\n",
      "document added ['32a7fb31-cf47-46bd-91d2-b9b5ea282eb2'] AI Model\n",
      "document added ['a960c60e-16fa-4e0d-b514-7d07687c3f46'] Deployment\n",
      "document added ['7e057857-10ed-494e-b48a-ebc58adb9815'] Monitoring\n",
      "document added ['29a9a0a9-8790-4f92-b872-fcbd1de3f5a5'] Definitions of key terms used in the policy, including AI Model, Deployment, and Monitoring.\n",
      "document added ['3c62fef7-ce75-427e-af32-cda303b7dca8'] ### 4. Governance Structure\n",
      "#### 4.1 Governance Roles and Responsibilities\n",
      "- **AI Governance Board**\n",
      "document added ['c53eee73-d37f-4522-9322-a6186dd762f1'] Governance Structure\n",
      "document added ['492fd1cd-21c1-40e9-9a56-b7438e543771'] Roles\n",
      "document added ['1d697b64-18f5-4b95-b903-f3ce5570bb4e'] AI Governance Board\n",
      "document added ['9b494cbc-9958-4a4a-bf93-c0806e72636c'] Model Owners\n",
      "document added ['a25baefd-1a81-4856-87d0-b950ab3d8dcf'] Data Scientists\n",
      "document added ['fbf5a1d7-092e-4e76-b799-ea074658dd69'] Governance structure detailing roles and responsibilities for AI initiatives.\n",
      "document added ['86be4952-0c0d-4117-a509-81ad5389546f'] #### 4.2 Decision-Making Authorities\n",
      "Decision-making within the realm of AI model governance is dist\n",
      "document added ['1d9494d9-c766-4b32-b61f-6a68e1945051'] Decision-Making\n",
      "document added ['2dd13e94-3f45-4ae5-bc8c-357b085c23ce'] Authorities\n",
      "document added ['f7e93857-ca19-43aa-b753-17839e05e2a1'] AI Governance Board\n",
      "document added ['ece97046-dbeb-4cde-8b51-9c2a65c1cf5e'] strategic decisions\n",
      "document added ['11626bf6-d932-4ecf-97e3-836a659e3e6c'] Decision-making authorities within the governance structure, highlighting levels of decision-making.\n",
      "document added ['ea846241-074d-466d-a61a-d3b54266a525'] ### 5. Development and Testing\n",
      "#### 5.1 Model Design and Development Process\n",
      "AI model development mu\n",
      "document added ['3d449c65-fdb7-41c2-9c93-e1c717e144bb'] Development\n",
      "document added ['8e5092cb-247e-4b7c-ad5f-f8f849f3cc41'] Testing\n",
      "document added ['b6dfeb61-40a4-4c86-a3a6-86ff378e6bd1'] Model Design\n",
      "document added ['f187a744-d726-413b-8f5e-d1dfd238de7c'] ethical implications\n",
      "document added ['c3608c69-6609-437c-85c2-b3c07080c743'] Structured process for AI model design and development, emphasizing documentation and ethical consid\n",
      "document added ['899b6512-b1ca-4cb6-8efe-2b91ea1ef5b9'] #### 5.2 Testing and Validation\n",
      "Models must undergo rigorous testing to validate their accuracy, per\n",
      "document added ['d0049531-6d27-4906-bb5b-dcc61842fb05'] Testing\n",
      "document added ['901691dc-95d3-42df-a5ca-a644abfb9900'] Validation\n",
      "document added ['51db0f6c-1d87-4777-a4d7-1aab1ed3d141'] accuracy\n",
      "document added ['906c3ed7-dd5f-4619-862c-6a395cb7ed40'] performance\n",
      "document added ['c0ff6906-bbc5-456c-81b2-0511479cfe46'] fairness\n",
      "document added ['46c3d39b-ad52-4483-8f0c-cbbf2f2284b8'] Testing and validation procedures for AI models, focusing on accuracy, performance, and fairness.\n",
      "document added ['00cdfcec-4197-4bdc-b87e-8f67834c73b5'] ### 6. Deployment\n",
      "#### 6.1 Deployment Procedures\n",
      "Before deployment, AI models must be reviewed by th\n",
      "document added ['8194e5bc-9353-4a8e-89b5-fcc35f967500'] Deployment\n",
      "document added ['1c1ee4e4-acbf-4423-842b-3405fd318255'] Procedures\n",
      "document added ['a5bc6daf-15e4-4414-adb8-7aaf34c1a28b'] AI Governance Board\n",
      "document added ['00c7bbca-d512-435d-b334-2811e24b7221'] compliance\n",
      "document added ['4df0bbdb-1d0a-498b-8e4e-6fbd52136e07'] Deployment procedures requiring review and testing by the AI Governance Board.\n",
      "document added ['4be3150e-010f-4cb9-8452-c765c914390b'] #### 6.2 Deployment Monitoring\n",
      "Post-deployment, AI models require continuous monitoring to detect an\n",
      "document added ['f9d23593-d43d-41b2-b062-5b285ae46331'] Deployment Monitoring\n",
      "document added ['ace5a34b-df47-4e25-913b-3ba0f7ec83d3'] performance tracking\n",
      "document added ['8928dc87-4410-405c-8b0d-366ea8c45970'] model audits\n",
      "document added ['059245e1-da83-4c35-aa05-1ac9a8b41dec'] Post-deployment monitoring strategies to ensure ongoing compliance and performance.\n",
      "document added ['0b60e33a-e839-494d-8012-4037aa260f7d'] ### 7. Monitoring and Maintenance\n",
      "#### 7.1 Performance Monitoring\n",
      "Continuous performance evaluation \n",
      "document added ['c4b01b0e-96e6-4572-8ad1-e63fa2415b29'] Monitoring\n",
      "document added ['d5eaa46c-20f1-4c67-a63e-582ec6c743c4'] Maintenance\n",
      "document added ['9ba6c153-60c5-47d1-8770-7dac9b50d131'] Performance Monitoring\n",
      "document added ['0e4d5ec2-17ce-44a8-9e4e-5358f9a976df'] evaluation\n",
      "document added ['8c876212-d5d7-4276-9672-5e12732f88d1'] Performance monitoring procedures for AI models to ensure long-term functionality.\n",
      "document added ['26004076-163d-4eba-9511-1ac3cd4e3cb0'] #### 7.2 Model Updating and Maintenance\n",
      "Models must be maintained and updated regularly to adapt to \n",
      "document added ['470ff7ad-6258-4df5-b180-ede34b8dc6da'] Model Updating\n",
      "document added ['e1f0c1b3-7d63-46a7-b32c-7af2d1401b21'] Maintenance\n",
      "document added ['8d031f11-9f99-4095-9bdc-7874228baf0e'] regulatory compliance\n",
      "document added ['7067ee5c-049e-4cf6-81e2-7896913b6263'] Procedures for updating and maintaining AI models to ensure compliance and relevance.\n",
      "document added ['8a3f711e-b4d9-4ac9-8979-11504d9c3fd2'] ### 8. Compliance and Reporting\n",
      "#### 8.1 Regulatory Compliance\n",
      "All model governance activities must \n",
      "document added ['d4067c8d-a95a-4be7-b542-2183965838b6'] Compliance\n",
      "document added ['3b7c4794-fb23-4854-990e-40aadffd6322'] Reporting\n",
      "document added ['9b4567d6-763e-4ad7-bfb0-8ef3e7806f84'] Regulatory Compliance\n",
      "document added ['8d1a6d0f-2802-4d64-94f6-1ecef290aea2'] AI regulations\n",
      "document added ['869c2c91-af99-4183-baa6-a05fadc361cb'] Regulatory compliance requirements for AI model governance activities.\n",
      "document added ['1b76fa18-efaf-4e87-b9f6-f644fce8296a'] #### 8.2 Reporting Mechanisms\n",
      "The company maintains a detailed reporting system for all AI governanc\n",
      "document added ['e53024db-d531-44d2-8341-e0a1c5f3fc84'] Reporting Mechanisms\n",
      "document added ['cbe665d2-5acf-4919-9c95-c2d8b0d22b8c'] transparency\n",
      "document added ['d60bc2c1-1b98-4293-859d-849e5389d5a8'] accountability\n",
      "document added ['5a7c92e6-88a4-484d-9ba1-89a1aaae4465'] Reporting mechanisms for AI governance activities to ensure transparency and accountability.\n",
      "document added ['9836ec80-c5bf-408e-9007-99282863e98e'] ### 9. Risk Management\n",
      "#### 9.1 Risk Identification and Assessment\n",
      "Identifying potential risks assoc\n",
      "document added ['9b3d474d-bf58-45c7-9caa-e20e64a30ff1'] Risk Management\n",
      "document added ['1438843f-830a-4f47-a4a2-84ceb9257b43'] Risk Identification\n",
      "document added ['6dd052c6-314b-47b5-a945-6fe5ce51841c'] ethical risks\n",
      "document added ['ed3f0a85-5aff-4b95-8691-b222b87839d0'] data privacy\n",
      "document added ['10bbd5bf-742b-4364-96ce-e19dc1da1b0f'] Risk identification and assessment procedures for AI models.\n",
      "document added ['e72e0298-0819-4c67-bcda-81974932b3a6'] #### 9.2 Risk Response and Mitigation\n",
      "For each identified risk, a specific mitigation strategy must \n",
      "document added ['98cdc541-f191-4c60-9940-7a220cda94d1'] Risk Response\n",
      "document added ['2f9922ca-ef03-42dc-af01-1f70ff51898b'] Mitigation\n",
      "document added ['475b2ad0-639d-4a55-8121-e0de94bbc682'] security measures\n",
      "document added ['8b92c5fd-c2e7-4046-ad9e-7f3c6c29c345'] Risk response and mitigation strategies for identified risks in AI models.\n",
      "document added ['eb2232c4-4d5b-4eb7-b48d-349e97b9d80b'] ### 10. Training and Awareness\n",
      "#### 10.1 Employee Training Programs\n",
      "We provide comprehensive trainin\n",
      "document added ['1ae65a7d-aeb1-4474-a54a-fafeaab758da'] Training\n",
      "document added ['043b2c49-5e68-4861-a9f0-97f029a23bce'] Awareness\n",
      "document added ['be06143e-72df-4ffa-8041-41fc141987e4'] Employee Training\n",
      "document added ['a64d48b5-0546-4495-8596-550cf786c5b3'] ethical considerations\n",
      "document added ['7497bdb8-51ac-42d0-a1b2-fcccf309d4c9'] Employee training programs for AI development and management.\n",
      "document added ['35965274-48d4-4c8f-adab-83b672ac5398'] #### 10.2 Awareness Campaigns\n",
      "Regular awareness campaigns are conducted to keep all staff informed a\n",
      "document added ['636caaee-4d56-42ca-a185-041cea185042'] Awareness Campaigns\n",
      "document added ['3b51527d-b1af-437a-9d3a-00f3b49b10dd'] AI governance\n",
      "document added ['54a1f8ca-02ef-4dd7-ad69-feceefc92479'] regulatory requirements\n",
      "document added ['a010205e-4656-4611-8c9e-b9dc8325f642'] Awareness campaigns to inform staff about AI governance and ethical considerations.\n",
      "document added ['aabe8e9a-dfcb-40b1-ac76-794476331423'] ### 11. Policy Review and Update\n",
      "#### 11.1 Review Schedule\n",
      "This policy is reviewed bi-annually to en\n",
      "document added ['b5ba5028-74a5-42a5-9f15-efda66b5947d'] Policy Review\n",
      "document added ['00c90206-05c8-46b1-9cb1-6149b0527cf8'] Update\n",
      "document added ['30d2477f-3a06-4a00-8e2e-f9c6c5c242f9'] Review Schedule\n",
      "document added ['a5cf00eb-b536-4f75-b573-48f7e7753c13'] AI Governance Board\n",
      "document added ['572a43de-123f-4f08-8c41-ddee92bb9c47'] Bi-annual review schedule for the policy by the AI Governance Board.\n",
      "document added ['5e0aaa54-0a71-4712-9add-3802b22141c8'] #### 11.2 Updating Procedures\n",
      "Any updates to the policy must be thoroughly documented, approved by t\n",
      "document added ['c979eabe-a039-456a-ad23-86e3c036763e'] Updating Procedures\n",
      "document added ['5b821c76-19ad-49b6-a09f-474ddff522b5'] documentation\n",
      "document added ['d4623e63-4b4b-4e05-8cc4-89727dc5e80e'] approval\n",
      "document added ['435c32a6-4932-4b31-a6a7-9751c6faf918'] Procedures for updating the policy, requiring documentation and approval.\n",
      "document added ['2b827026-bb95-4f29-acaf-d19c6f7092bd'] ### 12. Appendices and Supporting Documents\n",
      "#### 12.1 Related Documents\n",
      "Related policies, guidelines\n",
      "document added ['2d7a3060-eca9-4e23-93bd-c8295bcda7ac'] Appendices\n",
      "document added ['c64cb90a-0d51-4b27-9917-75642df12e6c'] Supporting Documents\n",
      "document added ['be8e3bb8-0143-4dd9-8f3e-64f61af172b8'] Related Documents\n",
      "document added ['283d643e-14ed-4981-89a0-f6999e08f845'] Appendices listing related documents and guidelines supporting the policy.\n",
      "document added ['31ee0b6b-0839-4dcd-8c4e-c12554bc0a73'] #### 12.2 Contact Information\n",
      "For questions or clarifications regarding any aspect of this policy, p\n",
      "document added ['5c775fa7-8380-455e-aafb-0c40438bd6c7'] Contact Information\n",
      "document added ['4a8ffa3b-971b-48eb-a092-06ab4db3516f'] queries\n",
      "document added ['61cc18bb-e4d9-496f-b1f2-b5279ec129c7'] Appendix\n",
      "document added ['11766ed6-25ec-4aa2-b4e5-59d6e34659bb'] Contact information for queries related to the policy.\n",
      "document added ['efd07a2b-5db2-4321-834a-e864d8a52434'] This document aims to ensure that all AI-related activities are conducted responsibly, ethically, an\n",
      "document added ['642b9b6c-7ae0-48ea-b689-fdd220ecb751'] AI activities\n",
      "document added ['c3e8c3b0-e6b0-4049-bd6e-3d01ed87842f'] responsibility\n",
      "document added ['2c66aac9-8e9e-42f5-a163-a472ee9b8f3d'] ethics\n",
      "document added ['afba8b8a-ccea-492f-8cca-e0be94326684'] compliance\n",
      "document added ['49007f43-8e77-4530-a1a7-2ce53cd999c8'] Overall aim of the document to ensure responsible and ethical AI activities.\n"
     ]
    }
   ],
   "source": [
    "from copy import deepcopy\n",
    "for fname, doc in zip(flist, policies_texts ):\n",
    "    split_results : splitting_response = await (chat_model.with_structured_output(splitting_response)\n",
    "                                            .ainvoke(get_plain_text_document_semantic_parsing_messages(doc)))\n",
    "    for chunks in split_results.splitted_text:\n",
    "        metadata = {\"inserted_timestamp\": time.time(), \"filename\": fname, \"type\": \"splitted_doc\"}\n",
    "        ids =  await indexed_vectorstore.aadd_texts(texts=[chunks.text],\n",
    "                             embeddings=aoi_embeddings,\n",
    "                             metadatas=[metadata] )\n",
    "        print(\"document added\", ids,  chunks.text[:100])\n",
    "        for index in chunks.index_text + [chunks.summary]:\n",
    "            index_metadata = deepcopy(metadata)\n",
    "            index_metadata.update({\"inserted_timestamp\": time.time(), \"parent_id\" : ids[0], \"type\": \"index\"})\n",
    "            \n",
    "            index_id = await indexed_vectorstore.aadd_texts(texts=[index],\n",
    "                                    embeddings=aoi_embeddings,\n",
    "                                    metadatas=[index_metadata] )\n",
    "            \n",
    "            print(\"document added\", index_id,  index[:100])"
   ]
  },
  {
   "cell_type": "markdown",
   "metadata": {},
   "source": [
    "our indexing/ embedding process has changed, so we also need to change the way to get the document"
   ]
  },
  {
   "cell_type": "code",
   "execution_count": 58,
   "metadata": {},
   "outputs": [],
   "source": [
    "doc_result = indexed_vectorstore.as_retriever(search_kwargs={'k': 5, \"filter\": {\"type\": {\"$ne\": \"index\"}}}).invoke(\"How is transparency ensured in AI decision-making processes?\")\n"
   ]
  },
  {
   "cell_type": "code",
   "execution_count": 57,
   "metadata": {},
   "outputs": [],
   "source": [
    "index_result = indexed_vectorstore.as_retriever(search_kwargs={'k': 5, \"filter\": {\"type\": {\"$eq\": \"index\"}}}).invoke(\"How is transparency ensured in AI decision-making processes?\")"
   ]
  },
  {
   "cell_type": "code",
   "execution_count": 60,
   "metadata": {},
   "outputs": [
    {
     "data": {
      "text/plain": [
       "Document(metadata={'filename': 'Policy_2.txt', 'inserted_timestamp': 1731990824.990506, 'parent_id': 'a01362ac-845e-4d6d-ae02-2f368a2f413e', 'type': 'index'}, page_content='Principles of transparency in AI, focusing on user interfaces and documentation.')"
      ]
     },
     "execution_count": 60,
     "metadata": {},
     "output_type": "execute_result"
    }
   ],
   "source": [
    "index_result[0]"
   ]
  },
  {
   "cell_type": "code",
   "execution_count": 66,
   "metadata": {},
   "outputs": [
    {
     "data": {
      "text/plain": [
       "<bound method Chroma.get of <langchain_chroma.vectorstores.Chroma object at 0x0000020A5151BFA0>>"
      ]
     },
     "execution_count": 66,
     "metadata": {},
     "output_type": "execute_result"
    }
   ],
   "source": [
    "indexed_vectorstore.get()"
   ]
  },
  {
   "cell_type": "code",
   "execution_count": 70,
   "metadata": {},
   "outputs": [
    {
     "data": {
      "text/plain": [
       "Document(metadata={'filename': 'Policy_2.txt', 'inserted_timestamp': 1731990824.990506, 'parent_id': 'a01362ac-845e-4d6d-ae02-2f368a2f413e', 'type': 'index'}, page_content='Principles of transparency in AI, focusing on user interfaces and documentation.')"
      ]
     },
     "execution_count": 70,
     "metadata": {},
     "output_type": "execute_result"
    }
   ],
   "source": [
    "index_result[0]"
   ]
  },
  {
   "cell_type": "code",
   "execution_count": 109,
   "metadata": {},
   "outputs": [],
   "source": [
    "from langchain_core.documents.base import Document\n",
    "class chroma_document_node():\n",
    "    def __init__(self, page_content , dtype , parent_id , inserted_timestamp ,\n",
    "                 filename ):\n",
    "        self.dtype = dtype\n",
    "        self.parent_id = parent_id\n",
    "        self.inserted_timestamp = inserted_timestamp\n",
    "        self.filename = filename\n",
    "        self.page_content = page_content\n",
    "    @staticmethod\n",
    "    def from_retriever_result(retriever_results : list[Document]) -> list[\"chroma_document_node\"]:\n",
    "        doc_nodes = []\n",
    "        for doc in retriever_results:\n",
    "            \n",
    "            dtype = doc.metadata.get('type')\n",
    "            parent_id = doc.metadata.get('parent_id')\n",
    "            inserted_timestamp = doc.metadata.get('inserted_timestamp')\n",
    "            filename = doc.metadata.get('filename')\n",
    "            page_content = doc.page_content\n",
    "            doc_node = chroma_document_node( page_content , dtype , \n",
    "                                        parent_id , inserted_timestamp ,\n",
    "                                        filename)\n",
    "            doc_nodes.append(doc_node)\n",
    "        return doc_nodes\n",
    "    def resolve_to_document_str(self, retriever):\n",
    "        if self.dtype == \"index\":\n",
    "            \n",
    "            return retriever.get(self.parent_id)['documents'][0]\n",
    "        else: # already is document\n",
    "            return self.page_content"
   ]
  },
  {
   "cell_type": "code",
   "execution_count": 106,
   "metadata": {},
   "outputs": [
    {
     "data": {
      "text/plain": [
       "Document(metadata={'filename': 'Policy_2.txt', 'inserted_timestamp': 1731990824.990506, 'parent_id': 'a01362ac-845e-4d6d-ae02-2f368a2f413e', 'type': 'index'}, page_content='Principles of transparency in AI, focusing on user interfaces and documentation.')"
      ]
     },
     "execution_count": 106,
     "metadata": {},
     "output_type": "execute_result"
    }
   ],
   "source": [
    "index_result[0]"
   ]
  },
  {
   "cell_type": "code",
   "execution_count": 107,
   "metadata": {},
   "outputs": [],
   "source": [
    "nodes = chroma_document_node.from_retriever_result(index_result)"
   ]
  },
  {
   "cell_type": "code",
   "execution_count": 121,
   "metadata": {},
   "outputs": [],
   "source": [
    "# deduplication of index and document with order preserved\n",
    "deduped = list({i.resolve_to_document_str(retriever=indexed_vectorstore): 0 for i in chroma_document_node.from_retriever_result(doc_result+index_result)}.keys())"
   ]
  },
  {
   "cell_type": "code",
   "execution_count": 108,
   "metadata": {},
   "outputs": [
    {
     "data": {
      "text/plain": [
       "\"##### 4.2 Transparency\\n- Enhance transparency by developing interfaces that allow users to query AI decisions and receive explanations in understandable terms.\\n- Document all AI systems' decision-making processes and methodologies, ensuring that this documentation is accessible to all relevant stakeholders and regularly updated.\""
      ]
     },
     "execution_count": 108,
     "metadata": {},
     "output_type": "execute_result"
    }
   ],
   "source": [
    "nodes[0].resolve_to_document_str(retriever = indexed_vectorstore)\n"
   ]
  },
  {
   "cell_type": "code",
   "execution_count": 97,
   "metadata": {},
   "outputs": [
    {
     "data": {
      "text/plain": [
       "{'ids': ['a01362ac-845e-4d6d-ae02-2f368a2f413e'],\n",
       " 'embeddings': None,\n",
       " 'metadatas': [{'filename': 'Policy_2.txt',\n",
       "   'inserted_timestamp': 1731990823.5625722}],\n",
       " 'documents': [\"##### 4.2 Transparency\\n- Enhance transparency by developing interfaces that allow users to query AI decisions and receive explanations in understandable terms.\\n- Document all AI systems' decision-making processes and methodologies, ensuring that this documentation is accessible to all relevant stakeholders and regularly updated.\"],\n",
       " 'data': None,\n",
       " 'uris': None,\n",
       " 'included': ['documents', 'metadatas']}"
      ]
     },
     "execution_count": 97,
     "metadata": {},
     "output_type": "execute_result"
    }
   ],
   "source": [
    "indexed_vectorstore.get(nodes[0].parent_id, include=['embeddings', 'metadatas'])"
   ]
  },
  {
   "cell_type": "code",
   "execution_count": 199,
   "metadata": {},
   "outputs": [],
   "source": [
    "from langchain.callbacks import get_openai_callback"
   ]
  },
  {
   "cell_type": "code",
   "execution_count": null,
   "metadata": {},
   "outputs": [],
   "source": []
  },
  {
   "cell_type": "code",
   "execution_count": 148,
   "metadata": {},
   "outputs": [],
   "source": [
    "from functools import lru_cache\n",
    "#@lru_cache(maxsize=30) for dev save cost\n",
    "def test_retrieval_with_index(content):\n",
    "    doc_result = indexed_vectorstore.as_retriever(search_kwargs={'k': 5, \"filter\": {\"type\": {\"$ne\": \"index\"}}}\n",
    "                                                  ).invoke(content)\n",
    "    index_result = indexed_vectorstore.as_retriever(search_kwargs={'k': 5, \"filter\": {\"type\": {\"$eq\": \"index\"}}}\n",
    "                                                    ).invoke(content)\n",
    "    # deduplication with order preserved, crude for small data, when scaled out, need to use underlying Id of chromadb to deduplicate by id\n",
    "    deduped = list({i.resolve_to_document_str(retriever=indexed_vectorstore): 0 \n",
    "                    for i in chroma_document_node.from_retriever_result(doc_result+index_result)}.keys())\n",
    "    return \"\\n\".join(deduped), len(deduped)"
   ]
  },
  {
   "cell_type": "markdown",
   "metadata": {},
   "source": [
    "Test for edge cases"
   ]
  },
  {
   "cell_type": "code",
   "execution_count": 271,
   "metadata": {},
   "outputs": [
    {
     "name": "stdout",
     "output_type": "stream",
     "text": [
      "#### 4. Principles\n",
      "\n",
      "### Comprehensive AI Ethics Policy Document\n",
      "\n",
      "#### 5. Implementation\n",
      "\n",
      "**9. Conclusion**\n",
      "\n",
      "At Canyon, we are dedicated to maintaining the trust of our users by adhering to the highest standards of data privacy and security. We encourage all users to review this policy regularly to stay informed of how we protect their personal information.\n",
      "\n",
      "#### 5.2 Testing and Validation\n",
      "Models must undergo rigorous testing to validate their accuracy, performance, and fairness. Validation tests should be designed to cover various operational scenarios and should include stress and failure mode analysis. Documentation of all test results is mandatory for auditability and further review.\n",
      "(\"This document aims to ensure that all AI-related activities are conducted responsibly, ethically, and in compliance with all necessary guidelines and regulations, maintaining the integrity and trustworthiness of our AI applications.\\n**9. Conclusion**\\n\\nAt Canyon, we are dedicated to maintaining the trust of our users by adhering to the highest standards of data privacy and security. We encourage all users to review this policy regularly to stay informed of how we protect their personal information.\\n#### 5.2 Testing and Validation\\nModels must undergo rigorous testing to validate their accuracy, performance, and fairness. Validation tests should be designed to cover various operational scenarios and should include stress and failure mode analysis. Documentation of all test results is mandatory for auditability and further review.\\n### Conclusion\\nBy adhering to the expanded guidelines outlined in this AI Ethics Policy, Canyon commits to being at the forefront of ethical AI development. This policy ensures that our technologies are used in a way that is beneficial and just, fostering trust and collaboration with all stakeholders involved.\\n##### 4.2 Transparency\\n- Enhance transparency by developing interfaces that allow users to query AI decisions and receive explanations in understandable terms.\\n- Document all AI systems' decision-making processes and methodologies, ensuring that this documentation is accessible to all relevant stakeholders and regularly updated.\\n### 5. Development and Testing\\n#### 5.1 Model Design and Development Process\\nAI model development must follow a structured process that includes requirement gathering, design, development, and initial testing phases. Each phase should be documented thoroughly to ensure transparency and accountability. The design phase should consider ethical implications, potential biases, and intended and unintended uses of the model.\\n#### 7. Review and Updates\\n- Commit to a biannual review cycle for this policy to stay aligned with technological advancements, legal changes, and evolving societal norms regarding AI ethics.\\n##### 5.3 Training and Awareness\\n- Establish a continuous learning program on AI ethics, mandating regular updates to training content as ethical standards and technologies evolve.\\n- Promote an ethical AI culture by integrating ethics discussions into regular team meetings and decision-making processes.\\n### 10. Training and Awareness\\n#### 10.1 Employee Training Programs\\nWe provide comprehensive training to all employees involved in AI development and management. This training covers technical aspects of AI, ethical considerations, and policy guidelines.\", 9)\n"
     ]
    }
   ],
   "source": [
    "# empty input\n",
    "#no index\n",
    "print(test_retrieval(\"\"))\n",
    "#indexed\n",
    "print(test_retrieval_with_index(\"\"))"
   ]
  },
  {
   "cell_type": "code",
   "execution_count": 149,
   "metadata": {},
   "outputs": [
    {
     "name": "stdout",
     "output_type": "stream",
     "text": [
      "0\n",
      "all accurate:  [True, True, True]\n",
      "accurate_cnt=3, total_cnt=3\n",
      "1\n",
      "all accurate:  [False, True, True]\n",
      "accurate_cnt=5, total_cnt=6\n",
      "2\n",
      "all accurate:  [True, True, True]\n",
      "accurate_cnt=8, total_cnt=9\n",
      "3\n",
      "all accurate:  [True]\n",
      "accurate_cnt=9, total_cnt=10\n",
      "4\n",
      "all accurate:  [True, True, True]\n",
      "accurate_cnt=12, total_cnt=13\n",
      "5\n",
      "all accurate:  [True, True]\n",
      "accurate_cnt=14, total_cnt=15\n",
      "6\n",
      "all accurate:  [True, True, True]\n",
      "accurate_cnt=17, total_cnt=18\n",
      "7\n",
      "all accurate:  [True, True, False, True]\n",
      "accurate_cnt=20, total_cnt=22\n",
      "8\n",
      "all accurate:  [True]\n",
      "accurate_cnt=21, total_cnt=23\n",
      "9\n",
      "all accurate:  [True]\n",
      "accurate_cnt=22, total_cnt=24\n",
      "10\n",
      "all accurate:  [True, True, True, True, False]\n",
      "accurate_cnt=26, total_cnt=29\n",
      "11\n",
      "all accurate:  [True, True]\n",
      "accurate_cnt=28, total_cnt=31\n",
      "12\n",
      "all accurate:  [True, True]\n",
      "accurate_cnt=30, total_cnt=33\n",
      "13\n",
      "all accurate:  [True]\n",
      "accurate_cnt=31, total_cnt=34\n",
      "14\n",
      "all accurate:  [True]\n",
      "accurate_cnt=32, total_cnt=35\n",
      "15\n",
      "all accurate:  [True, True]\n",
      "accurate_cnt=34, total_cnt=37\n",
      "16\n",
      "all accurate:  [True]\n",
      "accurate_cnt=35, total_cnt=38\n",
      "17\n",
      "all accurate:  [True]\n",
      "accurate_cnt=36, total_cnt=39\n",
      "18\n",
      "all accurate:  [True]\n",
      "accurate_cnt=37, total_cnt=40\n",
      "19\n",
      "all accurate:  [True, True]\n",
      "accurate_cnt=39, total_cnt=42\n"
     ]
    }
   ],
   "source": [
    "accurate_cnt = 0\n",
    "total_cnt = 0\n",
    "retrieved = 0\n",
    "ti0 = time.time()\n",
    "ti_n = [None] * len(df_with_substrings)\n",
    "for i, row in df_with_substrings.iterrows():\n",
    "    print(i)\n",
    "    ans, n_subdoc = test_retrieval_with_index(row['Content'])\n",
    "    retrieved += n_subdoc\n",
    "    print(\"all accurate: \",[kw in ans for kw in row[\"Key_Substrings\"]])\n",
    "    accurate_cnt+=sum([kw in ans for kw in row[\"Key_Substrings\"]])\n",
    "    total_cnt += len(row[\"Key_Substrings\"])\n",
    "    print(f\"{accurate_cnt=}, {total_cnt=}\")\n",
    "    ti_n = time.time()\n",
    "ti1 = time.time()"
   ]
  },
  {
   "cell_type": "code",
   "execution_count": 152,
   "metadata": {},
   "outputs": [
    {
     "name": "stdout",
     "output_type": "stream",
     "text": [
      "time taken : 11.762653112411499\n"
     ]
    }
   ],
   "source": [
    "print(\"time taken :\", ti1 - ti0)"
   ]
  },
  {
   "cell_type": "code",
   "execution_count": 150,
   "metadata": {},
   "outputs": [
    {
     "data": {
      "text/plain": [
       "(137, 42, 39)"
      ]
     },
     "execution_count": 150,
     "metadata": {},
     "output_type": "execute_result"
    }
   ],
   "source": [
    "retrieved,total_cnt,accurate_cnt"
   ]
  },
  {
   "cell_type": "markdown",
   "metadata": {},
   "source": [
    "Print precision and recall"
   ]
  },
  {
   "cell_type": "code",
   "execution_count": 133,
   "metadata": {},
   "outputs": [
    {
     "name": "stdout",
     "output_type": "stream",
     "text": [
      "0.9285714285714286\n"
     ]
    }
   ],
   "source": [
    "n_target = sum(df_with_substrings['Key_Substrings'].apply(len))\n",
    "precision = accurate_cnt/n_target\n",
    "print(precision)"
   ]
  },
  {
   "cell_type": "code",
   "execution_count": 134,
   "metadata": {},
   "outputs": [
    {
     "name": "stdout",
     "output_type": "stream",
     "text": [
      "0.2846715328467153\n"
     ]
    }
   ],
   "source": [
    "recall = accurate_cnt/ retrieved\n",
    "print(recall)"
   ]
  },
  {
   "cell_type": "markdown",
   "metadata": {},
   "source": [
    "### Discussions for retrieval\n",
    "\n",
    "#### In this exercise, we have investigated 2 methods, \n",
    "\n",
    "0. (all documents in-memory  -- fastest for retrieval)\n",
    "1. direct similarity search -- medium speed\n",
    "2. direct similarity search + GenAI generated search keyword and summary -- slowest"
   ]
  },
  {
   "cell_type": "code",
   "execution_count": 57,
   "metadata": {},
   "outputs": [
    {
     "name": "stdout",
     "output_type": "stream",
     "text": [
      "(0, Category                                        Answerable_Question\n",
      "Content           What are the principles of fairness outlined i...\n",
      "Key_Substrings    principles of fairness, AI Ethics Policy, bias...\n",
      "Name: 0, dtype: object)\n",
      "(1, Category                                        Answerable_Question\n",
      "Content           How does the company ensure data security duri...\n",
      "Key_Substrings    data security, model deployment, encryption te...\n",
      "Name: 1, dtype: object)\n",
      "(2, Category                                        Answerable_Question\n",
      "Content           What methods are used to collect personal iden...\n",
      "Key_Substrings    methods of data collection, personal identific...\n",
      "Name: 2, dtype: object)\n",
      "(3, Category                                        Answerable_Question\n",
      "Content           Who oversees AI initiatives according to the M...\n",
      "Key_Substrings    AI Governance Board, oversees AI initiatives, ...\n",
      "Name: 3, dtype: object)\n",
      "(4, Category                                        Answerable_Question\n",
      "Content           What are the purposes of data collection as st...\n",
      "Key_Substrings    purposes of data collection, enhance functiona...\n",
      "Name: 4, dtype: object)\n",
      "(5, Category                                        Answerable_Question\n",
      "Content           How does the AI Ethics Board address ethical c...\n",
      "Key_Substrings    AI Ethics Board, ethical concerns, incident re...\n",
      "Name: 5, dtype: object)\n",
      "(6, Category                                        Answerable_Question\n",
      "Content           What does non-discrimination mean in the conte...\n",
      "Key_Substrings    non-discrimination, bias detection, fairness i...\n",
      "Name: 6, dtype: object)\n",
      "(7, Category                                        Answerable_Question\n",
      "Content           How is transparency ensured in AI decision-mak...\n",
      "Key_Substrings    transparency, decision-making processes, user ...\n",
      "Name: 7, dtype: object)\n",
      "(8, Category                                        Answerable_Question\n",
      "Content           What are the consequences of violating the AI ...\n",
      "Key_Substrings    violating the AI Ethics Policy, disciplinary a...\n",
      "Name: 8, dtype: object)\n",
      "(9, Category                                        Answerable_Question\n",
      "Content           What data storage locations are mentioned in t...\n",
      "Key_Substrings    data storage locations, United States, Europea...\n",
      "Name: 9, dtype: object)\n",
      "(10, Category                                        Answerable_Question\n",
      "Content           What is the role of the AI Governance Board in...\n",
      "Key_Substrings    AI Governance Board, decision-making authority...\n",
      "Name: 10, dtype: object)\n",
      "(11, Category                                        Answerable_Question\n",
      "Content           What procedures are followed for ethical risk ...\n",
      "Key_Substrings    ethical risk assessment, standardized assessme...\n",
      "Name: 11, dtype: object)\n",
      "(12, Category                                        Answerable_Question\n",
      "Content           What are the rights of data subjects in relati...\n",
      "Key_Substrings    rights of data subjects, data access, data cor...\n",
      "Name: 12, dtype: object)\n",
      "(13, Category                                        Answerable_Question\n",
      "Content           How often is the AI Ethics Policy reviewed and...\n",
      "Key_Substrings    AI Ethics Policy review, biannual updates, soc...\n",
      "Name: 13, dtype: object)\n",
      "(14, Category                                        Answerable_Question\n",
      "Content           What measures are taken for regular security a...\n",
      "Key_Substrings    security audits, vulnerability assessments, pr...\n",
      "Name: 14, dtype: object)\n",
      "(15, Category                                        Answerable_Question\n",
      "Content           What training programs are provided for AI eth...\n",
      "Key_Substrings    AI ethics training, continuous learning, regul...\n",
      "Name: 15, dtype: object)\n",
      "(16, Category                                        Answerable_Question\n",
      "Content           How does the company handle anonymous ethics v...\n",
      "Key_Substrings    anonymous ethics violation reports, reporting ...\n",
      "Name: 16, dtype: object)\n",
      "(17, Category                                        Answerable_Question\n",
      "Content           What is the purpose of AI model testing and va...\n",
      "Key_Substrings    model testing and validation, accuracy and per...\n",
      "Name: 17, dtype: object)\n",
      "(18, Category                                        Answerable_Question\n",
      "Content           What are the guidelines for data retention in ...\n",
      "Key_Substrings    data retention policy, duration of data storag...\n",
      "Name: 18, dtype: object)\n",
      "(19, Category                                        Answerable_Question\n",
      "Content           What is the process for auditing AI algorithms...\n",
      "Key_Substrings    auditing AI algorithms, bias correction, indep...\n",
      "Name: 19, dtype: object)\n"
     ]
    }
   ],
   "source": [
    "for i, row in df_with_substrings.iterrows():\n",
    "    ans = retrieval_chain.invoke(row['Content'])"
   ]
  },
  {
   "cell_type": "markdown",
   "metadata": {},
   "source": [
    "In this second half of the exercise, we are going to test the generation. We will investigate the generation. We will focus on whether the model will answer the question and whether the model will choose not to respond to unrelated questions.  "
   ]
  },
  {
   "cell_type": "code",
   "execution_count": 248,
   "metadata": {},
   "outputs": [],
   "source": [
    "\n",
    "# Define the data for the questions, statements, and requests in a structured format\n",
    "data = {\n",
    "    \"Category\": [\"Answerable Question\"] * 20 + [\"Unanswerable Question\"] * 20 + [\"Statement\"] * 10 + [\"Request\"] * 10,\n",
    "    \"Content\": [\n",
    "        # 20 Answerable Questions\n",
    "        \"What are the principles of fairness outlined in the AI Ethics Policy?\",\n",
    "        \"How does the company ensure data security during AI model deployment?\",\n",
    "        \"What methods are used to collect personal identification information?\",\n",
    "        \"Who oversees AI initiatives according to the Model Governance Policy?\",\n",
    "        \"What are the purposes of data collection as stated in the Data Privacy Policy?\",\n",
    "        \"How does the AI Ethics Board address ethical concerns?\",\n",
    "        \"What does non-discrimination mean in the context of AI systems?\",\n",
    "        \"How is transparency ensured in AI decision-making processes?\",\n",
    "        \"What are the consequences of violating the AI Ethics Policy?\",\n",
    "        \"What data storage locations are mentioned in the Data Privacy Policy?\",\n",
    "        \"What is the role of the AI Governance Board in decision-making?\",\n",
    "        \"What procedures are followed for ethical risk assessment in AI projects?\",\n",
    "        \"What are the rights of data subjects in relation to data access?\",\n",
    "        \"How often is the AI Ethics Policy reviewed and updated?\",\n",
    "        \"What measures are taken for regular security audits of data?\",\n",
    "        \"What training programs are provided for AI ethics awareness?\",\n",
    "        \"How does the company handle anonymous ethics violation reports?\",\n",
    "        \"What is the purpose of AI model testing and validation?\",\n",
    "        \"What are the guidelines for data retention in the Data Privacy Policy?\",\n",
    "        \"What is the process for auditing AI algorithms for bias?\",\n",
    "        \n",
    "        # 20 Unanswerable Questions\n",
    "        \"What is the AI model used in the latest product release?\",\n",
    "        \"How many employees work on AI projects globally?\",\n",
    "        \"What specific algorithms are employed for AI model training?\",\n",
    "        \"Who are the company’s top competitors in AI development?\",\n",
    "        \"What are the exact financial figures for AI research investments?\",\n",
    "        \"How many cases of data breaches have occurred in the past year?\",\n",
    "        \"What are the future product plans involving AI technology?\",\n",
    "        \"Which countries contribute the most to data collection efforts?\",\n",
    "        \"What are the unpublished ethical dilemmas faced by the company?\",\n",
    "        \"How does the company plan to use AI in five years?\",\n",
    "        \"Who are the individual members of the AI Ethics Board?\",\n",
    "        \"What is the undisclosed data-sharing agreement with partners?\",\n",
    "        \"What are the internal strategies for regulatory lobbying on AI policies?\",\n",
    "        \"Which AI projects have been terminated and why?\",\n",
    "        \"What is the company’s profit margin from AI-driven services?\",\n",
    "        \"How does the company plan to handle quantum computing impacts?\",\n",
    "        \"What are the details of future acquisitions for AI technology?\",\n",
    "        \"Who are the anonymous whistleblowers for policy violations?\",\n",
    "        \"What are the specifics of internal AI performance metrics?\",\n",
    "        \"How much data does the company process daily in terabytes?\",\n",
    "        \n",
    "        # 10 Statements\n",
    "        \"The AI Ethics Policy emphasizes fairness and transparency.\",\n",
    "        \"Data privacy is a top priority for the company.\",\n",
    "        \"The company uses encrypted data storage methods.\",\n",
    "        \"AI models are subject to regular performance monitoring.\",\n",
    "        \"The Model Governance Policy outlines roles and responsibilities clearly.\",\n",
    "        \"Regular audits ensure compliance with AI ethical standards.\",\n",
    "        \"Data subjects have the right to access and correct their data.\",\n",
    "        \"Risk management is crucial for ethical AI practices.\",\n",
    "        \"The company commits to non-discrimination in AI deployments.\",\n",
    "        \"Annual reviews of policies keep them up to date with regulations.\",\n",
    "        \n",
    "        # 10 Requests for Action\n",
    "        \"Please review the ethical risk assessment toolkit.\",\n",
    "        \"Ensure that all AI models are audited for bias regularly.\",\n",
    "        \"Update the team on new data privacy regulations.\",\n",
    "        \"Schedule a training session on AI ethics for the department.\",\n",
    "        \"Submit the annual ethics report to the AI Governance Board.\",\n",
    "        \"Implement stricter access controls for sensitive data.\",\n",
    "        \"Report any violations of the data privacy policy immediately.\",\n",
    "        \"Prepare a summary of the latest model governance practices.\",\n",
    "        \"Arrange for a third-party audit of the AI systems.\",\n",
    "        \"Update the document the decision-making process for AI deployments now.\"\n",
    "    ]\n",
    "}\n",
    "\n",
    "# Create a DataFrame\n",
    "df = pd.DataFrame(data)\n"
   ]
  },
  {
   "cell_type": "code",
   "execution_count": 274,
   "metadata": {},
   "outputs": [
    {
     "data": {
      "text/plain": [
       "policy_query_response(analysis='The user has not provided a question or statement for analysis.', excerpts=[], reference='', answer='The user has not provided a question or statement for analysis.', answer_is_based_on_citation=False, is_query_only=False)"
      ]
     },
     "execution_count": 274,
     "metadata": {},
     "output_type": "execute_result"
    }
   ],
   "source": [
    "# check for empty input\n",
    "chat_model.with_structured_output(policy_query_response).invoke(\n",
    "                                                        get_policy_doc_prompt(policies_texts, user_query=\"\"))"
   ]
  },
  {
   "cell_type": "code",
   "execution_count": 231,
   "metadata": {},
   "outputs": [
    {
     "name": "stdout",
     "output_type": "stream",
     "text": [
      "0\n",
      "4.65106725692749\n",
      "1\n",
      "17.855438470840454\n",
      "2\n",
      "4.025496482849121\n",
      "3\n",
      "2.5101609230041504\n",
      "4\n",
      "5.903661727905273\n",
      "5\n",
      "4.728601932525635\n",
      "6\n",
      "5.128314018249512\n",
      "7\n",
      "4.0975072383880615\n",
      "8\n",
      "3.393507957458496\n",
      "9\n",
      "3.061370372772217\n",
      "10\n",
      "10.231487512588501\n",
      "11\n",
      "5.240493059158325\n",
      "12\n",
      "3.4006028175354004\n",
      "13\n",
      "2.7366230487823486\n",
      "14\n",
      "3.0660972595214844\n",
      "15\n",
      "6.387108087539673\n",
      "16\n",
      "7.877924919128418\n",
      "17\n",
      "3.0803682804107666\n",
      "18\n",
      "4.082195281982422\n",
      "19\n",
      "4.537799835205078\n",
      "20\n",
      "3.7136008739471436\n",
      "21\n",
      "3.6092073917388916\n",
      "22\n",
      "2.8490400314331055\n",
      "23\n",
      "3.7477846145629883\n",
      "24\n",
      "2.9016737937927246\n",
      "25\n",
      "2.6214842796325684\n",
      "26\n",
      "3.0030782222747803\n",
      "27\n",
      "6.577200889587402\n",
      "28\n",
      "2.931344747543335\n",
      "29\n",
      "3.751596450805664\n",
      "30\n",
      "2.738821506500244\n",
      "31\n",
      "5.269444465637207\n",
      "32\n",
      "2.360931634902954\n",
      "33\n",
      "3.2955379486083984\n",
      "34\n",
      "2.8612847328186035\n",
      "35\n",
      "2.675135612487793\n",
      "36\n",
      "4.391701698303223\n",
      "37\n",
      "2.8729262351989746\n",
      "38\n",
      "8.712541341781616\n",
      "39\n",
      "4.3198559284210205\n",
      "40\n",
      "7.183906555175781\n",
      "41\n",
      "2.856937885284424\n",
      "42\n",
      "3.058267116546631\n",
      "43\n",
      "5.92765474319458\n",
      "44\n",
      "4.334772348403931\n",
      "45\n",
      "4.571596384048462\n",
      "46\n",
      "4.08440899848938\n",
      "47\n",
      "5.2853147983551025\n",
      "48\n",
      "6.383368968963623\n",
      "49\n",
      "5.017268180847168\n",
      "50\n",
      "4.90325665473938\n",
      "51\n",
      "3.8925070762634277\n",
      "52\n",
      "3.4794230461120605\n",
      "53\n",
      "3.8393797874450684\n",
      "54\n",
      "3.8031258583068848\n",
      "55\n",
      "4.107699155807495\n",
      "56\n",
      "3.267075777053833\n",
      "57\n",
      "11.710238695144653\n",
      "58\n",
      "3.387951135635376\n",
      "59\n",
      "4.197237730026245\n",
      "Total Tokens: 224936\n",
      "Prompt Tokens: 214310\n",
      "Completion Tokens: 10626\n",
      "Total Cost (USD): $0.64204\n"
     ]
    }
   ],
   "source": [
    "with get_openai_callback() as cb:\n",
    "    t_inmem_rag_0 = time.time()\n",
    "    t_inmem_n = [None] * len(df)\n",
    "    inmem_responses = [None] * len(df)\n",
    "    for i, row in df.iterrows():\n",
    "        tn0 = time.time()\n",
    "        print(i)\n",
    "        response : policy_query_response = chat_model.with_structured_output(policy_query_response).invoke(\n",
    "                                                        get_policy_doc_prompt(policies_texts, row['Content']))\n",
    "        inmem_responses[i] = response.model_dump()\n",
    "        tn1 = time.time()\n",
    "        print(tn1 - tn0)\n",
    "        t_inmem_n[i] = tn1 - tn0\n",
    "        time.sleep(5) # prevent too many tokens process in short time that cause server blocks\n",
    "    t_rag_1 = time.time()\n",
    "    \n",
    "    # Access token usage and cost\n",
    "    print(f\"Total Tokens: {cb.total_tokens}\")\n",
    "    print(f\"Prompt Tokens: {cb.prompt_tokens}\")\n",
    "    print(f\"Completion Tokens: {cb.completion_tokens}\")\n",
    "    print(f\"Total Cost (USD): ${cb.total_cost:.5f}\")\n",
    "\n"
   ]
  },
  {
   "cell_type": "markdown",
   "metadata": {},
   "source": [
    "in memory time per query"
   ]
  },
  {
   "cell_type": "code",
   "execution_count": 276,
   "metadata": {},
   "outputs": [
    {
     "data": {
      "text/plain": [
       "4.608190162976583"
      ]
     },
     "execution_count": 276,
     "metadata": {},
     "output_type": "execute_result"
    }
   ],
   "source": [
    "sum(t_inmem_n) / len(t_inmem_n)"
   ]
  },
  {
   "cell_type": "code",
   "execution_count": 232,
   "metadata": {},
   "outputs": [],
   "source": [
    "import pickle\n",
    "with open(\"in_memory_brute_rag_response\", 'wb' ) as f:\n",
    "    pickle.dump({\"responses\": inmem_responses, \"t_n\": t_n, \"total_tokens\": cb.total_tokens,\n",
    "                 \"prompt_tokens\": cb.prompt_tokens, \"completion_tokens\": cb.completion_tokens,\n",
    "                 \"total_cost_(USD)\" : cb.total_cost}, f)    "
   ]
  },
  {
   "cell_type": "code",
   "execution_count": 171,
   "metadata": {},
   "outputs": [],
   "source": [
    "from langchain_core.runnables import RunnablePassthrough, RunnableLambda"
   ]
  },
  {
   "cell_type": "code",
   "execution_count": 233,
   "metadata": {},
   "outputs": [],
   "source": [
    "rag_retrieval_chain  = (\n",
    "    {\"context\": RunnableLambda(test_retrieval), \"user_query\": RunnablePassthrough()}\n",
    "    | qa_chat_template\n",
    "    | (chat_model.with_structured_output(policy_query_response))\n",
    ")"
   ]
  },
  {
   "cell_type": "code",
   "execution_count": 192,
   "metadata": {},
   "outputs": [
    {
     "name": "stdout",
     "output_type": "stream",
     "text": [
      "0\n",
      "1\n",
      "2\n",
      "3\n",
      "4\n",
      "5\n",
      "6\n",
      "7\n",
      "8\n",
      "9\n",
      "10\n",
      "11\n",
      "12\n",
      "13\n",
      "14\n",
      "15\n",
      "16\n",
      "17\n",
      "18\n",
      "19\n",
      "20\n",
      "21\n",
      "22\n",
      "23\n",
      "24\n",
      "25\n",
      "26\n",
      "27\n",
      "28\n",
      "29\n",
      "30\n",
      "31\n",
      "32\n",
      "33\n",
      "34\n",
      "35\n",
      "36\n",
      "37\n",
      "38\n",
      "39\n",
      "40\n",
      "41\n",
      "42\n",
      "43\n",
      "44\n",
      "45\n",
      "46\n",
      "47\n",
      "48\n",
      "49\n",
      "50\n",
      "51\n",
      "52\n",
      "53\n",
      "54\n",
      "55\n",
      "56\n",
      "57\n",
      "58\n",
      "59\n"
     ]
    }
   ],
   "source": [
    "for i, row in df.iterrows():\n",
    "    print(i)"
   ]
  },
  {
   "cell_type": "code",
   "execution_count": 234,
   "metadata": {},
   "outputs": [
    {
     "name": "stdout",
     "output_type": "stream",
     "text": [
      "0\n",
      "10.898194313049316\n",
      "1\n",
      "4.045900583267212\n",
      "2\n",
      "6.136837005615234\n",
      "3\n",
      "2.616795301437378\n",
      "4\n",
      "3.731476306915283\n",
      "5\n",
      "4.123462200164795\n",
      "6\n",
      "3.4280734062194824\n",
      "7\n",
      "6.116710662841797\n",
      "8\n",
      "3.6653590202331543\n",
      "9\n",
      "2.083296775817871\n",
      "10\n",
      "3.476439952850342\n",
      "11\n",
      "4.715007066726685\n",
      "12\n",
      "5.049728631973267\n",
      "13\n",
      "3.8949379920959473\n",
      "14\n",
      "6.502389669418335\n",
      "15\n",
      "4.387007236480713\n",
      "16\n",
      "6.023794412612915\n",
      "17\n",
      "3.227191209793091\n",
      "18\n",
      "3.356250286102295\n",
      "19\n",
      "3.055107355117798\n",
      "20\n",
      "2.9702835083007812\n",
      "21\n",
      "2.656463623046875\n",
      "22\n",
      "2.0680370330810547\n",
      "23\n",
      "1.6956062316894531\n",
      "24\n",
      "1.472851276397705\n",
      "25\n",
      "2.258376359939575\n",
      "26\n",
      "2.746634006500244\n",
      "27\n",
      "6.912818908691406\n",
      "28\n",
      "3.277799367904663\n",
      "29\n",
      "5.289704322814941\n",
      "30\n",
      "6.731405973434448\n",
      "31\n",
      "3.373474597930908\n",
      "32\n",
      "1.7802059650421143\n",
      "33\n",
      "6.75186824798584\n",
      "34\n",
      "2.5820722579956055\n",
      "35\n",
      "2.7649755477905273\n",
      "36\n",
      "1.9480681419372559\n",
      "37\n",
      "2.8073198795318604\n",
      "38\n",
      "5.359463214874268\n",
      "39\n",
      "2.5331485271453857\n",
      "40\n",
      "2.955798864364624\n",
      "41\n",
      "2.4336471557617188\n",
      "42\n",
      "2.999337673187256\n",
      "43\n",
      "2.5321452617645264\n",
      "44\n",
      "5.50419545173645\n",
      "45\n",
      "2.9063503742218018\n",
      "46\n",
      "2.6627933979034424\n",
      "47\n",
      "2.6902425289154053\n",
      "48\n",
      "3.210958957672119\n",
      "49\n",
      "7.072294235229492\n",
      "50\n",
      "5.129222869873047\n",
      "51\n",
      "3.5565013885498047\n",
      "52\n",
      "3.2289538383483887\n",
      "53\n",
      "2.1285202503204346\n",
      "54\n",
      "5.909532785415649\n",
      "55\n",
      "3.6056599617004395\n",
      "56\n",
      "2.639214277267456\n",
      "57\n",
      "3.4903924465179443\n",
      "58\n",
      "3.1254420280456543\n",
      "59\n",
      "3.320598602294922\n",
      "Total Tokens: 45872\n",
      "Prompt Tokens: 36608\n",
      "Completion Tokens: 9264\n",
      "Total Cost (USD): $0.18416\n"
     ]
    }
   ],
   "source": [
    "with get_openai_callback() as cb:\n",
    "    t_rag_0 = time.time()\n",
    "    t_n = [None] * len(df)\n",
    "    responses = [None] * len(df)\n",
    "    for i, row in df.iterrows():\n",
    "        tn0 = time.time()\n",
    "        print(i)\n",
    "        response : policy_query_response = rag_retrieval_chain.invoke(row['Content'])\n",
    "        responses[i] = response.model_dump()\n",
    "        tn1 = time.time()\n",
    "        print(tn1 - tn0)\n",
    "        t_n[i] = tn1 - tn0\n",
    "        time.sleep(2) # prevent too many tokens process in short time that cause server blocks\n",
    "    t_rag_1 = time.time()\n",
    "    \n",
    "    # Access token usage and cost\n",
    "    print(f\"Total Tokens: {cb.total_tokens}\")\n",
    "    print(f\"Prompt Tokens: {cb.prompt_tokens}\")\n",
    "    print(f\"Completion Tokens: {cb.completion_tokens}\")\n",
    "    print(f\"Total Cost (USD): ${cb.total_cost:.5f}\")"
   ]
  },
  {
   "cell_type": "markdown",
   "metadata": {},
   "source": [
    "Save for future analysis"
   ]
  },
  {
   "cell_type": "code",
   "execution_count": 235,
   "metadata": {},
   "outputs": [],
   "source": [
    "import pickle\n",
    "with open(\"rag_response\", 'wb' ) as f:\n",
    "    pickle.dump({\"responses\": responses, \"t_n\": t_n, \"total_tokens\": cb.total_tokens,\n",
    "                 \"prompt_tokens\": cb.prompt_tokens, \"completion_tokens\": cb.completion_tokens,\n",
    "                 \"total_cost_(USD)\" : cb.total_cost}, f)    "
   ]
  },
  {
   "cell_type": "code",
   "execution_count": 280,
   "metadata": {},
   "outputs": [
    {
     "data": {
      "text/plain": [
       "3.8269389788309733"
      ]
     },
     "execution_count": 280,
     "metadata": {},
     "output_type": "execute_result"
    }
   ],
   "source": [
    "sum(t_n) / len(t_n)"
   ]
  },
  {
   "cell_type": "code",
   "execution_count": 197,
   "metadata": {},
   "outputs": [],
   "source": []
  },
  {
   "cell_type": "code",
   "execution_count": 196,
   "metadata": {},
   "outputs": [
    {
     "data": {
      "text/plain": [
       "230.76290321350098"
      ]
     },
     "execution_count": 196,
     "metadata": {},
     "output_type": "execute_result"
    }
   ],
   "source": [
    "sum(t_n)"
   ]
  },
  {
   "cell_type": "code",
   "execution_count": 236,
   "metadata": {},
   "outputs": [],
   "source": [
    "indexed_rag_retrieval_chain = (\n",
    "    {\"context\": RunnableLambda(test_retrieval) | (lambda x : x[0]), \"user_query\": RunnablePassthrough()}\n",
    "    | qa_chat_template\n",
    "    | (chat_model.with_structured_output(policy_query_response))\n",
    ")"
   ]
  },
  {
   "cell_type": "code",
   "execution_count": 273,
   "metadata": {},
   "outputs": [
    {
     "data": {
      "text/plain": [
       "policy_query_response(analysis='The user has not provided a specific question or query related to the policy documents. Therefore, there is no analysis to be made.', excerpts=[], reference='', answer=\"It seems like you haven't asked a specific question. Could you please provide more details or specify your query related to the policy documents?\", answer_is_based_on_citation=False, is_query_only=True)"
      ]
     },
     "execution_count": 273,
     "metadata": {},
     "output_type": "execute_result"
    }
   ],
   "source": [
    "# test for empty input\n",
    "rag_retrieval_chain.invoke(\"\")"
   ]
  },
  {
   "cell_type": "code",
   "execution_count": 272,
   "metadata": {},
   "outputs": [
    {
     "data": {
      "text/plain": [
       "policy_query_response(analysis='The user input is empty, which means there is no question or statement to analyze or respond to. Without a specific query or statement, no further action can be taken.', excerpts=[], reference='', answer='There is no question or statement provided to respond to.', answer_is_based_on_citation=False, is_query_only=False)"
      ]
     },
     "execution_count": 272,
     "metadata": {},
     "output_type": "execute_result"
    }
   ],
   "source": [
    "# test for empty input\n",
    "indexed_rag_retrieval_chain.invoke(\"\")"
   ]
  },
  {
   "cell_type": "code",
   "execution_count": 237,
   "metadata": {},
   "outputs": [
    {
     "name": "stdout",
     "output_type": "stream",
     "text": [
      "0\n",
      "4.909495830535889\n",
      "1\n",
      "7.019968748092651\n",
      "2\n",
      "2.6905503273010254\n",
      "3\n",
      "2.5822842121124268\n",
      "4\n",
      "3.499317169189453\n",
      "5\n",
      "3.145143985748291\n",
      "6\n",
      "2.6279563903808594\n",
      "7\n",
      "2.9377169609069824\n",
      "8\n",
      "2.3440041542053223\n",
      "9\n",
      "3.425863027572632\n",
      "10\n",
      "3.36102557182312\n",
      "11\n",
      "3.4760630130767822\n",
      "12\n",
      "8.480732679367065\n",
      "13\n",
      "2.8062174320220947\n",
      "14\n",
      "2.8612301349639893\n",
      "15\n",
      "2.3878910541534424\n",
      "16\n",
      "4.717464208602905\n",
      "17\n",
      "4.39542293548584\n",
      "18\n",
      "3.618886709213257\n",
      "19\n",
      "3.3200273513793945\n",
      "20\n",
      "4.533074378967285\n",
      "21\n",
      "2.1631484031677246\n",
      "22\n",
      "6.54453182220459\n",
      "23\n",
      "2.897081136703491\n",
      "24\n",
      "3.8824543952941895\n",
      "25\n",
      "2.6620395183563232\n",
      "26\n",
      "1.845160722732544\n",
      "27\n",
      "4.1964943408966064\n",
      "28\n",
      "2.8816027641296387\n",
      "29\n",
      "2.022010087966919\n",
      "30\n",
      "1.5622034072875977\n",
      "31\n",
      "2.376560926437378\n",
      "32\n",
      "2.5091376304626465\n",
      "33\n",
      "1.9652268886566162\n",
      "34\n",
      "2.413569688796997\n",
      "35\n",
      "2.0551795959472656\n",
      "36\n",
      "3.018096923828125\n",
      "37\n",
      "2.234722852706909\n",
      "38\n",
      "3.132521152496338\n",
      "39\n",
      "1.9484467506408691\n",
      "40\n",
      "2.9068307876586914\n",
      "41\n",
      "4.9978108406066895\n",
      "42\n",
      "2.4337704181671143\n",
      "43\n",
      "1.7695157527923584\n",
      "44\n",
      "2.5803637504577637\n",
      "45\n",
      "7.1128551959991455\n",
      "46\n",
      "10.880067825317383\n",
      "47\n",
      "2.668125867843628\n",
      "48\n",
      "2.6728930473327637\n",
      "49\n",
      "4.092592239379883\n",
      "50\n",
      "3.5923540592193604\n",
      "51\n",
      "2.4749996662139893\n",
      "52\n",
      "2.0271642208099365\n",
      "53\n",
      "2.421658754348755\n",
      "54\n",
      "3.2972655296325684\n",
      "55\n",
      "5.734467029571533\n",
      "56\n",
      "2.927427291870117\n",
      "57\n",
      "1.828751802444458\n",
      "58\n",
      "3.645779848098755\n",
      "59\n",
      "5.206282138824463\n",
      "Total Tokens: 22962\n",
      "Prompt Tokens: 14210\n",
      "Completion Tokens: 8752\n",
      "Total Cost (USD): $0.12304\n"
     ]
    }
   ],
   "source": [
    "with get_openai_callback() as cb:\n",
    "    t_irag_0 = time.time()\n",
    "    t_in = [None] * len(df)\n",
    "    index_responses = [None] * len(df)\n",
    "    for i, row in df.iterrows():\n",
    "        tn0 = time.time()\n",
    "        print(i)\n",
    "        response : policy_query_response = indexed_rag_retrieval_chain.invoke(row['Content'])\n",
    "        index_responses[i] = response.model_dump()\n",
    "        tn1 = time.time()\n",
    "        print(tn1 - tn0)\n",
    "        t_in[i] = tn1 - tn0\n",
    "        time.sleep(2) # prevent too many tokens process in short time that cause server blocks\n",
    "    t_irag_1 = time.time()\n",
    "\n",
    "    # Access token usage and cost\n",
    "    print(f\"Total Tokens: {cb.total_tokens}\")\n",
    "    print(f\"Prompt Tokens: {cb.prompt_tokens}\")\n",
    "    print(f\"Completion Tokens: {cb.completion_tokens}\")\n",
    "    print(f\"Total Cost (USD): ${cb.total_cost:.5f}\")"
   ]
  },
  {
   "cell_type": "markdown",
   "metadata": {},
   "source": [
    "time per query"
   ]
  },
  {
   "cell_type": "code",
   "execution_count": 279,
   "metadata": {},
   "outputs": [
    {
     "data": {
      "text/plain": [
       "3.4453583558400473"
      ]
     },
     "execution_count": 279,
     "metadata": {},
     "output_type": "execute_result"
    }
   ],
   "source": [
    "sum(t_in) / len(t_in)"
   ]
  },
  {
   "cell_type": "markdown",
   "metadata": {},
   "source": [
    "Saving for analysis, can also set up a db for logging alternatively, and additionally can use llm to further analyse the result using the log data in down stream"
   ]
  },
  {
   "cell_type": "code",
   "execution_count": 238,
   "metadata": {},
   "outputs": [],
   "source": [
    "\n",
    "import pickle\n",
    "with open(\"indexed_rag_response\", 'wb' ) as f:\n",
    "    pickle.dump({\"responses\": index_responses, \"t_n\": t_n, \"total_tokens\": cb.total_tokens,\n",
    "                 \"prompt_tokens\": cb.prompt_tokens, \"completion_tokens\": cb.completion_tokens,\n",
    "                 \"total_cost_(USD)\" : cb.total_cost}, f)    \n"
   ]
  },
  {
   "cell_type": "code",
   "execution_count": 242,
   "metadata": {},
   "outputs": [
    {
     "data": {
      "text/plain": [
       "{'analysis': 'The user is requesting a documentation of the decision-making process for AI deployments. This involves identifying the steps, criteria, and considerations involved in deciding how and when to deploy AI technologies. The policy document should outline the governance framework, roles and responsibilities, risk assessment procedures, ethical considerations, and compliance requirements related to AI deployments.',\n",
       " 'excerpts': ['\"The decision-making process for AI deployments involves several key steps: 1. Identifying the need for AI deployment based on business objectives and challenges. 2. Conducting a feasibility study to assess the technical, financial, and operational viability of the AI solution. 3. Evaluating potential risks and ethical implications associated with the AI deployment. 4. Engaging stakeholders from various departments to gather input and ensure alignment with organizational goals. 5. Developing a deployment plan that includes timelines, resources, and performance metrics. 6. Implementing the AI solution with a focus on transparency, accountability, and continuous monitoring. 7. Reviewing and updating the AI deployment strategy based on feedback and performance outcomes.\"'],\n",
       " 'reference': 'AI Deployment Policy, Section 4: Decision-Making Process',\n",
       " 'answer': 'The decision-making process for AI deployments is documented in the AI Deployment Policy, Section 4. It involves identifying the need for AI, conducting feasibility studies, evaluating risks and ethics, engaging stakeholders, developing a deployment plan, implementing the solution, and reviewing outcomes.',\n",
       " 'answer_is_based_on_citation': True,\n",
       " 'is_query_only': True}"
      ]
     },
     "execution_count": 242,
     "metadata": {},
     "output_type": "execute_result"
    }
   ],
   "source": [
    "index_responses[-1]"
   ]
  },
  {
   "cell_type": "code",
   "execution_count": 240,
   "metadata": {},
   "outputs": [],
   "source": [
    "answeable = [bool(len(r.get(\"excerpts\"))) and r.get(\"answer_is_based_on_citation\") and r.get(\"is_query_only\")  for r in index_responses]"
   ]
  },
  {
   "cell_type": "code",
   "execution_count": 252,
   "metadata": {},
   "outputs": [
    {
     "data": {
      "text/html": [
       "<div>\n",
       "<style scoped>\n",
       "    .dataframe tbody tr th:only-of-type {\n",
       "        vertical-align: middle;\n",
       "    }\n",
       "\n",
       "    .dataframe tbody tr th {\n",
       "        vertical-align: top;\n",
       "    }\n",
       "\n",
       "    .dataframe thead th {\n",
       "        text-align: right;\n",
       "    }\n",
       "</style>\n",
       "<table border=\"1\" class=\"dataframe\">\n",
       "  <thead>\n",
       "    <tr style=\"text-align: right;\">\n",
       "      <th></th>\n",
       "      <th>Category</th>\n",
       "      <th>Content</th>\n",
       "      <th>index_rag_responses</th>\n",
       "      <th>rag_responses</th>\n",
       "      <th>inmem_responses</th>\n",
       "      <th>expected_response</th>\n",
       "    </tr>\n",
       "  </thead>\n",
       "  <tbody>\n",
       "    <tr>\n",
       "      <th>0</th>\n",
       "      <td>Answerable Question</td>\n",
       "      <td>What are the principles of fairness outlined i...</td>\n",
       "      <td>True</td>\n",
       "      <td>True</td>\n",
       "      <td>True</td>\n",
       "      <td>True</td>\n",
       "    </tr>\n",
       "    <tr>\n",
       "      <th>1</th>\n",
       "      <td>Answerable Question</td>\n",
       "      <td>How does the company ensure data security duri...</td>\n",
       "      <td>True</td>\n",
       "      <td>True</td>\n",
       "      <td>True</td>\n",
       "      <td>True</td>\n",
       "    </tr>\n",
       "    <tr>\n",
       "      <th>2</th>\n",
       "      <td>Answerable Question</td>\n",
       "      <td>What methods are used to collect personal iden...</td>\n",
       "      <td>True</td>\n",
       "      <td>True</td>\n",
       "      <td>True</td>\n",
       "      <td>True</td>\n",
       "    </tr>\n",
       "    <tr>\n",
       "      <th>3</th>\n",
       "      <td>Answerable Question</td>\n",
       "      <td>Who oversees AI initiatives according to the M...</td>\n",
       "      <td>True</td>\n",
       "      <td>True</td>\n",
       "      <td>True</td>\n",
       "      <td>True</td>\n",
       "    </tr>\n",
       "    <tr>\n",
       "      <th>4</th>\n",
       "      <td>Answerable Question</td>\n",
       "      <td>What are the purposes of data collection as st...</td>\n",
       "      <td>True</td>\n",
       "      <td>True</td>\n",
       "      <td>True</td>\n",
       "      <td>True</td>\n",
       "    </tr>\n",
       "    <tr>\n",
       "      <th>5</th>\n",
       "      <td>Answerable Question</td>\n",
       "      <td>How does the AI Ethics Board address ethical c...</td>\n",
       "      <td>True</td>\n",
       "      <td>True</td>\n",
       "      <td>True</td>\n",
       "      <td>True</td>\n",
       "    </tr>\n",
       "    <tr>\n",
       "      <th>6</th>\n",
       "      <td>Answerable Question</td>\n",
       "      <td>What does non-discrimination mean in the conte...</td>\n",
       "      <td>True</td>\n",
       "      <td>True</td>\n",
       "      <td>True</td>\n",
       "      <td>True</td>\n",
       "    </tr>\n",
       "    <tr>\n",
       "      <th>7</th>\n",
       "      <td>Answerable Question</td>\n",
       "      <td>How is transparency ensured in AI decision-mak...</td>\n",
       "      <td>True</td>\n",
       "      <td>True</td>\n",
       "      <td>True</td>\n",
       "      <td>True</td>\n",
       "    </tr>\n",
       "    <tr>\n",
       "      <th>8</th>\n",
       "      <td>Answerable Question</td>\n",
       "      <td>What are the consequences of violating the AI ...</td>\n",
       "      <td>True</td>\n",
       "      <td>True</td>\n",
       "      <td>True</td>\n",
       "      <td>True</td>\n",
       "    </tr>\n",
       "    <tr>\n",
       "      <th>9</th>\n",
       "      <td>Answerable Question</td>\n",
       "      <td>What data storage locations are mentioned in t...</td>\n",
       "      <td>True</td>\n",
       "      <td>True</td>\n",
       "      <td>True</td>\n",
       "      <td>True</td>\n",
       "    </tr>\n",
       "    <tr>\n",
       "      <th>10</th>\n",
       "      <td>Answerable Question</td>\n",
       "      <td>What is the role of the AI Governance Board in...</td>\n",
       "      <td>True</td>\n",
       "      <td>True</td>\n",
       "      <td>True</td>\n",
       "      <td>True</td>\n",
       "    </tr>\n",
       "    <tr>\n",
       "      <th>11</th>\n",
       "      <td>Answerable Question</td>\n",
       "      <td>What procedures are followed for ethical risk ...</td>\n",
       "      <td>True</td>\n",
       "      <td>True</td>\n",
       "      <td>True</td>\n",
       "      <td>True</td>\n",
       "    </tr>\n",
       "    <tr>\n",
       "      <th>12</th>\n",
       "      <td>Answerable Question</td>\n",
       "      <td>What are the rights of data subjects in relati...</td>\n",
       "      <td>True</td>\n",
       "      <td>True</td>\n",
       "      <td>True</td>\n",
       "      <td>True</td>\n",
       "    </tr>\n",
       "    <tr>\n",
       "      <th>13</th>\n",
       "      <td>Answerable Question</td>\n",
       "      <td>How often is the AI Ethics Policy reviewed and...</td>\n",
       "      <td>True</td>\n",
       "      <td>True</td>\n",
       "      <td>True</td>\n",
       "      <td>True</td>\n",
       "    </tr>\n",
       "    <tr>\n",
       "      <th>14</th>\n",
       "      <td>Answerable Question</td>\n",
       "      <td>What measures are taken for regular security a...</td>\n",
       "      <td>True</td>\n",
       "      <td>True</td>\n",
       "      <td>True</td>\n",
       "      <td>True</td>\n",
       "    </tr>\n",
       "    <tr>\n",
       "      <th>15</th>\n",
       "      <td>Answerable Question</td>\n",
       "      <td>What training programs are provided for AI eth...</td>\n",
       "      <td>True</td>\n",
       "      <td>True</td>\n",
       "      <td>True</td>\n",
       "      <td>True</td>\n",
       "    </tr>\n",
       "    <tr>\n",
       "      <th>16</th>\n",
       "      <td>Answerable Question</td>\n",
       "      <td>How does the company handle anonymous ethics v...</td>\n",
       "      <td>True</td>\n",
       "      <td>True</td>\n",
       "      <td>True</td>\n",
       "      <td>True</td>\n",
       "    </tr>\n",
       "    <tr>\n",
       "      <th>17</th>\n",
       "      <td>Answerable Question</td>\n",
       "      <td>What is the purpose of AI model testing and va...</td>\n",
       "      <td>True</td>\n",
       "      <td>True</td>\n",
       "      <td>True</td>\n",
       "      <td>True</td>\n",
       "    </tr>\n",
       "    <tr>\n",
       "      <th>18</th>\n",
       "      <td>Answerable Question</td>\n",
       "      <td>What are the guidelines for data retention in ...</td>\n",
       "      <td>True</td>\n",
       "      <td>True</td>\n",
       "      <td>True</td>\n",
       "      <td>True</td>\n",
       "    </tr>\n",
       "    <tr>\n",
       "      <th>19</th>\n",
       "      <td>Answerable Question</td>\n",
       "      <td>What is the process for auditing AI algorithms...</td>\n",
       "      <td>True</td>\n",
       "      <td>True</td>\n",
       "      <td>True</td>\n",
       "      <td>True</td>\n",
       "    </tr>\n",
       "    <tr>\n",
       "      <th>20</th>\n",
       "      <td>Unanswerable Question</td>\n",
       "      <td>What is the AI model used in the latest produc...</td>\n",
       "      <td>False</td>\n",
       "      <td>True</td>\n",
       "      <td>True</td>\n",
       "      <td>False</td>\n",
       "    </tr>\n",
       "    <tr>\n",
       "      <th>21</th>\n",
       "      <td>Unanswerable Question</td>\n",
       "      <td>How many employees work on AI projects globally?</td>\n",
       "      <td>False</td>\n",
       "      <td>True</td>\n",
       "      <td>False</td>\n",
       "      <td>False</td>\n",
       "    </tr>\n",
       "    <tr>\n",
       "      <th>22</th>\n",
       "      <td>Unanswerable Question</td>\n",
       "      <td>What specific algorithms are employed for AI m...</td>\n",
       "      <td>False</td>\n",
       "      <td>True</td>\n",
       "      <td>False</td>\n",
       "      <td>False</td>\n",
       "    </tr>\n",
       "    <tr>\n",
       "      <th>23</th>\n",
       "      <td>Unanswerable Question</td>\n",
       "      <td>Who are the company’s top competitors in AI de...</td>\n",
       "      <td>False</td>\n",
       "      <td>False</td>\n",
       "      <td>False</td>\n",
       "      <td>False</td>\n",
       "    </tr>\n",
       "    <tr>\n",
       "      <th>24</th>\n",
       "      <td>Unanswerable Question</td>\n",
       "      <td>What are the exact financial figures for AI re...</td>\n",
       "      <td>False</td>\n",
       "      <td>False</td>\n",
       "      <td>False</td>\n",
       "      <td>False</td>\n",
       "    </tr>\n",
       "    <tr>\n",
       "      <th>25</th>\n",
       "      <td>Unanswerable Question</td>\n",
       "      <td>How many cases of data breaches have occurred ...</td>\n",
       "      <td>False</td>\n",
       "      <td>True</td>\n",
       "      <td>False</td>\n",
       "      <td>False</td>\n",
       "    </tr>\n",
       "    <tr>\n",
       "      <th>26</th>\n",
       "      <td>Unanswerable Question</td>\n",
       "      <td>What are the future product plans involving AI...</td>\n",
       "      <td>False</td>\n",
       "      <td>True</td>\n",
       "      <td>False</td>\n",
       "      <td>False</td>\n",
       "    </tr>\n",
       "    <tr>\n",
       "      <th>27</th>\n",
       "      <td>Unanswerable Question</td>\n",
       "      <td>Which countries contribute the most to data co...</td>\n",
       "      <td>False</td>\n",
       "      <td>True</td>\n",
       "      <td>True</td>\n",
       "      <td>False</td>\n",
       "    </tr>\n",
       "    <tr>\n",
       "      <th>28</th>\n",
       "      <td>Unanswerable Question</td>\n",
       "      <td>What are the unpublished ethical dilemmas face...</td>\n",
       "      <td>False</td>\n",
       "      <td>True</td>\n",
       "      <td>False</td>\n",
       "      <td>False</td>\n",
       "    </tr>\n",
       "    <tr>\n",
       "      <th>29</th>\n",
       "      <td>Unanswerable Question</td>\n",
       "      <td>How does the company plan to use AI in five ye...</td>\n",
       "      <td>False</td>\n",
       "      <td>True</td>\n",
       "      <td>True</td>\n",
       "      <td>False</td>\n",
       "    </tr>\n",
       "    <tr>\n",
       "      <th>30</th>\n",
       "      <td>Unanswerable Question</td>\n",
       "      <td>Who are the individual members of the AI Ethic...</td>\n",
       "      <td>False</td>\n",
       "      <td>True</td>\n",
       "      <td>True</td>\n",
       "      <td>False</td>\n",
       "    </tr>\n",
       "    <tr>\n",
       "      <th>31</th>\n",
       "      <td>Unanswerable Question</td>\n",
       "      <td>What is the undisclosed data-sharing agreement...</td>\n",
       "      <td>False</td>\n",
       "      <td>True</td>\n",
       "      <td>True</td>\n",
       "      <td>False</td>\n",
       "    </tr>\n",
       "    <tr>\n",
       "      <th>32</th>\n",
       "      <td>Unanswerable Question</td>\n",
       "      <td>What are the internal strategies for regulator...</td>\n",
       "      <td>True</td>\n",
       "      <td>True</td>\n",
       "      <td>False</td>\n",
       "      <td>False</td>\n",
       "    </tr>\n",
       "    <tr>\n",
       "      <th>33</th>\n",
       "      <td>Unanswerable Question</td>\n",
       "      <td>Which AI projects have been terminated and why?</td>\n",
       "      <td>False</td>\n",
       "      <td>True</td>\n",
       "      <td>True</td>\n",
       "      <td>False</td>\n",
       "    </tr>\n",
       "    <tr>\n",
       "      <th>34</th>\n",
       "      <td>Unanswerable Question</td>\n",
       "      <td>What is the company’s profit margin from AI-dr...</td>\n",
       "      <td>False</td>\n",
       "      <td>True</td>\n",
       "      <td>False</td>\n",
       "      <td>False</td>\n",
       "    </tr>\n",
       "    <tr>\n",
       "      <th>35</th>\n",
       "      <td>Unanswerable Question</td>\n",
       "      <td>How does the company plan to handle quantum co...</td>\n",
       "      <td>False</td>\n",
       "      <td>True</td>\n",
       "      <td>False</td>\n",
       "      <td>False</td>\n",
       "    </tr>\n",
       "    <tr>\n",
       "      <th>36</th>\n",
       "      <td>Unanswerable Question</td>\n",
       "      <td>What are the details of future acquisitions fo...</td>\n",
       "      <td>True</td>\n",
       "      <td>True</td>\n",
       "      <td>False</td>\n",
       "      <td>False</td>\n",
       "    </tr>\n",
       "    <tr>\n",
       "      <th>37</th>\n",
       "      <td>Unanswerable Question</td>\n",
       "      <td>Who are the anonymous whistleblowers for polic...</td>\n",
       "      <td>True</td>\n",
       "      <td>True</td>\n",
       "      <td>True</td>\n",
       "      <td>False</td>\n",
       "    </tr>\n",
       "    <tr>\n",
       "      <th>38</th>\n",
       "      <td>Unanswerable Question</td>\n",
       "      <td>What are the specifics of internal AI performa...</td>\n",
       "      <td>True</td>\n",
       "      <td>True</td>\n",
       "      <td>True</td>\n",
       "      <td>False</td>\n",
       "    </tr>\n",
       "    <tr>\n",
       "      <th>39</th>\n",
       "      <td>Unanswerable Question</td>\n",
       "      <td>How much data does the company process daily i...</td>\n",
       "      <td>False</td>\n",
       "      <td>True</td>\n",
       "      <td>False</td>\n",
       "      <td>False</td>\n",
       "    </tr>\n",
       "    <tr>\n",
       "      <th>40</th>\n",
       "      <td>Statement</td>\n",
       "      <td>The AI Ethics Policy emphasizes fairness and t...</td>\n",
       "      <td>False</td>\n",
       "      <td>True</td>\n",
       "      <td>True</td>\n",
       "      <td>False</td>\n",
       "    </tr>\n",
       "    <tr>\n",
       "      <th>41</th>\n",
       "      <td>Statement</td>\n",
       "      <td>Data privacy is a top priority for the company.</td>\n",
       "      <td>False</td>\n",
       "      <td>False</td>\n",
       "      <td>False</td>\n",
       "      <td>False</td>\n",
       "    </tr>\n",
       "    <tr>\n",
       "      <th>42</th>\n",
       "      <td>Statement</td>\n",
       "      <td>The company uses encrypted data storage methods.</td>\n",
       "      <td>False</td>\n",
       "      <td>False</td>\n",
       "      <td>False</td>\n",
       "      <td>False</td>\n",
       "    </tr>\n",
       "    <tr>\n",
       "      <th>43</th>\n",
       "      <td>Statement</td>\n",
       "      <td>AI models are subject to regular performance m...</td>\n",
       "      <td>False</td>\n",
       "      <td>False</td>\n",
       "      <td>False</td>\n",
       "      <td>False</td>\n",
       "    </tr>\n",
       "    <tr>\n",
       "      <th>44</th>\n",
       "      <td>Statement</td>\n",
       "      <td>The Model Governance Policy outlines roles and...</td>\n",
       "      <td>False</td>\n",
       "      <td>False</td>\n",
       "      <td>True</td>\n",
       "      <td>False</td>\n",
       "    </tr>\n",
       "    <tr>\n",
       "      <th>45</th>\n",
       "      <td>Statement</td>\n",
       "      <td>Regular audits ensure compliance with AI ethic...</td>\n",
       "      <td>False</td>\n",
       "      <td>False</td>\n",
       "      <td>False</td>\n",
       "      <td>False</td>\n",
       "    </tr>\n",
       "    <tr>\n",
       "      <th>46</th>\n",
       "      <td>Statement</td>\n",
       "      <td>Data subjects have the right to access and cor...</td>\n",
       "      <td>False</td>\n",
       "      <td>False</td>\n",
       "      <td>False</td>\n",
       "      <td>False</td>\n",
       "    </tr>\n",
       "    <tr>\n",
       "      <th>47</th>\n",
       "      <td>Statement</td>\n",
       "      <td>Risk management is crucial for ethical AI prac...</td>\n",
       "      <td>False</td>\n",
       "      <td>False</td>\n",
       "      <td>False</td>\n",
       "      <td>False</td>\n",
       "    </tr>\n",
       "    <tr>\n",
       "      <th>48</th>\n",
       "      <td>Statement</td>\n",
       "      <td>The company commits to non-discrimination in A...</td>\n",
       "      <td>False</td>\n",
       "      <td>False</td>\n",
       "      <td>False</td>\n",
       "      <td>False</td>\n",
       "    </tr>\n",
       "    <tr>\n",
       "      <th>49</th>\n",
       "      <td>Statement</td>\n",
       "      <td>Annual reviews of policies keep them up to dat...</td>\n",
       "      <td>False</td>\n",
       "      <td>False</td>\n",
       "      <td>False</td>\n",
       "      <td>False</td>\n",
       "    </tr>\n",
       "    <tr>\n",
       "      <th>50</th>\n",
       "      <td>Request</td>\n",
       "      <td>Please review the ethical risk assessment tool...</td>\n",
       "      <td>False</td>\n",
       "      <td>False</td>\n",
       "      <td>False</td>\n",
       "      <td>False</td>\n",
       "    </tr>\n",
       "    <tr>\n",
       "      <th>51</th>\n",
       "      <td>Request</td>\n",
       "      <td>Ensure that all AI models are audited for bias...</td>\n",
       "      <td>False</td>\n",
       "      <td>False</td>\n",
       "      <td>False</td>\n",
       "      <td>False</td>\n",
       "    </tr>\n",
       "    <tr>\n",
       "      <th>52</th>\n",
       "      <td>Request</td>\n",
       "      <td>Update the team on new data privacy regulations.</td>\n",
       "      <td>False</td>\n",
       "      <td>False</td>\n",
       "      <td>False</td>\n",
       "      <td>False</td>\n",
       "    </tr>\n",
       "    <tr>\n",
       "      <th>53</th>\n",
       "      <td>Request</td>\n",
       "      <td>Schedule a training session on AI ethics for t...</td>\n",
       "      <td>False</td>\n",
       "      <td>False</td>\n",
       "      <td>False</td>\n",
       "      <td>False</td>\n",
       "    </tr>\n",
       "    <tr>\n",
       "      <th>54</th>\n",
       "      <td>Request</td>\n",
       "      <td>Submit the annual ethics report to the AI Gove...</td>\n",
       "      <td>False</td>\n",
       "      <td>False</td>\n",
       "      <td>False</td>\n",
       "      <td>False</td>\n",
       "    </tr>\n",
       "    <tr>\n",
       "      <th>55</th>\n",
       "      <td>Request</td>\n",
       "      <td>Implement stricter access controls for sensiti...</td>\n",
       "      <td>False</td>\n",
       "      <td>False</td>\n",
       "      <td>False</td>\n",
       "      <td>False</td>\n",
       "    </tr>\n",
       "    <tr>\n",
       "      <th>56</th>\n",
       "      <td>Request</td>\n",
       "      <td>Report any violations of the data privacy poli...</td>\n",
       "      <td>False</td>\n",
       "      <td>False</td>\n",
       "      <td>False</td>\n",
       "      <td>False</td>\n",
       "    </tr>\n",
       "    <tr>\n",
       "      <th>57</th>\n",
       "      <td>Request</td>\n",
       "      <td>Prepare a summary of the latest model governan...</td>\n",
       "      <td>False</td>\n",
       "      <td>True</td>\n",
       "      <td>True</td>\n",
       "      <td>False</td>\n",
       "    </tr>\n",
       "    <tr>\n",
       "      <th>58</th>\n",
       "      <td>Request</td>\n",
       "      <td>Arrange for a third-party audit of the AI syst...</td>\n",
       "      <td>False</td>\n",
       "      <td>False</td>\n",
       "      <td>False</td>\n",
       "      <td>False</td>\n",
       "    </tr>\n",
       "    <tr>\n",
       "      <th>59</th>\n",
       "      <td>Request</td>\n",
       "      <td>Update the document the decision-making proces...</td>\n",
       "      <td>True</td>\n",
       "      <td>True</td>\n",
       "      <td>True</td>\n",
       "      <td>False</td>\n",
       "    </tr>\n",
       "  </tbody>\n",
       "</table>\n",
       "</div>"
      ],
      "text/plain": [
       "                 Category                                            Content  \\\n",
       "0     Answerable Question  What are the principles of fairness outlined i...   \n",
       "1     Answerable Question  How does the company ensure data security duri...   \n",
       "2     Answerable Question  What methods are used to collect personal iden...   \n",
       "3     Answerable Question  Who oversees AI initiatives according to the M...   \n",
       "4     Answerable Question  What are the purposes of data collection as st...   \n",
       "5     Answerable Question  How does the AI Ethics Board address ethical c...   \n",
       "6     Answerable Question  What does non-discrimination mean in the conte...   \n",
       "7     Answerable Question  How is transparency ensured in AI decision-mak...   \n",
       "8     Answerable Question  What are the consequences of violating the AI ...   \n",
       "9     Answerable Question  What data storage locations are mentioned in t...   \n",
       "10    Answerable Question  What is the role of the AI Governance Board in...   \n",
       "11    Answerable Question  What procedures are followed for ethical risk ...   \n",
       "12    Answerable Question  What are the rights of data subjects in relati...   \n",
       "13    Answerable Question  How often is the AI Ethics Policy reviewed and...   \n",
       "14    Answerable Question  What measures are taken for regular security a...   \n",
       "15    Answerable Question  What training programs are provided for AI eth...   \n",
       "16    Answerable Question  How does the company handle anonymous ethics v...   \n",
       "17    Answerable Question  What is the purpose of AI model testing and va...   \n",
       "18    Answerable Question  What are the guidelines for data retention in ...   \n",
       "19    Answerable Question  What is the process for auditing AI algorithms...   \n",
       "20  Unanswerable Question  What is the AI model used in the latest produc...   \n",
       "21  Unanswerable Question   How many employees work on AI projects globally?   \n",
       "22  Unanswerable Question  What specific algorithms are employed for AI m...   \n",
       "23  Unanswerable Question  Who are the company’s top competitors in AI de...   \n",
       "24  Unanswerable Question  What are the exact financial figures for AI re...   \n",
       "25  Unanswerable Question  How many cases of data breaches have occurred ...   \n",
       "26  Unanswerable Question  What are the future product plans involving AI...   \n",
       "27  Unanswerable Question  Which countries contribute the most to data co...   \n",
       "28  Unanswerable Question  What are the unpublished ethical dilemmas face...   \n",
       "29  Unanswerable Question  How does the company plan to use AI in five ye...   \n",
       "30  Unanswerable Question  Who are the individual members of the AI Ethic...   \n",
       "31  Unanswerable Question  What is the undisclosed data-sharing agreement...   \n",
       "32  Unanswerable Question  What are the internal strategies for regulator...   \n",
       "33  Unanswerable Question    Which AI projects have been terminated and why?   \n",
       "34  Unanswerable Question  What is the company’s profit margin from AI-dr...   \n",
       "35  Unanswerable Question  How does the company plan to handle quantum co...   \n",
       "36  Unanswerable Question  What are the details of future acquisitions fo...   \n",
       "37  Unanswerable Question  Who are the anonymous whistleblowers for polic...   \n",
       "38  Unanswerable Question  What are the specifics of internal AI performa...   \n",
       "39  Unanswerable Question  How much data does the company process daily i...   \n",
       "40              Statement  The AI Ethics Policy emphasizes fairness and t...   \n",
       "41              Statement    Data privacy is a top priority for the company.   \n",
       "42              Statement   The company uses encrypted data storage methods.   \n",
       "43              Statement  AI models are subject to regular performance m...   \n",
       "44              Statement  The Model Governance Policy outlines roles and...   \n",
       "45              Statement  Regular audits ensure compliance with AI ethic...   \n",
       "46              Statement  Data subjects have the right to access and cor...   \n",
       "47              Statement  Risk management is crucial for ethical AI prac...   \n",
       "48              Statement  The company commits to non-discrimination in A...   \n",
       "49              Statement  Annual reviews of policies keep them up to dat...   \n",
       "50                Request  Please review the ethical risk assessment tool...   \n",
       "51                Request  Ensure that all AI models are audited for bias...   \n",
       "52                Request   Update the team on new data privacy regulations.   \n",
       "53                Request  Schedule a training session on AI ethics for t...   \n",
       "54                Request  Submit the annual ethics report to the AI Gove...   \n",
       "55                Request  Implement stricter access controls for sensiti...   \n",
       "56                Request  Report any violations of the data privacy poli...   \n",
       "57                Request  Prepare a summary of the latest model governan...   \n",
       "58                Request  Arrange for a third-party audit of the AI syst...   \n",
       "59                Request  Update the document the decision-making proces...   \n",
       "\n",
       "    index_rag_responses  rag_responses  inmem_responses  expected_response  \n",
       "0                  True           True             True               True  \n",
       "1                  True           True             True               True  \n",
       "2                  True           True             True               True  \n",
       "3                  True           True             True               True  \n",
       "4                  True           True             True               True  \n",
       "5                  True           True             True               True  \n",
       "6                  True           True             True               True  \n",
       "7                  True           True             True               True  \n",
       "8                  True           True             True               True  \n",
       "9                  True           True             True               True  \n",
       "10                 True           True             True               True  \n",
       "11                 True           True             True               True  \n",
       "12                 True           True             True               True  \n",
       "13                 True           True             True               True  \n",
       "14                 True           True             True               True  \n",
       "15                 True           True             True               True  \n",
       "16                 True           True             True               True  \n",
       "17                 True           True             True               True  \n",
       "18                 True           True             True               True  \n",
       "19                 True           True             True               True  \n",
       "20                False           True             True              False  \n",
       "21                False           True            False              False  \n",
       "22                False           True            False              False  \n",
       "23                False          False            False              False  \n",
       "24                False          False            False              False  \n",
       "25                False           True            False              False  \n",
       "26                False           True            False              False  \n",
       "27                False           True             True              False  \n",
       "28                False           True            False              False  \n",
       "29                False           True             True              False  \n",
       "30                False           True             True              False  \n",
       "31                False           True             True              False  \n",
       "32                 True           True            False              False  \n",
       "33                False           True             True              False  \n",
       "34                False           True            False              False  \n",
       "35                False           True            False              False  \n",
       "36                 True           True            False              False  \n",
       "37                 True           True             True              False  \n",
       "38                 True           True             True              False  \n",
       "39                False           True            False              False  \n",
       "40                False           True             True              False  \n",
       "41                False          False            False              False  \n",
       "42                False          False            False              False  \n",
       "43                False          False            False              False  \n",
       "44                False          False             True              False  \n",
       "45                False          False            False              False  \n",
       "46                False          False            False              False  \n",
       "47                False          False            False              False  \n",
       "48                False          False            False              False  \n",
       "49                False          False            False              False  \n",
       "50                False          False            False              False  \n",
       "51                False          False            False              False  \n",
       "52                False          False            False              False  \n",
       "53                False          False            False              False  \n",
       "54                False          False            False              False  \n",
       "55                False          False            False              False  \n",
       "56                False          False            False              False  \n",
       "57                False           True             True              False  \n",
       "58                False          False            False              False  \n",
       "59                 True           True             True              False  "
      ]
     },
     "execution_count": 252,
     "metadata": {},
     "output_type": "execute_result"
    }
   ],
   "source": [
    "df"
   ]
  },
  {
   "cell_type": "code",
   "execution_count": 251,
   "metadata": {},
   "outputs": [],
   "source": [
    "df[\"index_rag_responses\"] = [bool(len(r.get(\"excerpts\"))) and r.get(\"answer_is_based_on_citation\") and r.get(\"is_query_only\")  for r in index_responses]\n",
    "df[\"rag_responses\"] = [bool(len(r.get(\"excerpts\"))) and r.get(\"answer_is_based_on_citation\") and r.get(\"is_query_only\")  for r in responses]\n",
    "df[\"inmem_responses\"] = [bool(len(r.get(\"excerpts\"))) and r.get(\"answer_is_based_on_citation\") and r.get(\"is_query_only\")  for r in inmem_responses]\n",
    "df[\"expected_response\"] = df['Category'] == \"Answerable Question\""
   ]
  },
  {
   "cell_type": "markdown",
   "metadata": {},
   "source": [
    "One of the issue is that the False Positive has much bigger impact and the 'usual' precision and \"recall\" and ROC are often over exaggerated on their importance.\n",
    "To see the False-positive cases, we can see the confusion matrix. "
   ]
  },
  {
   "cell_type": "code",
   "execution_count": null,
   "metadata": {},
   "outputs": [],
   "source": [
    "!pip install scikit-learn"
   ]
  },
  {
   "cell_type": "markdown",
   "metadata": {},
   "source": [
    "#### We calculate the confusion matrix"
   ]
  },
  {
   "cell_type": "code",
   "execution_count": 255,
   "metadata": {},
   "outputs": [],
   "source": [
    "from sklearn.metrics import confusion_matrix"
   ]
  },
  {
   "cell_type": "code",
   "execution_count": 259,
   "metadata": {},
   "outputs": [
    {
     "name": "stdout",
     "output_type": "stream",
     "text": [
      "in memory Confusion Matrix:\n",
      "[[28 12]\n",
      " [ 0 20]]\n",
      "28 12 0 20\n"
     ]
    }
   ],
   "source": [
    "in_mem_conf_matrix = confusion_matrix(df['expected_response'], df['inmem_responses'])\n",
    "print(\"in memory Confusion Matrix:\")\n",
    "print(in_mem_conf_matrix)\n",
    "tn, fp, fn, tp = confusion_matrix(df['expected_response'], df['inmem_responses']).ravel()\n",
    "print(tn, fp, fn, tp )"
   ]
  },
  {
   "cell_type": "code",
   "execution_count": 260,
   "metadata": {},
   "outputs": [
    {
     "name": "stdout",
     "output_type": "stream",
     "text": [
      "rag Confusion Matrix:\n",
      "[[19 21]\n",
      " [ 0 20]]\n",
      "19 21 0 20\n"
     ]
    }
   ],
   "source": [
    "in_mem_conf_matrix = confusion_matrix(df['expected_response'], df['rag_responses'])\n",
    "print(\"rag Confusion Matrix:\")\n",
    "print(in_mem_conf_matrix)\n",
    "tn, fp, fn, tp = confusion_matrix(df['expected_response'], df['rag_responses']).ravel()\n",
    "print(tn, fp, fn, tp )"
   ]
  },
  {
   "cell_type": "code",
   "execution_count": 261,
   "metadata": {},
   "outputs": [
    {
     "name": "stdout",
     "output_type": "stream",
     "text": [
      "indexed Confusion Matrix:\n",
      "[[35  5]\n",
      " [ 0 20]]\n",
      "35 5 0 20\n"
     ]
    }
   ],
   "source": [
    "index_rag_conf_matrix = confusion_matrix(df['expected_response'], df['index_rag_responses'])\n",
    "print(\"indexed Confusion Matrix:\")\n",
    "print(in_mem_conf_matrix)\n",
    "tn, fp, fn, tp = confusion_matrix(df['expected_response'], df['index_rag_responses']).ravel()\n",
    "print(tn, fp, fn, tp )"
   ]
  },
  {
   "cell_type": "markdown",
   "metadata": {},
   "source": [
    "Remember to shudown the vectorstore server after all"
   ]
  },
  {
   "cell_type": "code",
   "execution_count": null,
   "metadata": {},
   "outputs": [],
   "source": [
    "process.terminate()"
   ]
  }
 ],
 "metadata": {
  "kernelspec": {
   "display_name": ".venv",
   "language": "python",
   "name": "python3"
  },
  "language_info": {
   "codemirror_mode": {
    "name": "ipython",
    "version": 3
   },
   "file_extension": ".py",
   "mimetype": "text/x-python",
   "name": "python",
   "nbconvert_exporter": "python",
   "pygments_lexer": "ipython3",
   "version": "3.10.14"
  }
 },
 "nbformat": 4,
 "nbformat_minor": 2
}
